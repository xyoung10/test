{
 "cells": [
  {
   "cell_type": "markdown",
   "metadata": {},
   "source": [
    "#   <center>Python基础操作"
   ]
  },
  {
   "cell_type": "markdown",
   "metadata": {},
   "source": [
    "> ## 目录\n",
    ">1. [第一个程序](#1.第一个Python程序)\n",
    ">1. [标识符](#2.标识符)\n",
    ">1. [保留字符](#3.保留字符)\n",
    ">1. [python变量](#4.变量)\n",
    ">1. [数据类型](#5.数据类型)\n",
    ">1. [运算符](#6.运算符)\n",
    ">1. [行和缩进](#7.行和缩进)\n",
    ">1. [多行](#8.多行)\n",
    ">1. [引入模块](#9.引入模块)"
   ]
  },
  {
   "cell_type": "markdown",
   "metadata": {},
   "source": [
    "PS.在开始python基础语法的学习前， 请打开Jupyter Notebook，创建一个python文档"
   ]
  },
  {
   "cell_type": "markdown",
   "metadata": {},
   "source": [
    ">## 1.第一个Python程序\n",
    "[返回目录](#目录)"
   ]
  },
  {
   "cell_type": "markdown",
   "metadata": {},
   "source": [
    "今天从第一个程序开始说起，试着在单元格内写下: <b>print('Hello World')</b> (注意：print全是<b>小写字母</b>)。  \n",
    "写好后，敲[Ctrl+Enter]或[Shift+Enter] Mac用户为:[Command+Enter]"
   ]
  },
  {
   "cell_type": "code",
   "execution_count": 1,
   "metadata": {},
   "outputs": [
    {
     "name": "stdout",
     "output_type": "stream",
     "text": [
      "Hello World\n"
     ]
    }
   ],
   "source": [
    "print('Hello World') "
   ]
  },
  {
   "cell_type": "markdown",
   "metadata": {},
   "source": [
    "可以看到, 电脑给我们输出了一个“Hello World”。"
   ]
  },
  {
   "cell_type": "markdown",
   "metadata": {},
   "source": [
    "### 1.1输出"
   ]
  },
  {
   "cell_type": "markdown",
   "metadata": {},
   "source": [
    "以上是print()语句的一个示例。   \n",
    "print, 中文意思是打印, 在 python 里它不是往纸上打印，而是打印在命令行, 或者叫终端、控制台里面。  \n",
    "print的基本格式是："
   ]
  },
  {
   "cell_type": "code",
   "execution_count": 2,
   "metadata": {},
   "outputs": [
    {
     "ename": "NameError",
     "evalue": "name '你要打印的东西' is not defined",
     "output_type": "error",
     "traceback": [
      "\u001b[1;31m---------------------------------------------------------------------------\u001b[0m",
      "\u001b[1;31mNameError\u001b[0m                                 Traceback (most recent call last)",
      "\u001b[1;32m<ipython-input-2-1d0543e72551>\u001b[0m in \u001b[0;36m<module>\u001b[1;34m\u001b[0m\n\u001b[1;32m----> 1\u001b[1;33m \u001b[0mprint\u001b[0m\u001b[1;33m(\u001b[0m\u001b[0m你要打印的东西\u001b[0m\u001b[1;33m)\u001b[0m\u001b[1;33m\u001b[0m\u001b[1;33m\u001b[0m\u001b[0m\n\u001b[0m",
      "\u001b[1;31mNameError\u001b[0m: name '你要打印的东西' is not defined"
     ]
    }
   ],
   "source": [
    "print(你要打印的东西)"
   ]
  },
  {
   "cell_type": "markdown",
   "metadata": {},
   "source": [
    "所有程序中出现的符号都必须是英文字符, 中文的字符python是识别不出来的. 所以这里一定要英文字符的括号. 直接在print后面加一段文字来输出的话, 需要给文字加上双引号或者单引号, 除此之外的数字、计算式, 还有我们之后会提到的变量, 都不要加引号. 例如:"
   ]
  },
  {
   "cell_type": "code",
   "execution_count": null,
   "metadata": {},
   "outputs": [],
   "source": [
    "print(39.445)\n",
    "\n",
    "print(1+4)"
   ]
  },
  {
   "cell_type": "markdown",
   "metadata": {},
   "source": [
    "如上: print 默认输出是换行的, 如果想实现不换行需要在变量末尾加上逗号“,”"
   ]
  },
  {
   "cell_type": "code",
   "execution_count": 3,
   "metadata": {},
   "outputs": [
    {
     "name": "stdout",
     "output_type": "stream",
     "text": [
      "300033 601788\n"
     ]
    }
   ],
   "source": [
    "print(300033,601788)"
   ]
  },
  {
   "cell_type": "markdown",
   "metadata": {},
   "source": [
    "再试试两个命令行之间加逗号"
   ]
  },
  {
   "cell_type": "code",
   "execution_count": 4,
   "metadata": {
    "scrolled": true
   },
   "outputs": [
    {
     "name": "stdout",
     "output_type": "stream",
     "text": [
      "300033\n",
      "601788\n"
     ]
    }
   ],
   "source": [
    "print(300033),\n",
    "print(601788)"
   ]
  },
  {
   "cell_type": "markdown",
   "metadata": {},
   "source": [
    "print()语句也可以跟上多个字符串, 用英文逗号“,”隔开, 就可以连成一串输出："
   ]
  },
  {
   "cell_type": "code",
   "execution_count": 5,
   "metadata": {
    "scrolled": true
   },
   "outputs": [
    {
     "name": "stdout",
     "output_type": "stream",
     "text": [
      "上证指数收盘 3285.38 , 昨收 3305.41 下跌 20 点 ,震荡回调.\n"
     ]
    }
   ],
   "source": [
    "print('上证指数收盘', 3285.38, ',','昨收',3305.41,'下跌',3305-3285,'点',',''震荡回调.')"
   ]
  },
  {
   "cell_type": "markdown",
   "metadata": {},
   "source": [
    "该语句中, 有字符串‘上证指数收盘’, 有数字型3285.38, 也有计算式3305-3285."
   ]
  },
  {
   "cell_type": "markdown",
   "metadata": {},
   "source": [
    "### 1.2注释\n",
    "在python里, 以“#”开头的文字会被忽略, 不会被认为是可执行的代码. 因此, 当我们写下代码时, 可以自行添加注释便于理解:"
   ]
  },
  {
   "cell_type": "code",
   "execution_count": 6,
   "metadata": {},
   "outputs": [
    {
     "name": "stdout",
     "output_type": "stream",
     "text": [
      "hello world\n"
     ]
    }
   ],
   "source": [
    "print (\"hello world\")"
   ]
  },
  {
   "cell_type": "code",
   "execution_count": 7,
   "metadata": {},
   "outputs": [
    {
     "name": "stdout",
     "output_type": "stream",
     "text": [
      "hello world\n"
     ]
    }
   ],
   "source": [
    "print (\"hello world\")    #输出一行字"
   ]
  },
  {
   "cell_type": "markdown",
   "metadata": {},
   "source": [
    "这两行代码是同样的效果，但后者可以帮助开发者更好地理解代码，在之后的课里，我会常常使用#进行术语的解释.\n",
    "此外，python 中多行注释使用三个单引号 ''' 或三个双引号 \"\"\" :"
   ]
  },
  {
   "cell_type": "code",
   "execution_count": 8,
   "metadata": {},
   "outputs": [
    {
     "name": "stdout",
     "output_type": "stream",
     "text": [
      "300033\n"
     ]
    }
   ],
   "source": [
    "'''\n",
    "这是多行注释，使用单引号。\n",
    "这是多行注释，使用单引号。\n",
    "这是多行注释，使用单引号。\n",
    "'''\n",
    "\n",
    "\"\"\"\n",
    "在《巴菲特的alpha》文章里，后人把巴菲特的收益分成六个维度，分别是市场，估值，规模，动量，质量和波动率六个维度。\n",
    "我们今天就开始复现其中的原理，除去市场维度，我们从其他五个维度分别挑选因子，总共6个，组成6因子模型。  \n",
    "对于因子的处理，由于因子来自不同维度，所以无需进行降维或者因子正交处理来解决它的相关性问题，所以简单进行了去极值和标准化处理\n",
    "对于股票列表，已经进行剔除ST，上市未满60天的新股，停牌股和开盘涨停股\n",
    "对于打分方式：针对升序因子乘以-1；针对降序因子乘以1，最后进行叠加\n",
    "在择时方面，采用RSRS的方式对指数进行择时信号。\n",
    "资金规模在10000000，20日调仓，回测时间从2010-01-01到2018-11-08\n",
    "\"\"\"\n",
    "\n",
    "print(300033)"
   ]
  },
  {
   "cell_type": "markdown",
   "metadata": {},
   "source": [
    "### 1.3输入\n",
    "输入则是需要我们向命令行写东西，相似场景就像我们使用搜索框搜索某个词条  \n",
    "python有一个接收命令行下输入的方法："
   ]
  },
  {
   "cell_type": "code",
   "execution_count": 20,
   "metadata": {},
   "outputs": [
    {
     "name": "stdin",
     "output_type": "stream",
     "text": [
      " \n"
     ]
    },
    {
     "data": {
      "text/plain": [
       "''"
      ]
     },
     "execution_count": 20,
     "metadata": {},
     "output_type": "execute_result"
    }
   ],
   "source": [
    "input()   #注意，和 print 一样，必须得加上括号()"
   ]
  },
  {
   "cell_type": "markdown",
   "metadata": {},
   "source": [
    "input 不是提前代码里写死输入内容, 而是在程序运行时动态获取用户的输入. input的括号中可以编辑文字用于提醒使用者, 如:"
   ]
  },
  {
   "cell_type": "code",
   "execution_count": 22,
   "metadata": {},
   "outputs": [
    {
     "name": "stdin",
     "output_type": "stream",
     "text": [
      "输入任何一个A股的股票代码或名称 \n"
     ]
    },
    {
     "data": {
      "text/plain": [
       "''"
      ]
     },
     "execution_count": 22,
     "metadata": {},
     "output_type": "execute_result"
    }
   ],
   "source": [
    "input('输入任何一个A股的股票代码或名称')"
   ]
  },
  {
   "cell_type": "markdown",
   "metadata": {},
   "source": [
    "需要注意: py3里的input()得到的都是字符串. 如果输入了数字, 得到的也是含有这个数字的字符串, 而非数值."
   ]
  },
  {
   "cell_type": "markdown",
   "metadata": {},
   "source": [
    ">## 2.标识符\n",
    "[返回目录](#目录)"
   ]
  },
  {
   "cell_type": "markdown",
   "metadata": {},
   "source": [
    "在 Python 里, 标识符可包括字母、数字以及下划线(_), 也可以是中文甚至日文的平片假名(但是不推荐,因为不方便), 通俗来说标识符是用来给变量, 函数, 类等起名字的代码符号  \n",
    "需要注意:\n",
    "* Python 中的标识符是区分大小写的\n",
    "* 不能以数字开头,其他都可以\n",
    "* 不能是保留字\n",
    "* 以下划线开头的标识符是有特殊意义的(后续章节细说)"
   ]
  },
  {
   "cell_type": "code",
   "execution_count": 23,
   "metadata": {},
   "outputs": [
    {
     "ename": "SyntaxError",
     "evalue": "invalid syntax (<ipython-input-23-34de6733c764>, line 8)",
     "output_type": "error",
     "traceback": [
      "\u001b[1;36m  File \u001b[1;32m\"<ipython-input-23-34de6733c764>\"\u001b[1;36m, line \u001b[1;32m8\u001b[0m\n\u001b[1;33m    him$\u001b[0m\n\u001b[1;37m       ^\u001b[0m\n\u001b[1;31mSyntaxError\u001b[0m\u001b[1;31m:\u001b[0m invalid syntax\n"
     ]
    }
   ],
   "source": [
    "#举几个例子:\n",
    "指数\n",
    "stock\n",
    "account\n",
    "nasdaq_300\n",
    "\n",
    "#几个不合法的例子\n",
    "him$\n",
    "9var\n",
    "3000\n",
    "class"
   ]
  },
  {
   "cell_type": "markdown",
   "metadata": {},
   "source": [
    ">## 3.保留字符\n",
    "[返回目录](#目录)\n",
    "\n",
    "保留字符(关键字)与标识符对应, 下面的列表显示了在Python中的保留字符(关键字), 它们不能用作常数或变数, 或任何其他标识符名  \n",
    "<b>注意:所有 Python 的关键字只包含小写字母"
   ]
  },
  {
   "cell_type": "markdown",
   "metadata": {},
   "source": [
    "|pyhton|保留|字符|\n",
    "|-|-|-|\n",
    "|and       |or       |not    |\n",
    "|assert    |finally  |exec   |\n",
    "|break     |for      |pass   |\n",
    "|class     |from     |print  |\n",
    "|continue  |global   |raise  |\n",
    "|def       |if       |return |  \n",
    "|del       |import   |try    |\n",
    "|elif      |in       |while  |\n",
    "|else      |is       |with   |\n",
    "|expect    |lambda   |yield  |"
   ]
  },
  {
   "cell_type": "code",
   "execution_count": 24,
   "metadata": {},
   "outputs": [
    {
     "ename": "SyntaxError",
     "evalue": "invalid syntax (<ipython-input-24-6b6ae9b43a53>, line 2)",
     "output_type": "error",
     "traceback": [
      "\u001b[1;36m  File \u001b[1;32m\"<ipython-input-24-6b6ae9b43a53>\"\u001b[1;36m, line \u001b[1;32m2\u001b[0m\n\u001b[1;33m    and = 1\u001b[0m\n\u001b[1;37m    ^\u001b[0m\n\u001b[1;31mSyntaxError\u001b[0m\u001b[1;31m:\u001b[0m invalid syntax\n"
     ]
    }
   ],
   "source": [
    "#错误示范\n",
    "and = 1"
   ]
  },
  {
   "cell_type": "code",
   "execution_count": 25,
   "metadata": {},
   "outputs": [
    {
     "data": {
      "text/html": [
       "<div>\n",
       "<style scoped>\n",
       "    .dataframe tbody tr th:only-of-type {\n",
       "        vertical-align: middle;\n",
       "    }\n",
       "\n",
       "    .dataframe tbody tr th {\n",
       "        vertical-align: top;\n",
       "    }\n",
       "\n",
       "    .dataframe thead th {\n",
       "        text-align: right;\n",
       "    }\n",
       "</style>\n",
       "<table border=\"1\" class=\"dataframe\">\n",
       "  <thead>\n",
       "    <tr style=\"text-align: right;\">\n",
       "      <th></th>\n",
       "      <th>0</th>\n",
       "      <th>1</th>\n",
       "      <th>2</th>\n",
       "    </tr>\n",
       "  </thead>\n",
       "  <tbody>\n",
       "    <tr>\n",
       "      <th>0</th>\n",
       "      <td>and</td>\n",
       "      <td>or</td>\n",
       "      <td>not</td>\n",
       "    </tr>\n",
       "    <tr>\n",
       "      <th>1</th>\n",
       "      <td>assert</td>\n",
       "      <td>finally</td>\n",
       "      <td>exec</td>\n",
       "    </tr>\n",
       "    <tr>\n",
       "      <th>2</th>\n",
       "      <td>break</td>\n",
       "      <td>for</td>\n",
       "      <td>pass</td>\n",
       "    </tr>\n",
       "    <tr>\n",
       "      <th>3</th>\n",
       "      <td>class</td>\n",
       "      <td>from</td>\n",
       "      <td>print</td>\n",
       "    </tr>\n",
       "    <tr>\n",
       "      <th>4</th>\n",
       "      <td>continue</td>\n",
       "      <td>global</td>\n",
       "      <td>raise</td>\n",
       "    </tr>\n",
       "    <tr>\n",
       "      <th>5</th>\n",
       "      <td>def</td>\n",
       "      <td>if</td>\n",
       "      <td>return</td>\n",
       "    </tr>\n",
       "    <tr>\n",
       "      <th>6</th>\n",
       "      <td>del</td>\n",
       "      <td>import</td>\n",
       "      <td>try</td>\n",
       "    </tr>\n",
       "    <tr>\n",
       "      <th>7</th>\n",
       "      <td>elif</td>\n",
       "      <td>in</td>\n",
       "      <td>while</td>\n",
       "    </tr>\n",
       "    <tr>\n",
       "      <th>8</th>\n",
       "      <td>else</td>\n",
       "      <td>is</td>\n",
       "      <td>with</td>\n",
       "    </tr>\n",
       "    <tr>\n",
       "      <th>9</th>\n",
       "      <td>expect</td>\n",
       "      <td>lambda</td>\n",
       "      <td>yield</td>\n",
       "    </tr>\n",
       "  </tbody>\n",
       "</table>\n",
       "</div>"
      ],
      "text/plain": [
       "          0        1       2\n",
       "0       and       or     not\n",
       "1    assert  finally    exec\n",
       "2     break      for    pass\n",
       "3     class     from   print\n",
       "4  continue   global   raise\n",
       "5       def       if  return\n",
       "6       del   import     try\n",
       "7      elif       in   while\n",
       "8      else       is    with\n",
       "9    expect   lambda   yield"
      ]
     },
     "execution_count": 25,
     "metadata": {},
     "output_type": "execute_result"
    }
   ],
   "source": [
    "import pandas as pd\n",
    "import numpy as np\n",
    "d = np.array([['and','or','not'],\n",
    "              ['assert','finally','exec'],\n",
    "              ['break','for','pass'],\n",
    "              ['class','from','print'],\n",
    "              ['continue','global','raise'],\n",
    "              ['def','if','return'],\n",
    "              ['del','import','try'],\n",
    "              ['elif','in','while'],\n",
    "              ['else','is','with'],\n",
    "              ['expect','lambda','yield']]\n",
    "            )\n",
    "df3 = pd.DataFrame(d)\n",
    "df3"
   ]
  },
  {
   "cell_type": "markdown",
   "metadata": {},
   "source": [
    ">## 4.变量\n",
    "[返回目录](#目录)\n",
    "\n",
    "变量是存储在内存中的值, 这就意味着在创建变量时会在内存中开辟一个空间   \n",
    "所谓变量, 就是“可以改变的量”, 基于变量的数据类型, 解释器会分配指定内存, 并决定什么数据可以被存储在内存中"
   ]
  },
  {
   "cell_type": "markdown",
   "metadata": {},
   "source": [
    "### 4.1变量赋值"
   ]
  },
  {
   "cell_type": "markdown",
   "metadata": {},
   "source": [
    "python里创建一个变量的方法很简单, 给它起个名字, 然后给它一个值\n",
    "\n",
    "+ 等号 “=” 用来给变量赋值      \n",
    "+ 等号 “=” 运算符左边是一个变量名  \n",
    "+ 等号 “=” 运算符右边是存储在变量中的值   \n",
    "\n",
    "例如:"
   ]
  },
  {
   "cell_type": "code",
   "execution_count": 26,
   "metadata": {},
   "outputs": [
    {
     "name": "stdout",
     "output_type": "stream",
     "text": [
      "131.1\n"
     ]
    }
   ],
   "source": [
    "price = 131.1  #这就完成了一个赋值\n",
    "print(price)   #用print来查看结果, 注意,这时候price 已经变成了变量, 而不是字符串, 因此不需要加引号."
   ]
  },
  {
   "cell_type": "markdown",
   "metadata": {},
   "source": [
    "甚至, 也可以是input():"
   ]
  },
  {
   "cell_type": "code",
   "execution_count": null,
   "metadata": {},
   "outputs": [],
   "source": [
    "name = input()"
   ]
  },
  {
   "cell_type": "markdown",
   "metadata": {},
   "source": [
    "另外, Python允许同时为多个变量赋值, 例如:"
   ]
  },
  {
   "cell_type": "code",
   "execution_count": null,
   "metadata": {},
   "outputs": [],
   "source": [
    "a = b = c = 1"
   ]
  },
  {
   "cell_type": "markdown",
   "metadata": {},
   "source": [
    "也可以为多个对象指定多个变量. 例如:"
   ]
  },
  {
   "cell_type": "code",
   "execution_count": 31,
   "metadata": {},
   "outputs": [],
   "source": [
    "op,cp,hp,lp = 32,36,38,30 #分别将开盘价,收盘价,最高价,最低价赋值给op,cp,hp,lp"
   ]
  },
  {
   "cell_type": "markdown",
   "metadata": {},
   "source": [
    "变量命名有一些限制,也就是在[2.标识符](#2.标识符)中提到的:\n",
    "\n",
    "* 第一个字符必须是字母或者下划线_\n",
    "* 剩下的部分可以是字母、下划线_或数字0~9, 不能有空格, 中文破折号等等符号\n",
    "* 变量名称区分大小写, op 和 OP 不是同一个变量"
   ]
  },
  {
   "cell_type": "markdown",
   "metadata": {},
   "source": [
    "### 4.2删除变量\n",
    "del语句删除一些对象的引用. 比如:"
   ]
  },
  {
   "cell_type": "code",
   "execution_count": 32,
   "metadata": {},
   "outputs": [
    {
     "ename": "NameError",
     "evalue": "name 'var1' is not defined",
     "output_type": "error",
     "traceback": [
      "\u001b[1;31m---------------------------------------------------------------------------\u001b[0m",
      "\u001b[1;31mNameError\u001b[0m                                 Traceback (most recent call last)",
      "\u001b[1;32m<ipython-input-32-66dd1d33f1c8>\u001b[0m in \u001b[0;36m<module>\u001b[1;34m\u001b[0m\n\u001b[0;32m      2\u001b[0m \u001b[0mvar2\u001b[0m \u001b[1;33m=\u001b[0m \u001b[1;36m10\u001b[0m\u001b[1;33m\u001b[0m\u001b[1;33m\u001b[0m\u001b[0m\n\u001b[0;32m      3\u001b[0m \u001b[1;32mdel\u001b[0m \u001b[0mvar1\u001b[0m\u001b[1;33m\u001b[0m\u001b[1;33m\u001b[0m\u001b[0m\n\u001b[1;32m----> 4\u001b[1;33m \u001b[0mprint\u001b[0m\u001b[1;33m(\u001b[0m\u001b[0mvar1\u001b[0m\u001b[1;33m)\u001b[0m\u001b[1;33m\u001b[0m\u001b[1;33m\u001b[0m\u001b[0m\n\u001b[0m",
      "\u001b[1;31mNameError\u001b[0m: name 'var1' is not defined"
     ]
    }
   ],
   "source": [
    "var1 = 1\n",
    "var2 = 10\n",
    "del var1\n",
    "print(var1)"
   ]
  },
  {
   "cell_type": "markdown",
   "metadata": {},
   "source": [
    ">## 5.数据类型\n",
    "[返回目录](#目录)"
   ]
  },
  {
   "cell_type": "markdown",
   "metadata": {},
   "source": [
    "创建变量之后, 我们可以给变量赋什么值呢? 这就要说到python的核心数据类型, 也被称之为内置对象 \n",
    "\n",
    "+ number-数字型; \n",
    "+ string-字符串; \n",
    "+ bool-布尔; \n",
    "+ list-列表; \n",
    "+ tuple-元组; \n",
    "+ dictionary-字典"
   ]
  },
  {
   "cell_type": "markdown",
   "metadata": {},
   "source": [
    "#### 5.1数字型\n",
    "常见数字类型有: 整数型(int);  浮点型(float), 也就是带小数点的数字."
   ]
  },
  {
   "cell_type": "code",
   "execution_count": 33,
   "metadata": {},
   "outputs": [
    {
     "name": "stdout",
     "output_type": "stream",
     "text": [
      "1.3\n"
     ]
    }
   ],
   "source": [
    "print(1.3)"
   ]
  },
  {
   "cell_type": "markdown",
   "metadata": {},
   "source": [
    "#### 5.2字符串型\n",
    "字符串(String)是由数字、字母、下划线组成的一串字符, 它是编程语言中表示文本的数据类型, 上文提到, 字符串表示方式是单引号(')和双引号(\")"
   ]
  },
  {
   "cell_type": "markdown",
   "metadata": {},
   "source": [
    "+ 如果字符串中有英文单引号或双引号的文字，那么表示这个字符串的引号就要与内容区别开。\n",
    "+ 内容带有单引号，就用双引号表示，如果内容带有双引号，就用单引号表示"
   ]
  },
  {
   "cell_type": "code",
   "execution_count": 34,
   "metadata": {},
   "outputs": [
    {
     "name": "stdout",
     "output_type": "stream",
     "text": [
      "It's good\n"
     ]
    }
   ],
   "source": [
    "print(\"It's good\")"
   ]
  },
  {
   "cell_type": "markdown",
   "metadata": {},
   "source": [
    "+ 还有一种在字符串中表示引号的方法，就是用 \\，可以不受引号的限制:  \n",
    "+ \\和' 表示单引号\n",
    "+ \\和\"表示双引号"
   ]
  },
  {
   "cell_type": "code",
   "execution_count": 35,
   "metadata": {
    "scrolled": true
   },
   "outputs": [
    {
     "name": "stdout",
     "output_type": "stream",
     "text": [
      "It's not your \"circumstances\" that shapes you, it's how you react to your \"circumstances\".\n"
     ]
    }
   ],
   "source": [
    "print(\"It\\'s not your \\\"circumstances\\\" that shapes you, it\\'s how you react to your \\\"circumstances\\\".\")"
   ]
  },
  {
   "cell_type": "markdown",
   "metadata": {},
   "source": [
    "#### 5.3布尔型\n",
    "布尔(bool)比较特殊，是用来表示逻辑上的“真”和“假” 的一种类型, 它只有两个值, True 和 False. (注意：这里没有引号，有了引号就变成字符串了)"
   ]
  },
  {
   "cell_type": "code",
   "execution_count": 36,
   "metadata": {},
   "outputs": [
    {
     "name": "stdout",
     "output_type": "stream",
     "text": [
      "True\n"
     ]
    }
   ],
   "source": [
    "print(1==1)"
   ]
  },
  {
   "cell_type": "markdown",
   "metadata": {},
   "source": [
    "#### 5.4列表\n",
    "列表(List)是 Python 中使用最频繁的数据类型,是方括号 [] 包围、逗号‘,’隔开的一组数值. 列表可以完成大多数集合类的数据结构实现.它支持字符，数字，字符串甚至可以包含列表（即嵌套）格式就是："
   ]
  },
  {
   "cell_type": "code",
   "execution_count": 37,
   "metadata": {},
   "outputs": [],
   "source": [
    "stock_list = ['000002.sz', '300033.sz', '002727.sz']"
   ]
  },
  {
   "cell_type": "markdown",
   "metadata": {},
   "source": [
    "#### 5.5元组\n",
    "元组(tuple)是另一个序列, 类似列表, 但是元组不允许更新,不能二次赋值, 相当于只读列表, 修改的操作对元组的操作是无效的  \n",
    "元组的格式是: 用圆括号()标识, 内部元素用逗号\",\"隔开"
   ]
  },
  {
   "cell_type": "code",
   "execution_count": 38,
   "metadata": {},
   "outputs": [],
   "source": [
    "t = (1, 2)"
   ]
  },
  {
   "cell_type": "markdown",
   "metadata": {},
   "source": [
    "#### 5.6字典\n",
    "字典(dictionary)是除列表以外python之中最灵活的内置数据结构类型. 列表是有序的对象集合, 字典是无序的对象集合. \n",
    "字典由索引(key)和它对应的值(value)组成; 一组键/值为一对, 用冒号分割; 每个对之间用逗号分割; 整个字典包括在花括号中. \n",
    "字典长这样: "
   ]
  },
  {
   "cell_type": "code",
   "execution_count": 39,
   "metadata": {},
   "outputs": [
    {
     "ename": "NameError",
     "evalue": "name 'key1' is not defined",
     "output_type": "error",
     "traceback": [
      "\u001b[1;31m---------------------------------------------------------------------------\u001b[0m",
      "\u001b[1;31mNameError\u001b[0m                                 Traceback (most recent call last)",
      "\u001b[1;32m<ipython-input-39-c6bfb5ceed74>\u001b[0m in \u001b[0;36m<module>\u001b[1;34m\u001b[0m\n\u001b[1;32m----> 1\u001b[1;33m \u001b[0md\u001b[0m \u001b[1;33m=\u001b[0m \u001b[1;33m{\u001b[0m\u001b[0mkey1\u001b[0m \u001b[1;33m:\u001b[0m \u001b[0mvalue1\u001b[0m\u001b[1;33m,\u001b[0m \u001b[0mkey2\u001b[0m \u001b[1;33m:\u001b[0m \u001b[0mvalue2\u001b[0m\u001b[1;33m}\u001b[0m\u001b[1;33m\u001b[0m\u001b[1;33m\u001b[0m\u001b[0m\n\u001b[0m",
      "\u001b[1;31mNameError\u001b[0m: name 'key1' is not defined"
     ]
    }
   ],
   "source": [
    "d = {key1 : value1, key2 : value2}"
   ]
  },
  {
   "cell_type": "markdown",
   "metadata": {},
   "source": [
    ">## 6.运算符\n",
    "[返回目录](#目录)"
   ]
  },
  {
   "cell_type": "markdown",
   "metadata": {},
   "source": [
    "Python语言支持以下类型的运算符:\n",
    "+ 算术运算符\n",
    "+ 比较运算符\n",
    "+ 赋值运算符\n",
    "+ 逻辑运算符\n",
    "+ 成员运算符\n",
    "+ 身份运算符\n",
    "\n",
    "我们介绍其中一些常用的:"
   ]
  },
  {
   "cell_type": "markdown",
   "metadata": {},
   "source": [
    "### 6.1算术运算符\n",
    "简单的算术运算符有: 加'+'减'-'乘'*'除'/'幂'**'(返回x的y次幂), 算术运算符不止可以运算数字,也可以运算列表等数据类型"
   ]
  },
  {
   "cell_type": "code",
   "execution_count": 40,
   "metadata": {
    "scrolled": true
   },
   "outputs": [
    {
     "data": {
      "text/plain": [
       "82.008"
      ]
     },
     "execution_count": 40,
     "metadata": {},
     "output_type": "execute_result"
    }
   ],
   "source": [
    "# 次日涨跌停价格\n",
    "round(91.12*1.1,3) #涨停价\n",
    "round(91.12*0.9,3) #跌停价"
   ]
  },
  {
   "cell_type": "code",
   "execution_count": 41,
   "metadata": {},
   "outputs": [
    {
     "data": {
      "text/plain": [
       "-1"
      ]
     },
     "execution_count": 41,
     "metadata": {},
     "output_type": "execute_result"
    }
   ],
   "source": [
    "# 涨跌价\n",
    "closeprice=15\n",
    "openprice=16\n",
    "closeprice - openprice"
   ]
  },
  {
   "cell_type": "code",
   "execution_count": 42,
   "metadata": {},
   "outputs": [
    {
     "data": {
      "text/plain": [
       "[1, 1, 2, 1, 1, 2]"
      ]
     },
     "execution_count": 42,
     "metadata": {},
     "output_type": "execute_result"
    }
   ],
   "source": [
    "# 列表运算\n",
    "[1,1,2]*2"
   ]
  },
  {
   "cell_type": "markdown",
   "metadata": {},
   "source": [
    "### 6.2比较(关系)运算符\n",
    "注意：双等号才表等于"
   ]
  },
  {
   "cell_type": "markdown",
   "metadata": {},
   "source": [
    "|符号|描述|实例|\n",
    "|-|-|-|\n",
    "|==|等   于|（1 == 1）返回 True\n",
    "|!=|不等于|（1 != 2） 返回 True\n",
    "|>|大   于|（1 > 3）返回 False\n",
    "|>=|大于等于|（1 >= 1）返回 True\n",
    "|<|小   于|（3 < 1）返回 False\n",
    "|<=|小于等于|（3 <= 3）返回 True"
   ]
  },
  {
   "cell_type": "code",
   "execution_count": 43,
   "metadata": {},
   "outputs": [
    {
     "data": {
      "text/plain": [
       "False"
      ]
     },
     "execution_count": 43,
     "metadata": {},
     "output_type": "execute_result"
    }
   ],
   "source": [
    "# 价格大小\n",
    "closeprice > openprice"
   ]
  },
  {
   "cell_type": "code",
   "execution_count": 44,
   "metadata": {},
   "outputs": [
    {
     "data": {
      "text/plain": [
       "False"
      ]
     },
     "execution_count": 44,
     "metadata": {},
     "output_type": "execute_result"
    }
   ],
   "source": [
    "# 是否相等\n",
    "closeprice == openprice"
   ]
  },
  {
   "cell_type": "code",
   "execution_count": 45,
   "metadata": {},
   "outputs": [
    {
     "data": {
      "text/plain": [
       "True"
      ]
     },
     "execution_count": 45,
     "metadata": {},
     "output_type": "execute_result"
    }
   ],
   "source": [
    "# 是否不相等\n",
    "closeprice != openprice"
   ]
  },
  {
   "cell_type": "markdown",
   "metadata": {},
   "source": [
    "### 6.3赋值运算符\n",
    "之前变量赋值时提过,不过赋值也有些高级操作"
   ]
  },
  {
   "cell_type": "markdown",
   "metadata": {},
   "source": [
    "|符号|描述|实例|\n",
    "|-|-|-|\n",
    "|=|简单的赋值运算符|b = 将 a 赋值为 b|\n",
    "|+=|加法赋值运算符|b += a 等效于 b = b + a|\n",
    "|-=|减法赋值运算符|b -= a 等效于 b = b - a|\n",
    "|*=|乘法赋值运算符|b *= a 等效于 b = b * a|\n",
    "|/=|除法赋值运算符|b /= a 等效于 b = b / a|\n",
    "|\\**=|幂赋值运算符|b \\*\\*= a 等效于 b = b \\*\\* a|"
   ]
  },
  {
   "cell_type": "code",
   "execution_count": 46,
   "metadata": {},
   "outputs": [
    {
     "name": "stdout",
     "output_type": "stream",
     "text": [
      "1\n"
     ]
    }
   ],
   "source": [
    "a = 0\n",
    "a += 1 #该简化式和 a= a+1 是一样的\n",
    "print(a)"
   ]
  },
  {
   "cell_type": "markdown",
   "metadata": {},
   "source": [
    "### 6.4逻辑运算符\n",
    "\n",
    "布尔\"与\" - 如果 x 为 False，x and y 返回 False, 否则它返回 y 的计算值  \n",
    "布尔\"或\" - 如果 x 是非 0, 它返回 x 的计算值, 否则它返回 y 的计算值  \n",
    "布尔\"非\" - 如果 x 为 True, 返回 False , 如果 x 为 False，它返回 True"
   ]
  },
  {
   "cell_type": "code",
   "execution_count": 47,
   "metadata": {},
   "outputs": [
    {
     "data": {
      "text/plain": [
       "False"
      ]
     },
     "execution_count": 47,
     "metadata": {},
     "output_type": "execute_result"
    }
   ],
   "source": [
    "1==2"
   ]
  },
  {
   "cell_type": "markdown",
   "metadata": {},
   "source": [
    "### 6.5成员运算符\n",
    "成员运算符表判断 对象是否在指定序列中  \n",
    "in\t如果在指定的序列中找到值返回 True，否则返回 False  \n",
    "not in\t如果在指定的序列中没有找到值返回 True，否则返回 False"
   ]
  },
  {
   "cell_type": "code",
   "execution_count": 48,
   "metadata": {},
   "outputs": [],
   "source": [
    "# 股票代码列表\n",
    "stocklist = ['300033.SZ','600519.SZ','000002.SZ']\n",
    "# 股票名称\n",
    "stockname = ['同花顺','贵州茅台','万科A']\n",
    "# 股票价格列表\n",
    "stockprice = [102,2008,28]"
   ]
  },
  {
   "cell_type": "code",
   "execution_count": 49,
   "metadata": {},
   "outputs": [
    {
     "data": {
      "text/plain": [
       "True"
      ]
     },
     "execution_count": 49,
     "metadata": {},
     "output_type": "execute_result"
    }
   ],
   "source": [
    "'同花顺' in stockname"
   ]
  },
  {
   "cell_type": "code",
   "execution_count": 50,
   "metadata": {},
   "outputs": [
    {
     "data": {
      "text/plain": [
       "True"
      ]
     },
     "execution_count": 50,
     "metadata": {},
     "output_type": "execute_result"
    }
   ],
   "source": [
    "'浦发银行' not in stockname"
   ]
  },
  {
   "cell_type": "markdown",
   "metadata": {},
   "source": [
    "### 6.6身份运算符\n",
    "身份运算符用于比较两个对象的存储单元\n",
    "\n",
    "is 是判断两个标识符是不是引用自一个对象x is y, 类似 id(x) == id(y), 如果引用的是同一个对象则返回 True，否则返回 False  \n",
    "is not\t是判断两个标识符是不是引用自不同对象     \n"
   ]
  },
  {
   "cell_type": "code",
   "execution_count": 51,
   "metadata": {},
   "outputs": [
    {
     "name": "stdout",
     "output_type": "stream",
     "text": [
      "a 和 b 有相同的标识\n"
     ]
    }
   ],
   "source": [
    "a = 20\n",
    "b = 20\n",
    " \n",
    "if ( a is b ):\n",
    "   print( \"a 和 b 有相同的标识\")\n",
    "else:\n",
    "   print(\"a 和 b 没有相同的标识\")"
   ]
  },
  {
   "cell_type": "markdown",
   "metadata": {},
   "source": [
    ">## 7. 行和缩进\n",
    "[返回目录](#目录)\n",
    "\n",
    "python和其他的编程语言上很大的一个区别就是是缩进， python用这种方法替代了其他语言中的大括号{}  \n",
    "像if、while、def和class这样的复合语句， 首行以关键字开始，以冒号( : )结束，该行之后缩进相同的一行或多行代码构成代码组"
   ]
  },
  {
   "cell_type": "markdown",
   "metadata": {},
   "source": []
  },
  {
   "cell_type": "markdown",
   "metadata": {},
   "source": [
    "注意：缩进是tab键, 虽然也可以按4个空格, 但建议统一用tab来缩进, 千万不可以tab和空格混用\n",
    "如果编写时出现：  \n",
    "\n",
    "<b>ndentationError: unindent does not match any outer indentation level <\\b>\n",
    "\n",
    "表明你使用的缩进方式不一致, 有的是 tab 键缩进, 有的是空格缩进\n",
    "\n",
    "以def为例："
   ]
  },
  {
   "cell_type": "markdown",
   "metadata": {},
   "source": [
    "### 7.1def\n",
    "如果我们要自己写一个函数, 就需要去 定义 它, python里的关键字叫 def(define的缩写), 函数内容以冒号起始，并且缩进. 格式如下:"
   ]
  },
  {
   "cell_type": "code",
   "execution_count": 52,
   "metadata": {},
   "outputs": [
    {
     "name": "stdout",
     "output_type": "stream",
     "text": [
      "28.8\n"
     ]
    },
    {
     "data": {
      "text/plain": [
       "'\\nma 是这个函数的名字, 后面的括号里是参数, 任何传入参数和自变量必须放在圆括号中间. \\n如果括号中没有参数, 表示不需要参数.但括号和后面的冒号都不能少\\n'"
      ]
     },
     "execution_count": 52,
     "metadata": {},
     "output_type": "execute_result"
    }
   ],
   "source": [
    "def ma(num1, num2, num3, num4, num5):  #定义一个函数输入5天的收盘价,生成当天的移动平均线指标\n",
    "    print ((num1+num2+num3+num4+num5)/5)\n",
    "    return\n",
    "\n",
    "ma(12,12,34,54,32)\n",
    "\n",
    "'''\n",
    "ma 是这个函数的名字, 后面的括号里是参数, 任何传入参数和自变量必须放在圆括号中间. \n",
    "如果括号中没有参数, 表示不需要参数.但括号和后面的冒号都不能少\n",
    "'''"
   ]
  },
  {
   "cell_type": "markdown",
   "metadata": {},
   "source": [
    "注意：有时会出现连续复合语句的叠加，比如if中的代码块又再包含一个 if，那就需要再进一步缩进一次"
   ]
  },
  {
   "cell_type": "markdown",
   "metadata": {},
   "source": [
    "同样,变量命名也遵循[2.标识符](#2.标识符)中的限制."
   ]
  },
  {
   "cell_type": "markdown",
   "metadata": {},
   "source": [
    ">## 8.多行\n",
    "[返回目录](#目录)\n",
    "\n",
    "Python语句中一般以新行作为语句的结束符, 但有时我们需要用同一行显示多条语句, 有时候需要将一句话分成不同行, 需要使用多行连接符:"
   ]
  },
  {
   "cell_type": "markdown",
   "metadata": {},
   "source": [
    "### 8.1多合一\n",
    "Python可以多行代码写在同一行, 语句之间使用分号(;)分割:"
   ]
  },
  {
   "cell_type": "code",
   "execution_count": 53,
   "metadata": {},
   "outputs": [
    {
     "name": "stdout",
     "output_type": "stream",
     "text": [
      "1\n",
      "2\n",
      "3\n"
     ]
    }
   ],
   "source": [
    "print(1);print(2);print(3)"
   ]
  },
  {
   "cell_type": "markdown",
   "metadata": {},
   "source": [
    "### 8.2一分多\n",
    "有时一行代码太长了, 不便于查看, 这时我们可以使用斜杠 \\ 将一行的语句分为多行显示, 如下所示: "
   ]
  },
  {
   "cell_type": "code",
   "execution_count": 54,
   "metadata": {},
   "outputs": [
    {
     "name": "stdout",
     "output_type": "stream",
     "text": [
      "It's not your circumstances that shapes you, it's how you react to your circumstances.\n"
     ]
    }
   ],
   "source": [
    "print(\"It's not your circumstances that shapes \\\n",
    "you, it's how you react to your circumstances.\")"
   ]
  },
  {
   "cell_type": "markdown",
   "metadata": {},
   "source": [
    "语句中包含 [], {} 或 () 括号就不需要使用多行连接符. 如下:"
   ]
  },
  {
   "cell_type": "code",
   "execution_count": 55,
   "metadata": {},
   "outputs": [],
   "source": [
    "import numpy as np\n",
    "d = np.array([['and','or','not'],\n",
    "              ['assert','finally','exec'],\n",
    "              ['break','for','pass'],\n",
    "              ['class','from','print'],\n",
    "              ['continue','global','raise'],\n",
    "              ['def','if','return'],\n",
    "              ['del','import','try'],\n",
    "              ['elif','in','while'],\n",
    "              ['else','is','with'],\n",
    "              ['expect','lambda','yield']]\n",
    "            )"
   ]
  },
  {
   "cell_type": "markdown",
   "metadata": {},
   "source": [
    "\\n 可以实现结果换行显示"
   ]
  },
  {
   "cell_type": "code",
   "execution_count": 56,
   "metadata": {
    "scrolled": true
   },
   "outputs": [
    {
     "name": "stdout",
     "output_type": "stream",
     "text": [
      "It's not your circumstances that shap\n",
      "es you, it's how you react to your circumstances.\n"
     ]
    }
   ],
   "source": [
    "print(\"It's not your circumstances that shap\\nes you, it's how you react to your circumstances.\")"
   ]
  },
  {
   "cell_type": "markdown",
   "metadata": {},
   "source": [
    ">## 9.引入模块\n",
    "[返回目录](#目录)\n",
    "\n",
    "Python 模块(Module)，是一个 Python 文件，以 .py 结尾，包含了 Python 对象定义和Python语句。  \n",
    "模块让你能够有逻辑地组织你的 Python 代码段。  把相关的代码分配到一个模块里能让你的代码更好用，更易懂。  \n",
    "模块能定义函数，类和变量，模块里也能包含可执行的代码。  \n",
    "python自带了功能丰富的标准库（或模块）, 另外还有数量庞大的各种第三方库。  "
   ]
  },
  {
   "cell_type": "markdown",
   "metadata": {},
   "source": [
    " 使用import可以引入模块，引入之后，就可以使用这个模块下面的函数（必须要先引入）"
   ]
  },
  {
   "cell_type": "code",
   "execution_count": 57,
   "metadata": {},
   "outputs": [],
   "source": [
    "import random  #random模块主要为我们提供一些生成随机数的功能,以后的学习实践中会经常用到"
   ]
  },
  {
   "cell_type": "markdown",
   "metadata": {},
   "source": [
    "import语句告诉python, 我们要用random模块中的内容. 然后便可以使用random中的函数, 比如:"
   ]
  },
  {
   "cell_type": "code",
   "execution_count": 58,
   "metadata": {},
   "outputs": [
    {
     "data": {
      "text/plain": [
       "5"
      ]
     },
     "execution_count": 58,
     "metadata": {},
     "output_type": "execute_result"
    }
   ],
   "source": [
    "random.randint(1, 10)     #选取1-9的随机整数\n",
    "random.choice([1, 3, 5])  #在列表里的3个对象中随机选择"
   ]
  },
  {
   "cell_type": "markdown",
   "metadata": {},
   "source": [
    "可以看到, 函数前面需要加上<b>“random.”</b>, 这样python才知道你是要调用random中的函数, 直接输入randint(1,10)是会报错的。\n",
    "\n",
    "那么每次引用函数的时候, random这个模块前缀都要带吗? 可不可以不带? 那就需要用“from 模块 import 函数”先把函数给“拿”出来"
   ]
  },
  {
   "cell_type": "code",
   "execution_count": 59,
   "metadata": {},
   "outputs": [
    {
     "data": {
      "text/plain": [
       "2"
      ]
     },
     "execution_count": 59,
     "metadata": {},
     "output_type": "execute_result"
    }
   ],
   "source": [
    "from random import randint\n",
    "randint(1,3)"
   ]
  },
  {
   "cell_type": "markdown",
   "metadata": {},
   "source": [
    "这样每次使用sqrt函数的时候就不用再加math前缀了。又有了一个问题:  \n",
    "\n",
    "    “一个模块下面有那么多函数，可不可以写一个语句，然后math下面所有函数都可以直接使用？”\n",
    "\n",
    "我们换一个math函数来进行如下操作:"
   ]
  },
  {
   "cell_type": "code",
   "execution_count": 60,
   "metadata": {},
   "outputs": [
    {
     "name": "stdout",
     "output_type": "stream",
     "text": [
      "3.0\n",
      "32\n"
     ]
    }
   ],
   "source": [
    "from math import *\n",
    "print(sqrt(9))\n",
    "print(floor(32.9))"
   ]
  },
  {
   "cell_type": "markdown",
   "metadata": {},
   "source": [
    "另外, 想知道random有哪些函数和变量, 可以用dir()函数。"
   ]
  },
  {
   "cell_type": "code",
   "execution_count": 61,
   "metadata": {},
   "outputs": [
    {
     "ename": "NameError",
     "evalue": "name 'math' is not defined",
     "output_type": "error",
     "traceback": [
      "\u001b[1;31m---------------------------------------------------------------------------\u001b[0m",
      "\u001b[1;31mNameError\u001b[0m                                 Traceback (most recent call last)",
      "\u001b[1;32m<ipython-input-61-dba301b0095e>\u001b[0m in \u001b[0;36m<module>\u001b[1;34m\u001b[0m\n\u001b[1;32m----> 1\u001b[1;33m \u001b[0mdir\u001b[0m\u001b[1;33m(\u001b[0m\u001b[0mmath\u001b[0m\u001b[1;33m)\u001b[0m\u001b[1;33m\u001b[0m\u001b[1;33m\u001b[0m\u001b[0m\n\u001b[0m",
      "\u001b[1;31mNameError\u001b[0m: name 'math' is not defined"
     ]
    }
   ],
   "source": [
    "dir(math)"
   ]
  },
  {
   "cell_type": "markdown",
   "metadata": {},
   "source": [
    "不论任何类型的数据, 或是变量, 模块, 只要动用dir()或者help()就能够在交互模式下查看到有关的说明。"
   ]
  },
  {
   "cell_type": "markdown",
   "metadata": {},
   "source": [
    "本课时旨在帮助了解Python基础操作, 之后的课程会对变量，条件和循环，函数， 模块等详细讲解，也会在其中插入实战项目的讲解巩固所学知识。  \n",
    "[返回顶部](#目录)"
   ]
  },
  {
   "cell_type": "code",
   "execution_count": null,
   "metadata": {},
   "outputs": [],
   "source": []
  }
 ],
 "metadata": {
  "kernelspec": {
   "display_name": "Python 3",
   "language": "python",
   "name": "python3"
  },
  "language_info": {
   "codemirror_mode": {
    "name": "ipython",
    "version": 3
   },
   "file_extension": ".py",
   "mimetype": "text/x-python",
   "name": "python",
   "nbconvert_exporter": "python",
   "pygments_lexer": "ipython3",
   "version": "3.8.5"
  }
 },
 "nbformat": 4,
 "nbformat_minor": 5
}
