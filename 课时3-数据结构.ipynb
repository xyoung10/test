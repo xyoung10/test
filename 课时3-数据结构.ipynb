{
 "cells": [
  {
   "cell_type": "markdown",
   "metadata": {},
   "source": [
    "# <center>课时3：数据结构\n",
    "在课时2中我们简单介绍过python的几种主要数据类型，本课时将详细介绍Python的五个标准的数据类型以及对应的操作。  \n",
    "要认识数据结构，首先要从容器说起，Python中有一种名为容器的数据结构，顾名思义，容器，就是装数据的器具（了解就好）。    \n",
    "它主要包括序列和词典，其中序列又主要包括列表、元组、字符串等。"
   ]
  },
  {
   "cell_type": "markdown",
   "metadata": {},
   "source": [
    ">    ## 目录\n",
    ">1. [序列通用](#1.序列通用)\n",
    ">1. [Numbers（数字）](#2.数字类型)\n",
    ">1. [String （字符串）](#3.字符串)\n",
    ">1. [List（列表）](#4.列表类型)\n",
    ">1. [Tuple（元组）](#5.元组类型)\n",
    ">1. [Dictionary（字典）](#6.字典类型)\n",
    ">1. [嵌套式数据结构](#7.嵌套)"
   ]
  },
  {
   "cell_type": "code",
   "execution_count": 1,
   "metadata": {},
   "outputs": [],
   "source": [
    "# 给定一些基本数据\n",
    "stock=['600694.SH', '000498.SZ', '600217.SH', '300525.SZ', \n",
    "           '300131.SZ', '000936.SZ', '600596.SH', '300311.SZ', \n",
    "           '002698.SZ', '002643.SZ', '301180.SZ', '603529.SH', \n",
    "           '300394.SZ', '600059.SH', '000019.SZ', '000601.SZ',]\n",
    "\n",
    "inddict = {'S11':'农林牧渔','S21':'采掘','S22':'化工',\n",
    "           'S23':'钢铁','S24':'有色金属','S27':'电子',\n",
    "           'S28':'汽车','S33':'家用电器','S34':'食品饮料',\n",
    "           'S35':'纺织服装','S36':'轻工制造','S37':'医药生物',\n",
    "           'S41':'公用事业','S42':'交通运输','S43':'房地产',}"
   ]
  },
  {
   "cell_type": "markdown",
   "metadata": {},
   "source": [
    ">## 1.序列通用\n",
    "[返回目录](#目录)\n",
    "\n",
    "序列都可以进行包括索引，切片，加，乘，检查成员等一些共同的操作。\n",
    "#### 1.1索引\n",
    "序列中的每一个元素都被分配一个序号——即元素的位置，也称为“索引”，第一个索引，即第一个元素的位置是0，第二个是1，依次类推。序列的这个特点，使得我们可以利用索引来访问序列中的某个或某几个元素"
   ]
  },
  {
   "cell_type": "code",
   "execution_count": 2,
   "metadata": {
    "scrolled": true
   },
   "outputs": [
    {
     "data": {
      "text/plain": [
       "6"
      ]
     },
     "execution_count": 2,
     "metadata": {},
     "output_type": "execute_result"
    }
   ],
   "source": [
    "a=[1,3,6,10]\n",
    "a[2]"
   ]
  },
  {
   "cell_type": "code",
   "execution_count": 3,
   "metadata": {},
   "outputs": [
    {
     "data": {
      "text/plain": [
       "6"
      ]
     },
     "execution_count": 3,
     "metadata": {},
     "output_type": "execute_result"
    }
   ],
   "source": [
    "b=(1,3,6,10)\n",
    "b[2]"
   ]
  },
  {
   "cell_type": "code",
   "execution_count": 4,
   "metadata": {
    "scrolled": true
   },
   "outputs": [
    {
     "data": {
      "text/plain": [
       "'hel'"
      ]
     },
     "execution_count": 4,
     "metadata": {},
     "output_type": "execute_result"
    }
   ],
   "source": [
    "c='hello'\n",
    "c[0:3]"
   ]
  },
  {
   "cell_type": "markdown",
   "metadata": {},
   "source": [
    "#### 1.2切片"
   ]
  },
  {
   "cell_type": "markdown",
   "metadata": {},
   "source": [
    " 使用分片操作来访问一定范围内的元素，它的格式为：<br><br>\n",
    "　　a[开始索引:结束索引]<br><br>\n",
    "那么访问的是，从开始索引号的那个元素，到结束索引号-1的那个元素。<br><br>"
   ]
  },
  {
   "cell_type": "code",
   "execution_count": 5,
   "metadata": {
    "collapsed": true,
    "jupyter": {
     "outputs_hidden": true
    }
   },
   "outputs": [
    {
     "data": {
      "text/plain": [
       "'hel'"
      ]
     },
     "execution_count": 5,
     "metadata": {},
     "output_type": "execute_result"
    }
   ],
   "source": [
    "c='hello'\n",
    "c[0:3]"
   ]
  },
  {
   "cell_type": "markdown",
   "metadata": {},
   "source": [
    "该操作把一个序列切成几片几片的，所以叫做“分片”"
   ]
  },
  {
   "cell_type": "markdown",
   "metadata": {},
   "source": [
    "#### 1.3序列相加<br><br>\n",
    "即两种序列合并在一起，两种相同类型的序列才能相加。<br><br>"
   ]
  },
  {
   "cell_type": "code",
   "execution_count": 6,
   "metadata": {},
   "outputs": [
    {
     "data": {
      "text/plain": [
       "[1, 2, 3, 4, 5, 6]"
      ]
     },
     "execution_count": 6,
     "metadata": {},
     "output_type": "execute_result"
    }
   ],
   "source": [
    "[1,2,3]+[4,5,6]"
   ]
  },
  {
   "cell_type": "code",
   "execution_count": 7,
   "metadata": {},
   "outputs": [
    {
     "data": {
      "text/plain": [
       "'hello,MindGo'"
      ]
     },
     "execution_count": 7,
     "metadata": {},
     "output_type": "execute_result"
    }
   ],
   "source": [
    "'hello,'+'MindGo'"
   ]
  },
  {
   "cell_type": "markdown",
   "metadata": {},
   "source": [
    "#### 1.4成员资格<br><br>\n",
    "为了检查一个值是否在序列中，可以用in运算符<br><br>"
   ]
  },
  {
   "cell_type": "code",
   "execution_count": 8,
   "metadata": {
    "scrolled": true
   },
   "outputs": [
    {
     "name": "stdout",
     "output_type": "stream",
     "text": [
      "True\n",
      "False\n"
     ]
    }
   ],
   "source": [
    "a='hello'\n",
    "print('o' in a)\n",
    "print('t' in a)"
   ]
  },
  {
   "cell_type": "markdown",
   "metadata": {},
   "source": [
    "接下来我们开始详细讲述每一个数据类型"
   ]
  },
  {
   "cell_type": "markdown",
   "metadata": {},
   "source": [
    ">## 2.数字类型\n",
    "[返回目录](#目录)\n",
    "\n",
    "Python Number数据类型用于储存数值，可以不带小数（整数型）也可以带小数（浮点型）。"
   ]
  },
  {
   "cell_type": "markdown",
   "metadata": {},
   "source": [
    "##### 2.1整数型"
   ]
  },
  {
   "cell_type": "code",
   "execution_count": 9,
   "metadata": {},
   "outputs": [
    {
     "data": {
      "text/plain": [
       "25"
      ]
     },
     "execution_count": 9,
     "metadata": {},
     "output_type": "execute_result"
    }
   ],
   "source": [
    "# 指数股票数量变量\n",
    "index_300 = 300\n",
    "# 个股市盈率变量\n",
    "stock_PE = 25\n",
    "stock_PE"
   ]
  },
  {
   "cell_type": "markdown",
   "metadata": {},
   "source": [
    "##### 2.2浮点型"
   ]
  },
  {
   "cell_type": "code",
   "execution_count": 10,
   "metadata": {},
   "outputs": [],
   "source": [
    "# 同花顺股价变量\n",
    "stockprice_ths = 100.98"
   ]
  },
  {
   "cell_type": "markdown",
   "metadata": {},
   "source": [
    "小数点数量调整我们放在“格式化”中展开"
   ]
  },
  {
   "cell_type": "markdown",
   "metadata": {},
   "source": [
    "#### 2.3复数型\n",
    "Python还支持复数（complex），复数由实数部分和虚数部分构成，可以用a + bj,或者complex(a,b)表示， 复数的实部a和虚部b都是浮点型"
   ]
  },
  {
   "cell_type": "code",
   "execution_count": 11,
   "metadata": {},
   "outputs": [
    {
     "data": {
      "text/plain": [
       "(1.1+0j)"
      ]
     },
     "execution_count": 11,
     "metadata": {},
     "output_type": "execute_result"
    }
   ],
   "source": [
    "complex(1.1)"
   ]
  },
  {
   "cell_type": "markdown",
   "metadata": {},
   "source": [
    "> #### 2.4Python Number 类型转换  \n",
    "    int(x [,base ])         将x转换为一个整数  \n",
    "    long(x [,base ])        将x转换为一个长整数  \n",
    "    float(x )               将x转换到一个浮点数  \n",
    "    complex(real [,imag ])  创建一个复数  \n",
    "    str(x )                 将对象 x 转换为字符串  \n",
    "    repr(x )                将对象 x 转换为表达式字符串  \n",
    "    eval(str )              用来计算在字符串中的有效Python表达式,并返回一个对象  \n",
    "    tuple(s )               将序列 s 转换为一个元组  \n",
    "    list(s )                将序列 s 转换为一个列表  \n",
    "    chr(x )                 将一个整数转换为一个字符  \n",
    "    unichr(x )              将一个整数转换为Unicode字符  \n",
    "    ord(x )                 将一个字符转换为它的整数值  \n",
    "    hex(x )                 将一个整数转换为一个十六进制字符串  \n",
    "    oct(x )                 将一个整数转换为一个八进制字符串  "
   ]
  },
  {
   "cell_type": "markdown",
   "metadata": {
    "jupyter": {
     "outputs_hidden": true
    }
   },
   "source": [
    "#### 2.5删除：del"
   ]
  },
  {
   "cell_type": "code",
   "execution_count": 12,
   "metadata": {
    "collapsed": true,
    "jupyter": {
     "outputs_hidden": true
    }
   },
   "outputs": [
    {
     "ename": "NameError",
     "evalue": "name 'stock_PE' is not defined",
     "output_type": "error",
     "traceback": [
      "\u001b[0;31m---------------------------------------------------------------------------\u001b[0m",
      "\u001b[0;31mNameError\u001b[0m                                 Traceback (most recent call last)",
      "Input \u001b[0;32mIn [12]\u001b[0m, in \u001b[0;36m<cell line: 2>\u001b[0;34m()\u001b[0m\n\u001b[1;32m      1\u001b[0m \u001b[38;5;28;01mdel\u001b[39;00m stock_PE\n\u001b[0;32m----> 2\u001b[0m \u001b[43mstock_PE\u001b[49m\n",
      "\u001b[0;31mNameError\u001b[0m: name 'stock_PE' is not defined"
     ]
    }
   ],
   "source": [
    "del stock_PE\n",
    "stock_PE"
   ]
  },
  {
   "cell_type": "markdown",
   "metadata": {},
   "source": [
    ">## 3.字符串\n",
    "[返回目录](#目录)\n",
    "\n",
    "字符串是由数字、文字、字母、下划线组成的一串字符，是编程语言中表示文本的数据类型  "
   ]
  },
  {
   "cell_type": "markdown",
   "metadata": {},
   "source": [
    "#### 3.1引号\n",
    "python中最常用的字符串表示方式是单引号（''）和双引号（\"\"）一定得是<b>英文标点</b>   "
   ]
  },
  {
   "cell_type": "code",
   "execution_count": 1,
   "metadata": {},
   "outputs": [],
   "source": [
    "# 同花顺股票代码\n",
    "stockcode = '300033.SZ'\n",
    "stockcode = \"300033.SZ\"\n",
    "\n",
    "# '300033.SZ' 和 \"300033.SZ\" 对于 Python 来说效果是一样的"
   ]
  },
  {
   "cell_type": "markdown",
   "metadata": {},
   "source": [
    "课时2我们提到：用 \\' 表示单引号，\\\" 表示双引号，可以不受引号的限制："
   ]
  },
  {
   "cell_type": "code",
   "execution_count": 2,
   "metadata": {},
   "outputs": [
    {
     "name": "stdout",
     "output_type": "stream",
     "text": [
      "It's not your \"circumstances\" that shapes you, it's how you react to your \"circumstances\".\n"
     ]
    }
   ],
   "source": [
    "print(\"It\\'s not your \\\"circumstances\\\" that shapes you, it\\'s how you react to your \\\"circumstances\\\".\")"
   ]
  },
  {
   "cell_type": "markdown",
   "metadata": {},
   "source": [
    "#### 3.2转义字符\n",
    "然而，\\反斜杠符号 还有更多用法，被称作转义字符，除了用来表示引号，还有:<br>"
   ]
  },
  {
   "cell_type": "code",
   "execution_count": 3,
   "metadata": {},
   "outputs": [
    {
     "name": "stdout",
     "output_type": "stream",
     "text": [
      "I want:\n",
      "300033.SZ\n"
     ]
    }
   ],
   "source": [
    "# 1）\\n 表示字符串中的换行（相当于按一下回车键的效果）\n",
    "\n",
    "a='I want:\\n300033.SZ'\n",
    "print(a)"
   ]
  },
  {
   "cell_type": "code",
   "execution_count": 4,
   "metadata": {},
   "outputs": [
    {
     "name": "stdout",
     "output_type": "stream",
     "text": [
      "I want:\t\t\t300033.SZ\n"
     ]
    }
   ],
   "source": [
    "# 2）\\t 表示字符串中的制表符（相当于按一下tab键的效果）\n",
    "\n",
    "a='I want:\\t\\t\\t300033.SZ'\n",
    "print(a)"
   ]
  },
  {
   "cell_type": "code",
   "execution_count": 5,
   "metadata": {
    "scrolled": true
   },
   "outputs": [
    {
     "name": "stdout",
     "output_type": "stream",
     "text": [
      "I want:\\300033.SZ\n"
     ]
    }
   ],
   "source": [
    "# 3)\\\\ 表示字符串中的 \\（因为单个斜杠被用来做转义了，所以真的要表示 \\ 字符，要两个斜杠）\n",
    "a='I want:\\\\300033.SZ'\n",
    "print(a)"
   ]
  },
  {
   "cell_type": "code",
   "execution_count": 7,
   "metadata": {
    "scrolled": true
   },
   "outputs": [
    {
     "data": {
      "text/plain": [
       "'this is the same line'"
      ]
     },
     "execution_count": 7,
     "metadata": {},
     "output_type": "execute_result"
    }
   ],
   "source": [
    "# 4）\\还可以用来在代码中换行，而不影响输出的结果（适合需要写一行很长的代码时）\n",
    "\"this is the \\\n",
    "same line\""
   ]
  },
  {
   "cell_type": "code",
   "execution_count": 8,
   "metadata": {},
   "outputs": [],
   "source": [
    "# 5）此外还有一些不常用的使用方法，列举如下："
   ]
  },
  {
   "cell_type": "markdown",
   "metadata": {},
   "source": [
    "      转义字符\t描述   \n",
    "    \\(在行尾时)\t续行符\n",
    "    \\\\\t       反斜杠符号\n",
    "    \\'\t       单引号\n",
    "    \\\"\t       双引号\n",
    "    \\a\t       响铃\n",
    "    \\b\t       退格(Backspace)\n",
    "    \\e\t       转义\n",
    "    \\000         空\n",
    "    \\n\t       换行\n",
    "    \\v\t       纵向制表符\n",
    "    \\t\t       横向制表符\n",
    "    \\r\t       回车\n",
    "    \\f\t       换页\n",
    "    \\oyy\t     八进制数，y 代表 0~7 的字符，例如：\\012 代表换行。\n",
    "    \\xyy\t     十六进制数，以 \\x 开头，yy代表的字符，例如：\\x0a代表换行\n",
    "    \\other\t   其它的字符以普通格式输出<br><br>"
   ]
  },
  {
   "cell_type": "markdown",
   "metadata": {},
   "source": [
    "#### 3.3查询\n",
    "\n",
    "Python的字串有2种取值顺序:\n",
    "+ 从左到右索引默认0开始\n",
    "+ 从右到左索引默认-1开始\n",
    "\n",
    "因为字符串是有序的，所以我们可以按照元素位置进行索引："
   ]
  },
  {
   "attachments": {
    "%E5%AD%97%E7%AC%A6%E4%B8%B2%E5%BA%8F%E5%88%97.png": {
     "image/png": "[encoded data removed]"
    }
   },
   "cell_type": "markdown",
   "metadata": {},
   "source": [
    "![%E5%AD%97%E7%AC%A6%E4%B8%B2%E5%BA%8F%E5%88%97.png](attachment:%E5%AD%97%E7%AC%A6%E4%B8%B2%E5%BA%8F%E5%88%97.png)"
   ]
  },
  {
   "cell_type": "code",
   "execution_count": null,
   "metadata": {},
   "outputs": [],
   "source": [
    "# 获取单个元素\n",
    "stockcode[1]"
   ]
  },
  {
   "cell_type": "code",
   "execution_count": null,
   "metadata": {},
   "outputs": [],
   "source": [
    "# 获取多个元素\n",
    "stockcode[3:5]"
   ]
  },
  {
   "cell_type": "code",
   "execution_count": null,
   "metadata": {
    "scrolled": true
   },
   "outputs": [],
   "source": [
    "# 获取从开头到指定位置\n",
    "stockcode[:8]"
   ]
  },
  {
   "cell_type": "code",
   "execution_count": null,
   "metadata": {},
   "outputs": [],
   "source": [
    "# 获取从指定位置到结尾\n",
    "stockcode[-2:]"
   ]
  },
  {
   "cell_type": "code",
   "execution_count": null,
   "metadata": {},
   "outputs": [],
   "source": [
    "# 获取全部\n",
    "stockcode[:]"
   ]
  },
  {
   "cell_type": "code",
   "execution_count": null,
   "metadata": {},
   "outputs": [],
   "source": [
    "# 获取全部\n",
    "stockcode"
   ]
  },
  {
   "cell_type": "markdown",
   "metadata": {},
   "source": [
    "#### 3.4格式化\n",
    "我们在输出字符串的时候，如果想对输出的内容进行一些整理，比如把几段字符拼接起来，或者把一段字符插入到另一段字符中间，就需要用到字符串的格式化输出。"
   ]
  },
  {
   "cell_type": "code",
   "execution_count": null,
   "metadata": {},
   "outputs": [],
   "source": [
    "# 两段字符连起来输出\n",
    "str1 = '万科A'\n",
    "str2 = '000002.SZ'\n",
    "print(str1 + str2)"
   ]
  },
  {
   "cell_type": "code",
   "execution_count": null,
   "metadata": {
    "scrolled": true
   },
   "outputs": [],
   "source": [
    "# 把字符变量和一个字符串连起来\n",
    "print('房地产行业的龙头有：'+ str1)"
   ]
  },
  {
   "cell_type": "markdown",
   "metadata": {},
   "source": [
    "但想要把一个数字加到文字后面输出，程序会报错。因为字符和数字不能直接用 + 相加"
   ]
  },
  {
   "cell_type": "code",
   "execution_count": null,
   "metadata": {
    "collapsed": true,
    "jupyter": {
     "outputs_hidden": true
    }
   },
   "outputs": [],
   "source": [
    "num = 20.5\n",
    "print('万科A的收盘价是' + num)"
   ]
  },
  {
   "cell_type": "markdown",
   "metadata": {},
   "source": [
    "一种解决方法是，用str()把数字转换成字符串"
   ]
  },
  {
   "cell_type": "code",
   "execution_count": null,
   "metadata": {},
   "outputs": [],
   "source": [
    "num = 20.5\n",
    "\n",
    "print('万科A的收盘价是' + str(18))\n",
    "#或者\n",
    "print('万科A的收盘价是' + str(num))"
   ]
  },
  {
   "cell_type": "markdown",
   "metadata": {},
   "source": [
    "还有一种方法，就是用 % 对字符串进行格式化，输出的时候，原始字符串中的 %d 会被 % 后面的值替换。"
   ]
  },
  {
   "cell_type": "code",
   "execution_count": null,
   "metadata": {},
   "outputs": [],
   "source": [
    "num = 20.5\n",
    "print('万科A的收盘价是 %d' % num)"
   ]
  },
  {
   "cell_type": "markdown",
   "metadata": {},
   "source": [
    "%d 只能用来替换整数。如果你想格式化的数值是小数，要用 %f"
   ]
  },
  {
   "cell_type": "code",
   "execution_count": null,
   "metadata": {
    "scrolled": true
   },
   "outputs": [],
   "source": [
    "num = 20.5\n",
    "print('万科A的收盘价是 %f' % num)"
   ]
  },
  {
   "cell_type": "markdown",
   "metadata": {},
   "source": [
    "如果你想保留两位小数，需要在f前面加上条件：%.2f"
   ]
  },
  {
   "cell_type": "code",
   "execution_count": null,
   "metadata": {},
   "outputs": [],
   "source": [
    "num = 20.5\n",
    "print('万科A的收盘价是 %.2f' % num)"
   ]
  },
  {
   "cell_type": "code",
   "execution_count": null,
   "metadata": {},
   "outputs": [],
   "source": [
    "另外，可以用 %s 来替换一段字符串"
   ]
  },
  {
   "cell_type": "code",
   "execution_count": null,
   "metadata": {},
   "outputs": [],
   "source": [
    "str1 = '万科A'\n",
    "print('%s is a good stock.' % name)"
   ]
  },
  {
   "cell_type": "markdown",
   "metadata": {},
   "source": [
    "#####   python字符串格式化符号\n",
    "      符号\t 描述\n",
    "      %c\t 格式化字符及其ASCII码\n",
    "      %s\t 格式化字符串\n",
    "      %d\t 格式化整数\n",
    "      %u\t 格式化无符号整型\n",
    "      %o\t 格式化无符号八进制数\n",
    "      %x\t 格式化无符号十六进制数\n",
    "      %X\t 格式化无符号十六进制数（大写）\n",
    "      %f\t 格式化浮点数字，可指定小数点后的精度\n",
    "      %e\t 用科学计数法格式化浮点数\n",
    "      %E\t 作用同%e，用科学计数法格式化浮点数\n",
    "      %g\t %f和%e的简写\n",
    "      %G\t %F 和 %E 的简写\n",
    "      %p\t 用十六进制数格式化变量的地址"
   ]
  },
  {
   "cell_type": "markdown",
   "metadata": {},
   "source": [
    ">## 4.列表类型\n",
    "[返回目录](#目录)\n",
    "\n",
    "+ 列表是 python 最最最常用的复合数据类<br>\n",
    "+ 列表可以完成大多数集合类的数据结构实现，支持数字，字符串甚至可以包含列表（即嵌套）<br>\n",
    "+ 列表的数据项不需要具有相同的类型<br>\n",
    "+ 列表用方括号 [ ] 标识，元素间用逗号隔开"
   ]
  },
  {
   "cell_type": "markdown",
   "metadata": {},
   "source": [
    "#### 4.1创建列表"
   ]
  },
  {
   "cell_type": "markdown",
   "metadata": {},
   "source": [
    "我们可以直接创建列表"
   ]
  },
  {
   "cell_type": "code",
   "execution_count": null,
   "metadata": {},
   "outputs": [],
   "source": [
    "# 股票代码列表\n",
    "stocklist = ['300033.SZ','600519.SZ','000002.SZ']\n",
    "# 股票名称\n",
    "stockname = ['同花顺','贵州茅台','万科A']\n",
    "# 股票价格列表\n",
    "stockprice = [102,2008,28]"
   ]
  },
  {
   "cell_type": "markdown",
   "metadata": {},
   "source": [
    "还可以通过list函数把一个序列转换成一个列表："
   ]
  },
  {
   "cell_type": "code",
   "execution_count": null,
   "metadata": {
    "scrolled": true
   },
   "outputs": [],
   "source": [
    "a='hello'\n",
    "list(a)"
   ]
  },
  {
   "cell_type": "markdown",
   "metadata": {},
   "source": [
    "#### 4.2获取长度（对象个数）\n",
    "统计某个元素在列表中出现的次数: len(list)"
   ]
  },
  {
   "cell_type": "code",
   "execution_count": null,
   "metadata": {},
   "outputs": [],
   "source": [
    "len(stocklist)"
   ]
  },
  {
   "cell_type": "code",
   "execution_count": null,
   "metadata": {},
   "outputs": [],
   "source": [
    "len(stock)"
   ]
  },
  {
   "cell_type": "markdown",
   "metadata": {},
   "source": [
    "#### 4.3索引列表中的值"
   ]
  },
  {
   "cell_type": "code",
   "execution_count": null,
   "metadata": {},
   "outputs": [],
   "source": [
    "stocklist[0]"
   ]
  },
  {
   "cell_type": "code",
   "execution_count": null,
   "metadata": {},
   "outputs": [],
   "source": [
    "stocklist[-1]"
   ]
  },
  {
   "cell_type": "code",
   "execution_count": null,
   "metadata": {},
   "outputs": [],
   "source": [
    "stocklist[:2]"
   ]
  },
  {
   "cell_type": "code",
   "execution_count": null,
   "metadata": {},
   "outputs": [],
   "source": [
    "stocklist[1:]"
   ]
  },
  {
   "cell_type": "markdown",
   "metadata": {},
   "source": [
    "#### 4.4修改列表的值\n",
    "\n",
    "为list列表中某单个元素obj赋值：list[index]=obj"
   ]
  },
  {
   "cell_type": "code",
   "execution_count": null,
   "metadata": {
    "scrolled": true
   },
   "outputs": [],
   "source": [
    "stockprice[1]=2009\n",
    "stockprice"
   ]
  },
  {
   "cell_type": "markdown",
   "metadata": {},
   "source": [
    "分片赋值：\n",
    "为列表的某一范围内的元素赋值，即在开始索引号到结束索引号-1的区间之间的元素赋值"
   ]
  },
  {
   "cell_type": "code",
   "execution_count": null,
   "metadata": {
    "scrolled": true
   },
   "outputs": [],
   "source": [
    "stockprice = [102,2008,28]\n",
    "stockprice[0:2]='11','12','13'\n",
    "stockprice"
   ]
  },
  {
   "cell_type": "markdown",
   "metadata": {},
   "source": [
    "#### 4.5删除列表元素\n",
    "可以使用 del 语句按索引位来删除列表的元素，如下实例："
   ]
  },
  {
   "cell_type": "code",
   "execution_count": null,
   "metadata": {},
   "outputs": [],
   "source": [
    "del stockprice[2]\n",
    "stockprice"
   ]
  },
  {
   "cell_type": "markdown",
   "metadata": {},
   "source": [
    "也可以按值删除列表list中的元素obj: list.remove(obj)"
   ]
  },
  {
   "cell_type": "code",
   "execution_count": null,
   "metadata": {},
   "outputs": [],
   "source": [
    "stockprice.remove(28)\n",
    "print(stockprice)"
   ]
  },
  {
   "cell_type": "markdown",
   "metadata": {},
   "source": [
    "#### 4.6插入元素\n",
    "给列表list的索引位置index插入一个元素obj: list.insert(index,obj)"
   ]
  },
  {
   "cell_type": "code",
   "execution_count": null,
   "metadata": {},
   "outputs": [],
   "source": [
    "stockprice = [102,2008,28]\n",
    "stockprice.insert(1,'t')\n",
    "stockprice"
   ]
  },
  {
   "cell_type": "markdown",
   "metadata": {},
   "source": [
    "给列表的最后添加元素: list.append(obj)"
   ]
  },
  {
   "cell_type": "code",
   "execution_count": null,
   "metadata": {},
   "outputs": [],
   "source": [
    "stockprice.append('m')\n",
    "stockprice"
   ]
  },
  {
   "cell_type": "markdown",
   "metadata": {},
   "source": [
    "##### 4.7成员资格\n",
    "为了检查一个值是否在序列中，可以用in运算符"
   ]
  },
  {
   "cell_type": "code",
   "execution_count": null,
   "metadata": {},
   "outputs": [],
   "source": [
    "print('o' in stockprice)"
   ]
  },
  {
   "cell_type": "markdown",
   "metadata": {},
   "source": [
    "#### 4.8找元素的位置\n",
    "返回列表list中某元素obj第一次出现的索引位置: list.index(obj)"
   ]
  },
  {
   "cell_type": "code",
   "execution_count": null,
   "metadata": {},
   "outputs": [],
   "source": [
    "stockprice.index(28)"
   ]
  },
  {
   "cell_type": "markdown",
   "metadata": {},
   "source": [
    "#### 4.9排序\n",
    "将列表list从小到大排列: list.sort()\n",
    "注：sort（）会修改原来的列表"
   ]
  },
  {
   "cell_type": "code",
   "execution_count": null,
   "metadata": {
    "scrolled": true
   },
   "outputs": [],
   "source": [
    "stockprice = [102,2008,28]\n",
    "stockprice.sort()\n",
    "stockprice\n",
    "# 还可以增加reverse参数 reverse=True使其从大到小"
   ]
  },
  {
   "cell_type": "markdown",
   "metadata": {},
   "source": [
    "#### 4.10计数\n",
    "统计某个元素在列表中出现的次数: list.count(obj)"
   ]
  },
  {
   "cell_type": "code",
   "execution_count": null,
   "metadata": {},
   "outputs": [],
   "source": [
    "stockprice.count(28)"
   ]
  },
  {
   "cell_type": "markdown",
   "metadata": {},
   "source": [
    "#### 4.11求最大最小值\n",
    "返回列表元素最大值：max(list)\n",
    "返回列表元素最大值：min(list)"
   ]
  },
  {
   "cell_type": "code",
   "execution_count": null,
   "metadata": {},
   "outputs": [],
   "source": [
    "max(stockprice)\n",
    "min(stockprice)"
   ]
  },
  {
   "cell_type": "markdown",
   "metadata": {},
   "source": [
    ">## 5.元组类型\n",
    "[返回目录](#目录)\n",
    "\n",
    "元组tuple和列表list很像，区别主要在于：\n",
    "+ 列表可以修改，而元组不能，相当于只读列表\n",
    "+ 列表用方括号[]，元组用圆括号 () 标识"
   ]
  },
  {
   "cell_type": "markdown",
   "metadata": {},
   "source": [
    "#### 5.1创建元组\n",
    "直接创建"
   ]
  },
  {
   "cell_type": "code",
   "execution_count": null,
   "metadata": {},
   "outputs": [],
   "source": [
    "tup1 = ('300033.SZ','600519.SZ','000002.SZ')"
   ]
  },
  {
   "cell_type": "markdown",
   "metadata": {},
   "source": [
    "将序列转换成元组"
   ]
  },
  {
   "cell_type": "code",
   "execution_count": null,
   "metadata": {},
   "outputs": [],
   "source": [
    "tup2=tuple(stock)\n",
    "tup2"
   ]
  },
  {
   "cell_type": "markdown",
   "metadata": {},
   "source": [
    "#### 5.2元组索引\n",
    "与字符串和列表相同，元组也可以进行索引："
   ]
  },
  {
   "cell_type": "code",
   "execution_count": null,
   "metadata": {
    "collapsed": true,
    "jupyter": {
     "outputs_hidden": true
    }
   },
   "outputs": [],
   "source": [
    "tup1[0]"
   ]
  },
  {
   "cell_type": "code",
   "execution_count": null,
   "metadata": {
    "scrolled": true
   },
   "outputs": [],
   "source": [
    "tup1[:3]"
   ]
  },
  {
   "cell_type": "markdown",
   "metadata": {},
   "source": [
    "#### 5.3修改元组\n",
    "元组中的元素值是不允许修改的，以下修改元组元素操作是非法的。"
   ]
  },
  {
   "cell_type": "code",
   "execution_count": null,
   "metadata": {},
   "outputs": [],
   "source": [
    "tup1[0] = 100"
   ]
  },
  {
   "cell_type": "markdown",
   "metadata": {},
   "source": [
    "但我们可以对元组进行连接组合:"
   ]
  },
  {
   "cell_type": "code",
   "execution_count": null,
   "metadata": {},
   "outputs": [],
   "source": [
    "tup1 = (12, 34.56)\n",
    "tup2 = ('abc', 'xyz')\n",
    "\n",
    "# 创建一个新的元组\n",
    "tup3 = tup1 + tup2\n",
    "print (tup3)"
   ]
  },
  {
   "cell_type": "markdown",
   "metadata": {},
   "source": [
    "#### 5.4删除元组\n",
    "元组中的元素值是不允许删除的，但我们可以使用del语句来删除整个元组，如下实例:"
   ]
  },
  {
   "cell_type": "code",
   "execution_count": null,
   "metadata": {},
   "outputs": [],
   "source": [
    "tup = ('physics', 'chemistry', 1997, 2000)\n",
    "del tup\n",
    "print(tup)"
   ]
  },
  {
   "cell_type": "markdown",
   "metadata": {},
   "source": [
    "#### 5.5最大最小值\n",
    "返回元组中元素最大值：max(tup)\n",
    "返回元组中元素最大值：min(tup)"
   ]
  },
  {
   "cell_type": "code",
   "execution_count": null,
   "metadata": {},
   "outputs": [],
   "source": [
    "tup=(2,23,4,2)\n",
    "max(tup)"
   ]
  },
  {
   "cell_type": "markdown",
   "metadata": {},
   "source": [
    ">## 6.字典类型\n",
    "[返回目录](#目录)\n",
    "\n",
    "字典是除列表以外最灵活的内置数据结构类型。字典的每个键值 key:value 对用冒号 : 分割，每个键值对之间用逗号 , 分割，整个字典包括在花括号 {} 中；格式如下所示：\n",
    "d = {key1 : value1, key2 : value2 }\n",
    "\n",
    "关于字典，你需要知道的是：\n",
    "+ 序列，元组，列表是有序的对象集合，字典是无序的对象集合\n",
    "+ 字典不能通过索引来访问其中的元素，而要根据键来访问其中的元素\n",
    "+ 键一般是唯一的，如果重复，最后的一个键值对会替换前面的；值不需要唯一\n",
    "+ 键的取值必须是不可变的，如字符串，数字或元组；值可以取任何数据类型"
   ]
  },
  {
   "cell_type": "markdown",
   "metadata": {},
   "source": [
    "#### 6.1创建字典"
   ]
  },
  {
   "cell_type": "code",
   "execution_count": null,
   "metadata": {},
   "outputs": [],
   "source": [
    "dict1={'贵州茅台':'600519'}\n",
    "dict1"
   ]
  },
  {
   "cell_type": "markdown",
   "metadata": {},
   "source": [
    "#### 6.2访问字典里的值\n",
    "把相应的键放入熟悉的方括号"
   ]
  },
  {
   "cell_type": "code",
   "execution_count": null,
   "metadata": {
    "scrolled": true
   },
   "outputs": [],
   "source": [
    "dict1['贵州茅台']"
   ]
  },
  {
   "cell_type": "markdown",
   "metadata": {},
   "source": [
    "如果用字典里没有的键访问数据，会输出错误："
   ]
  },
  {
   "cell_type": "code",
   "execution_count": null,
   "metadata": {},
   "outputs": [],
   "source": [
    "dict1['湖南发展']"
   ]
  },
  {
   "cell_type": "markdown",
   "metadata": {},
   "source": [
    "查看字典元素个数，即键值对的总数"
   ]
  },
  {
   "cell_type": "code",
   "execution_count": null,
   "metadata": {},
   "outputs": [],
   "source": [
    "len(dict1)"
   ]
  },
  {
   "cell_type": "markdown",
   "metadata": {},
   "source": [
    "#### 6.3修改字典"
   ]
  },
  {
   "cell_type": "markdown",
   "metadata": {},
   "source": [
    "向字典添加新内容的方法是增加新的键/值对:"
   ]
  },
  {
   "cell_type": "code",
   "execution_count": null,
   "metadata": {},
   "outputs": [],
   "source": [
    "dict1['贵州茅台'] = '600519.SH' # 更新\n",
    "dict1['湖南发展'] = \"000722.SZ\" # 添加\n",
    "dict1"
   ]
  },
  {
   "cell_type": "markdown",
   "metadata": {},
   "source": [
    "#### 6.4删除\n",
    "能删单一的元素也能清空字典，清空只需一项操作"
   ]
  },
  {
   "cell_type": "code",
   "execution_count": null,
   "metadata": {},
   "outputs": [],
   "source": [
    "del dict1['贵州茅台']  # 删除键是'贵州茅台'的条目\n",
    "dict1"
   ]
  },
  {
   "cell_type": "code",
   "execution_count": null,
   "metadata": {},
   "outputs": [],
   "source": [
    "dict1.clear()      # 清空字典所有条目\n",
    "dict1"
   ]
  },
  {
   "cell_type": "code",
   "execution_count": null,
   "metadata": {},
   "outputs": [],
   "source": [
    "del dict1          # 删除字典\n",
    "dict1"
   ]
  },
  {
   "cell_type": "markdown",
   "metadata": {},
   "source": [
    "#### 6.5键的特性\n",
    "字典值可以没有限制地取任何 python 对象，既可以是标准的对象，也可以是用户定义的，但键不行。\n",
    "\n",
    "两个重要的点需要记住:  \n",
    "1）不允许同一个键出现两次。创建时如果同一个键被赋值两次，只会记住一个值："
   ]
  },
  {
   "cell_type": "code",
   "execution_count": null,
   "metadata": {},
   "outputs": [],
   "source": [
    "dict2={'贵州茅台': '600519', '湖南发展': '000722.SZ','贵州茅台': '600519.SH'}\n",
    "dict2"
   ]
  },
  {
   "cell_type": "markdown",
   "metadata": {},
   "source": [
    "2）键必须不可变，所以可以用数字，字符串或元组充当，所以用列表就不行，如下："
   ]
  },
  {
   "cell_type": "code",
   "execution_count": null,
   "metadata": {},
   "outputs": [],
   "source": [
    "dict3 = {['code']: '湖南发展', 'Age': 7} \n",
    "dict3"
   ]
  },
  {
   "cell_type": "markdown",
   "metadata": {},
   "source": [
    "#### 6.6字典常用函数"
   ]
  },
  {
   "cell_type": "code",
   "execution_count": null,
   "metadata": {},
   "outputs": [],
   "source": [
    "# 获取字典的键 \n",
    "dict2.keys()"
   ]
  },
  {
   "cell_type": "code",
   "execution_count": null,
   "metadata": {},
   "outputs": [],
   "source": [
    "# 获取字典的值\n",
    "dict2.values()"
   ]
  },
  {
   "cell_type": "code",
   "execution_count": null,
   "metadata": {},
   "outputs": [],
   "source": [
    "# 新增键，所属板块\n",
    "dict2['Belonging'] = ['创业板','沪市','深市'] #注意，这时的值是一个列表"
   ]
  },
  {
   "cell_type": "code",
   "execution_count": null,
   "metadata": {},
   "outputs": [],
   "source": [
    "dict2"
   ]
  },
  {
   "cell_type": "markdown",
   "metadata": {},
   "source": [
    ">## 7.嵌套式数据结构\n",
    "[返回目录](#目录)\n",
    "\n",
    "不同数据格式间可以嵌套，嵌套式数据结构指的是：\n",
    "+ 字典存储在列表中\n",
    "+ 列表作为值存储在字典中\n",
    "+ 甚至还可以在字典中嵌套字典"
   ]
  },
  {
   "cell_type": "markdown",
   "metadata": {},
   "source": [
    "#### 7.1列表中包含字典\n",
    "有的应用场景，会在列表中包含大量的字典， 而且其中的每个字典都会包含拥有众多属性的大对象。"
   ]
  },
  {
   "cell_type": "code",
   "execution_count": null,
   "metadata": {},
   "outputs": [],
   "source": [
    "a=[stock,inddict]\n",
    "a"
   ]
  },
  {
   "cell_type": "markdown",
   "metadata": {},
   "source": [
    "#### 7.2字典中包含列表\n",
    "在字典中，需要一个键关联多个值时，我们就可以在字典中嵌套一个列表。"
   ]
  },
  {
   "cell_type": "code",
   "execution_count": null,
   "metadata": {},
   "outputs": [],
   "source": [
    "#字典中包含列表\n",
    "dict3 = {'code':['300033.SZ','600519.SZ','000002.SZ'],\n",
    "         'name':['同花顺','贵州茅台','万科A'],\n",
    "         'price':[102,2008,28]}\n",
    "dict3"
   ]
  },
  {
   "cell_type": "markdown",
   "metadata": {},
   "source": [
    "注意： 列表和字典的嵌套层级不宜太多。 如果嵌套层级多于 2 级， 那么可能有更好的解决方案。"
   ]
  },
  {
   "cell_type": "markdown",
   "metadata": {},
   "source": [
    "#### 7.3字典中嵌套字典"
   ]
  },
  {
   "cell_type": "code",
   "execution_count": null,
   "metadata": {},
   "outputs": [],
   "source": [
    "dict4 = {'房地产':{'住宅开发':'华夏幸福','房产中介':'我爱我家'}}"
   ]
  },
  {
   "cell_type": "markdown",
   "metadata": {},
   "source": [
    "最后，不论任何类型的数据，只要动用dir(object)或者help(obj)就能够在交互模式下查看到有关的函 数，也就是这样能够查看相关帮助文档了。举例:"
   ]
  },
  {
   "cell_type": "code",
   "execution_count": 2,
   "metadata": {
    "collapsed": true,
    "jupyter": {
     "outputs_hidden": true
    }
   },
   "outputs": [
    {
     "ename": "NameError",
     "evalue": "name 'dict3' is not defined",
     "output_type": "error",
     "traceback": [
      "\u001b[0;31m---------------------------------------------------------------------------\u001b[0m",
      "\u001b[0;31mNameError\u001b[0m                                 Traceback (most recent call last)",
      "Input \u001b[0;32mIn [2]\u001b[0m, in \u001b[0;36m<cell line: 1>\u001b[0;34m()\u001b[0m\n\u001b[0;32m----> 1\u001b[0m \u001b[38;5;28mdir\u001b[39m(\u001b[43mdict3\u001b[49m)\n",
      "\u001b[0;31mNameError\u001b[0m: name 'dict3' is not defined"
     ]
    }
   ],
   "source": [
    "dir(dict3)"
   ]
  },
  {
   "cell_type": "markdown",
   "metadata": {},
   "source": [
    "至于详细的操作方法，通过help()的方式获得。如下："
   ]
  },
  {
   "cell_type": "code",
   "execution_count": 1,
   "metadata": {
    "collapsed": true,
    "jupyter": {
     "outputs_hidden": true
    }
   },
   "outputs": [
    {
     "name": "stdout",
     "output_type": "stream",
     "text": [
      "Help on method_descriptor:\n",
      "\n",
      "pop(...)\n",
      "    D.pop(k[,d]) -> v, remove specified key and return the corresponding value.\n",
      "    \n",
      "    If key is not found, default is returned if given, otherwise KeyError is raised\n",
      "\n"
     ]
    }
   ],
   "source": [
    "help(dict.pop)"
   ]
  }
 ],
 "metadata": {
  "kernelspec": {
   "display_name": "Python 3",
   "language": "python",
   "name": "python3"
  },
  "language_info": {
   "codemirror_mode": {
    "name": "ipython",
    "version": 3
   },
   "file_extension": ".py",
   "mimetype": "text/x-python",
   "name": "python",
   "nbconvert_exporter": "python",
   "pygments_lexer": "ipython3",
   "version": "3.8.5"
  }
 },
 "nbformat": 4,
 "nbformat_minor": 4
}
