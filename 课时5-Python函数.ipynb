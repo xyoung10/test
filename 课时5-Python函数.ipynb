{
 "cells": [
  {
   "cell_type": "markdown",
   "metadata": {},
   "source": [
    "# <center>课时5：Python函数"
   ]
  },
  {
   "cell_type": "markdown",
   "metadata": {},
   "source": [
    ">## 目录\n",
    ">1. [定义函数](#1.定义函数)\n",
    ">1. [调用函数](#2.调用函数)\n",
    ">1. [函数的参数](#3.函数的参数)\n",
    ">1. [常用函数详解](#4.常用函数详解)"
   ]
  },
  {
   "cell_type": "markdown",
   "metadata": {},
   "source": [
    "函数是组织好的，可重复使用的， 用来实现单一或相关联功能的代码段。 函数能提高应用的模块性，和代码的重复利用率。"
   ]
  },
  {
   "cell_type": "markdown",
   "metadata": {},
   "source": [
    ">## 1.定义函数\n",
    "[返回目录](#目录)\n",
    "\n",
    "在Python中，定义一个函数要使用def语句，依次写出函数名、括号、括号中的参数和冒号，以下是简单的规则：\n",
    "+ 函数代码块以<b> def </b>关键词开头，后接函数标识符名称和圆括号()。\n",
    "+ 任何传入参数和自变量必须放在圆括号中间。圆括号之间可以用于定义参数。\n",
    "+ 函数的第一行语句可以选择性地使用文档字符串—用于存放函数说明。\n",
    "+ 函数内容以冒号:起始，并且缩进。\n",
    "+ <b>return 表达式</b>结束函数，选择性地返回一个值给调用方。\n",
    "+ 如果没有return语句，函数执行完毕后也会返回结果，只是结果为None。\n",
    "+ 不带表达式的return相当于返回 None。"
   ]
  },
  {
   "cell_type": "code",
   "execution_count": 3,
   "metadata": {},
   "outputs": [],
   "source": [
    "# 根据股价，求次日涨停价\n",
    "def get_limit_price(x):\n",
    "    return round(x*1.1,2)"
   ]
  },
  {
   "cell_type": "markdown",
   "metadata": {},
   "source": [
    "get_limit_price 是这个函数的名字，后面的括号里是参数，下面缩进的代码块就是整个函数的内容，称作函数体。"
   ]
  },
  {
   "cell_type": "code",
   "execution_count": 1,
   "metadata": {},
   "outputs": [],
   "source": [
    "def get_limit_pricelist(x):\n",
    "    '''\n",
    "    根据股价列表，求次日涨停价列表\n",
    "    '''\n",
    "    return [round(p*1.1,2) for p in x]"
   ]
  },
  {
   "cell_type": "markdown",
   "metadata": {},
   "source": [
    "请注意，函数体内部的语句在执行时，一旦执行到return时，函数就执行完毕，并将结果返回。<br>\n",
    "因此，函数内部通过条件判断和循环可以实现非常复杂的逻辑。<br>"
   ]
  },
  {
   "cell_type": "code",
   "execution_count": null,
   "metadata": {},
   "outputs": [],
   "source": [
    "#根据股票代码，获取股票所属版块\n",
    "\n",
    "def get_stockindex(x):\n",
    "    if x[:3]=='688':\n",
    "        return '科创版'\n",
    "    elif x[0]=='3':\n",
    "        return '创业板'\n",
    "    elif x[:3]=='002':\n",
    "        return '中小板'\n",
    "    elif x[-2:]=='SH':\n",
    "        return '上证'\n",
    "    elif x[-2:]=='SZ':\n",
    "        return '深证'"
   ]
  },
  {
   "cell_type": "markdown",
   "metadata": {},
   "source": [
    "定义函数的时候，我们把参数的名字和位置确定下来，函数的接口定义就完成了。<br>\n",
    "对于函数的调用者来说，只需要知道如何传递正确的参数，以及函数将返回什么样的值就够了，函数内部的复杂逻辑被封装起来，调用者无需了解。<br>"
   ]
  },
  {
   "cell_type": "markdown",
   "metadata": {},
   "source": [
    ">## 2.调用函数\n",
    "[返回目录](#目录)"
   ]
  },
  {
   "cell_type": "markdown",
   "metadata": {},
   "source": [
    "### 2.1 调用自己定义的函数："
   ]
  },
  {
   "cell_type": "code",
   "execution_count": 4,
   "metadata": {},
   "outputs": [
    {
     "data": {
      "text/plain": [
       "22.99"
      ]
     },
     "execution_count": 4,
     "metadata": {},
     "output_type": "execute_result"
    }
   ],
   "source": [
    "get_limit_price(20.90)"
   ]
  },
  {
   "cell_type": "code",
   "execution_count": 5,
   "metadata": {
    "scrolled": true
   },
   "outputs": [
    {
     "data": {
      "text/plain": [
       "[2.73, 2.63, 3.59]"
      ]
     },
     "execution_count": 5,
     "metadata": {},
     "output_type": "execute_result"
    }
   ],
   "source": [
    "get_limit_pricelist([2.48,2.39,3.26])"
   ]
  },
  {
   "cell_type": "markdown",
   "metadata": {},
   "source": [
    "### 2.2调用内置函数\n",
    "Python内置了很多有用的函数，我们可以直接调用。比如 range，调用前需要知道函数的名称和参数<br>\n",
    "用range函数举例："
   ]
  },
  {
   "cell_type": "markdown",
   "metadata": {},
   "source": [
    "    range(start, stop[, step]) "
   ]
  },
  {
   "cell_type": "markdown",
   "metadata": {},
   "source": [
    "参数说明：\n",
    "+ start: 计数从 start 开始。默认是从 0 开始。例如range(5)等价于range(0,5);<br>\n",
    "+ stop: 计数到 stop 结束，但不包括 stop。例如：range(0, 5) 是[0, 1, 2, 3, 4]没有5<br>\n",
    "+ step：步长，默认为1。例如：range(0,5) 等价于 range(0, 5, 1)<br>"
   ]
  },
  {
   "cell_type": "code",
   "execution_count": 9,
   "metadata": {},
   "outputs": [
    {
     "data": {
      "text/plain": [
       "range(1, 10)"
      ]
     },
     "execution_count": 9,
     "metadata": {},
     "output_type": "execute_result"
    }
   ],
   "source": [
    " range(1,10) "
   ]
  },
  {
   "cell_type": "markdown",
   "metadata": {},
   "source": [
    "括号里的1和10是 range 需要的参数。range就是一个从1到9的序列生成器（暂时你可以理解为，就是1~9九个数字）。"
   ]
  },
  {
   "cell_type": "markdown",
   "metadata": {},
   "source": [
    "注意：调用函数的时候，如果传入的参数数量不对，会报TypeError的错误。   \n",
    "比如abs()函数，返回变量的绝对值，该函数有且仅有1个参数，但如果给出了两个："
   ]
  },
  {
   "cell_type": "code",
   "execution_count": 10,
   "metadata": {
    "scrolled": true
   },
   "outputs": [
    {
     "ename": "TypeError",
     "evalue": "abs() takes exactly one argument (2 given)",
     "output_type": "error",
     "traceback": [
      "\u001b[0;31m---------------------------------------------------------------------------\u001b[0m",
      "\u001b[0;31mTypeError\u001b[0m                                 Traceback (most recent call last)",
      "Input \u001b[0;32mIn [10]\u001b[0m, in \u001b[0;36m<cell line: 1>\u001b[0;34m()\u001b[0m\n\u001b[0;32m----> 1\u001b[0m \u001b[38;5;28;43mabs\u001b[39;49m\u001b[43m(\u001b[49m\u001b[38;5;241;43m1\u001b[39;49m\u001b[43m,\u001b[49m\u001b[43m \u001b[49m\u001b[38;5;241;43m2\u001b[39;49m\u001b[43m)\u001b[49m\n",
      "\u001b[0;31mTypeError\u001b[0m: abs() takes exactly one argument (2 given)"
     ]
    }
   ],
   "source": [
    "abs(1, 2)"
   ]
  },
  {
   "cell_type": "markdown",
   "metadata": {},
   "source": [
    "如果传入的参数数量是对的，但参数类型不能被函数所接受，也会报TypeError的错误，并且给出错误信息：str是错误的参数类型："
   ]
  },
  {
   "cell_type": "code",
   "execution_count": null,
   "metadata": {
    "scrolled": true
   },
   "outputs": [],
   "source": [
    "abs('a')"
   ]
  },
  {
   "cell_type": "markdown",
   "metadata": {},
   "source": [
    ">## 3.函数的参数\n",
    "[返回目录](#目录)\n",
    "\n",
    "Python的函数定义非常简单，但灵活度却非常大。除了正常定义的<b>必选参数</b>外，还可以使用<b>默认参数</b>、<b>可变参数</b>和<b>关键字参数</b>...  \n",
    "如果参数设置得当，可以使得定义出来的函数不但能处理复杂的参数，还可以简化调用者的代码。"
   ]
  },
  {
   "cell_type": "markdown",
   "metadata": {},
   "source": [
    "### 3.1 默认参数<br>\n",
    "默认参数可以简化函数的调用。我们仍以具体的例子来说明如何定义函数的默认参数：<br>\n",
    "    如果我们想要写一个求平方的函数power："
   ]
  },
  {
   "cell_type": "code",
   "execution_count": 12,
   "metadata": {},
   "outputs": [],
   "source": [
    "def power(n):\n",
    "    return n * n"
   ]
  },
  {
   "cell_type": "markdown",
   "metadata": {},
   "source": [
    "现在，如果我们要计算 n的3次方 怎么办？可以再定义一个power3函数，但是如果要计算n4、n5……怎么办？我们不可能定义无限多个函数。<br>\n",
    "函数中再添加一个参数即可帮助我们搞定这个问题："
   ]
  },
  {
   "cell_type": "code",
   "execution_count": 17,
   "metadata": {},
   "outputs": [],
   "source": [
    "def power(n, m):\n",
    "    d = 1\n",
    "    while m > 0:\n",
    "        m = m - 1 #循环3次\n",
    "        d = d * n #1*5=5，5*5=25，25*5=125\n",
    "    return d"
   ]
  },
  {
   "cell_type": "markdown",
   "metadata": {},
   "source": [
    "对于这个修改后的 power 函数，可以计算任意 n 次方："
   ]
  },
  {
   "cell_type": "code",
   "execution_count": 15,
   "metadata": {},
   "outputs": [
    {
     "data": {
      "text/plain": [
       "125"
      ]
     },
     "execution_count": 15,
     "metadata": {},
     "output_type": "execute_result"
    }
   ],
   "source": [
    "power(5, 3)"
   ]
  },
  {
   "cell_type": "markdown",
   "metadata": {},
   "source": [
    "但是，旧的函数调用失败了，原因是我们增加了一个参数，导致旧的函数无法正常调用："
   ]
  },
  {
   "cell_type": "code",
   "execution_count": 12,
   "metadata": {},
   "outputs": [
    {
     "ename": "TypeError",
     "evalue": "power() missing 1 required positional argument: 't'",
     "output_type": "error",
     "traceback": [
      "\u001b[0;31m---------------------------------------------------------------------------\u001b[0m",
      "\u001b[0;31mTypeError\u001b[0m                                 Traceback (most recent call last)",
      "\u001b[0;32m<ipython-input-12-1fcd865a69f9>\u001b[0m in \u001b[0;36m<module>\u001b[0;34m()\u001b[0m\n\u001b[0;32m----> 1\u001b[0;31m \u001b[0mpower\u001b[0m\u001b[0;34m(\u001b[0m\u001b[0;36m5\u001b[0m\u001b[0;34m)\u001b[0m\u001b[0;34m\u001b[0m\u001b[0m\n\u001b[0m",
      "\u001b[0;31mTypeError\u001b[0m: power() missing 1 required positional argument: 't'"
     ]
    }
   ],
   "source": [
    "power(5)"
   ]
  },
  {
   "cell_type": "markdown",
   "metadata": {},
   "source": [
    "这时，默认参数就排上用场了。由于我们经常计算y的平方，所以，完全可以把第二个参数 m 的默认值设定为 2："
   ]
  },
  {
   "cell_type": "code",
   "execution_count": 29,
   "metadata": {},
   "outputs": [],
   "source": [
    "def power(n, m=2):\n",
    "    d = 1\n",
    "    while m > 0:\n",
    "        m = m - 1\n",
    "        d = d * n\n",
    "    return d"
   ]
  },
  {
   "cell_type": "markdown",
   "metadata": {},
   "source": [
    "这样，当我们调用 power(5) 时，相当于调用 power(5, 2)："
   ]
  },
  {
   "cell_type": "code",
   "execution_count": 31,
   "metadata": {
    "scrolled": true
   },
   "outputs": [
    {
     "data": {
      "text/plain": [
       "25"
      ]
     },
     "execution_count": 31,
     "metadata": {},
     "output_type": "execute_result"
    }
   ],
   "source": [
    "power(5)"
   ]
  },
  {
   "cell_type": "code",
   "execution_count": 30,
   "metadata": {},
   "outputs": [
    {
     "data": {
      "text/plain": [
       "125"
      ]
     },
     "execution_count": 30,
     "metadata": {},
     "output_type": "execute_result"
    }
   ],
   "source": [
    "power(5, 2)"
   ]
  },
  {
   "cell_type": "markdown",
   "metadata": {},
   "source": [
    "而对于 m > 2 的其他情况，就必须明确地传入m，"
   ]
  },
  {
   "cell_type": "code",
   "execution_count": 62,
   "metadata": {},
   "outputs": [
    {
     "data": {
      "text/plain": [
       "125"
      ]
     },
     "execution_count": 62,
     "metadata": {},
     "output_type": "execute_result"
    }
   ],
   "source": [
    "power(5, 3)"
   ]
  },
  {
   "cell_type": "markdown",
   "metadata": {},
   "source": [
    "从上面的例子可以看出，使用默认参数最大的好处是能降低调用函数的难度。<br>\n",
    "设置默认参数时，有几点要注意：  \n",
    "1）必选参数在前，默认参数在后，否则Python的解释器会报错。<br>\n",
    "2）当函数有多个参数时，把经常改动的参数放前面，不经常改动的参数放后面。不经常改动的参数就可以作为默认参数。"
   ]
  },
  {
   "cell_type": "markdown",
   "metadata": {},
   "source": [
    "### 3.2 可变参数<br>\n",
    "在Python函数中，还可以定义可变参数。可变参数就是传入的参数个数是可变的，可以是1个、2个到任意个，还可以是0个。可变参数应用于我们自己也不确定参数个数时<br><br>\n",
    "例：给定一组持仓 a，b，c……，计算 a + b + c +......要定义出这个函数，我们必须确定输入的参数。\n",
    "\n",
    "+ 由于参数个数不确定，我们首先想到可以把a，b，c作为一个 list 或 tuple 传进来，这样，函数可以定义如下：<br>"
   ]
  },
  {
   "cell_type": "code",
   "execution_count": 5,
   "metadata": {},
   "outputs": [],
   "source": [
    "# 计算持仓\n",
    "def positioning(n):\n",
    "    d = 0\n",
    "    for n in n:\n",
    "        d = d + n \n",
    "    return d"
   ]
  },
  {
   "cell_type": "markdown",
   "metadata": {},
   "source": [
    "但是调用的时候，需要先组装出一个 list 或 tuple："
   ]
  },
  {
   "cell_type": "code",
   "execution_count": 6,
   "metadata": {},
   "outputs": [
    {
     "data": {
      "text/plain": [
       "600"
      ]
     },
     "execution_count": 6,
     "metadata": {},
     "output_type": "execute_result"
    }
   ],
   "source": [
    "positioning([100, 200, 300])"
   ]
  },
  {
   "cell_type": "code",
   "execution_count": 11,
   "metadata": {},
   "outputs": [
    {
     "data": {
      "text/plain": [
       "200"
      ]
     },
     "execution_count": 11,
     "metadata": {},
     "output_type": "execute_result"
    }
   ],
   "source": [
    "positioning((100, 300, 500, -700))"
   ]
  },
  {
   "cell_type": "markdown",
   "metadata": {},
   "source": [
    "+ 如果利用可变参数，我们把函数的参数改为可变参数:"
   ]
  },
  {
   "cell_type": "code",
   "execution_count": 14,
   "metadata": {},
   "outputs": [],
   "source": [
    "def positioning(*n):\n",
    "    d = 0\n",
    "    for n in n:\n",
    "        d = d + n \n",
    "    return d"
   ]
  },
  {
   "cell_type": "markdown",
   "metadata": {},
   "source": [
    "　　调用函数的方式可以简化成这样："
   ]
  },
  {
   "cell_type": "code",
   "execution_count": 15,
   "metadata": {},
   "outputs": [
    {
     "data": {
      "text/plain": [
       "600"
      ]
     },
     "execution_count": 15,
     "metadata": {},
     "output_type": "execute_result"
    }
   ],
   "source": [
    "positioning(100, 200, 300)"
   ]
  },
  {
   "cell_type": "code",
   "execution_count": 16,
   "metadata": {},
   "outputs": [
    {
     "data": {
      "text/plain": [
       "200"
      ]
     },
     "execution_count": 16,
     "metadata": {},
     "output_type": "execute_result"
    }
   ],
   "source": [
    "positioning(100, 300, 500, -700)"
   ]
  },
  {
   "cell_type": "markdown",
   "metadata": {},
   "source": [
    "定义可变参数和定义 list 或 tuple 参数相比，仅仅在参数前面加了一个 * 号。在函数内部，参数 n 接收到的是一个 tuple，因此，函数代码完全不变。但是，调用该函数时，可以传入任意个参数，包括 0 个参数："
   ]
  },
  {
   "cell_type": "code",
   "execution_count": 17,
   "metadata": {},
   "outputs": [
    {
     "data": {
      "text/plain": [
       "0"
      ]
     },
     "execution_count": 17,
     "metadata": {},
     "output_type": "execute_result"
    }
   ],
   "source": [
    "positioning()"
   ]
  },
  {
   "cell_type": "markdown",
   "metadata": {},
   "source": [
    "如果已经有一个 list 或者 tuple，要调用一个可变参数怎么办？ Python允许你在 list 或 tuple 前面加一个 * 号，把 list 或 tuple 的元素变成可变参数传进去,可以这样做："
   ]
  },
  {
   "cell_type": "code",
   "execution_count": 18,
   "metadata": {},
   "outputs": [
    {
     "data": {
      "text/plain": [
       "6"
      ]
     },
     "execution_count": 18,
     "metadata": {},
     "output_type": "execute_result"
    }
   ],
   "source": [
    "number = [1, 2, 3]\n",
    "positioning(*number)"
   ]
  },
  {
   "cell_type": "markdown",
   "metadata": {},
   "source": [
    "这种写法相当有用，而且很常见。"
   ]
  },
  {
   "cell_type": "markdown",
   "metadata": {},
   "source": [
    "### 3.3 关键字参数<br>\n",
    "关键字参数有什么用？它可以扩展函数的功能。比如，下单时，我们必须能接收到股票代码和交易数量这两个参数，但是，如果调用者有更多的需求，比如增加止盈位，止损位，限价买入，限价卖出等可选项，利用关键字参数来定义这个函数就能满足。<br>"
   ]
  },
  {
   "cell_type": "markdown",
   "metadata": {},
   "source": [
    "+ 可变参数允许你传入 0 个或任意个参数，这些可变参数在函数调用时自动组装为一个 tuple。\n",
    "+ 而关键字参数允许你传入 0 个或任意个含参数名的参数，这些关键字参数在函数内部自动组装为一个 dict。"
   ]
  },
  {
   "cell_type": "code",
   "execution_count": 34,
   "metadata": {},
   "outputs": [],
   "source": [
    "# 定义交易函数\n",
    "def trade(code, number, **other):\n",
    "    print('code:', code, 'number:', number, 'other:', other)"
   ]
  },
  {
   "cell_type": "markdown",
   "metadata": {},
   "source": [
    "函数trde除了必选参数 name 和 number 外，还接受关键字参数 other。\n",
    "+ 在调用该函数时，可以只传入必选参数："
   ]
  },
  {
   "cell_type": "code",
   "execution_count": 22,
   "metadata": {
    "scrolled": true
   },
   "outputs": [
    {
     "name": "stdout",
     "output_type": "stream",
     "text": [
      "code: 300033.SZ number: 400 other: {}\n"
     ]
    }
   ],
   "source": [
    "trade('300033.SZ',400)"
   ]
  },
  {
   "cell_type": "markdown",
   "metadata": {},
   "source": [
    "+ 也可以传入任意个数的关键字参数："
   ]
  },
  {
   "cell_type": "code",
   "execution_count": 35,
   "metadata": {},
   "outputs": [
    {
     "name": "stdout",
     "output_type": "stream",
     "text": [
      "code: 300033.SZ number: 400 other: {'buylimit': 85.2, 'selllimit': 90.6}\n"
     ]
    }
   ],
   "source": [
    "trade('300033.SZ', 400, buylimit=85.20, selllimit=90.60)"
   ]
  },
  {
   "cell_type": "markdown",
   "metadata": {},
   "source": [
    "### 3.4混合参数\n",
    "在Python中定义函数，可以用<b>必选参数</b>、<b>默认参数</b>、<b>可变参数</b>和<b>关键字参数</b><br>\n",
    "这4种参数都可以一起使用，或者只用其中某些，但是请注意，参数定义的顺序必须是：必选参数、默认参数、可变参数和关键字参数。<br>\n",
    "　　比如定义一个函数，包含上述4种参数：<br>"
   ]
  },
  {
   "cell_type": "code",
   "execution_count": 81,
   "metadata": {},
   "outputs": [],
   "source": [
    "def trade1(code, *args, side='buy', **kw):\n",
    "    print('code:', code, 'side:', side, 'args:', args, 'kw:', kw)"
   ]
  },
  {
   "cell_type": "code",
   "execution_count": null,
   "metadata": {},
   "outputs": [],
   "source": [
    "number = [400,700]\n",
    "positioning(*number)"
   ]
  },
  {
   "cell_type": "markdown",
   "metadata": {},
   "source": [
    "在函数调用的时候，Python解释器会自动按照参数位置和参数名把对应的参数传进去。<br>"
   ]
  },
  {
   "cell_type": "code",
   "execution_count": 76,
   "metadata": {
    "scrolled": true
   },
   "outputs": [
    {
     "name": "stdout",
     "output_type": "stream",
     "text": [
      "code: 300033.SZ side: sell args: (400, 700) kw: {'buylimit': 85.2, 'selllimit': 90.6}\n"
     ]
    }
   ],
   "source": [
    "trade1('300033.SZ',400, 700,side='sell', buylimit=85.20, selllimit=90.60)"
   ]
  },
  {
   "cell_type": "markdown",
   "metadata": {},
   "source": [
    "### 3.5参数注意事项："
   ]
  },
  {
   "cell_type": "markdown",
   "metadata": {},
   "source": [
    "+ 默认参数一定要用不可变对象，如果是可变对象，程序运行时会有逻辑错误！\n",
    "\n",
    "+ 要注意定义可变参数和关键字参数的语法：\n",
    "\n",
    "    + *args是可变参数，args接收的是一个tuple\n",
    "    + **kw是关键字参数，kw接收的是一个dict\n",
    "\n",
    "+ 以及调用函数时如何传入可变参数和关键字参数的语法：\n",
    "    + 可变参数既可以直接传入：func(1, 2, 3)，又可以先组装list或tuple，再通过\\*args传入：func(*(1, 2, 3))；\n",
    "    + 关键字参数既可以直接传入：func(a=1, b=2)，又可以先组装dict，再通过\\**kw传入：func(\\**{'a': 1, 'b': 2})。\n",
    "    \n",
    "+ 使用\\*args和\\**kw是Python的习惯写法，当然也可以用其他参数名，但最好使用习惯用法。"
   ]
  },
  {
   "cell_type": "markdown",
   "metadata": {},
   "source": [
    ">## 4.常用函数详解：\n",
    "[返回目录](#目录)\n",
    "\n",
    "【案例】获取2022年6月23日中证1000指数的所有成份股\n",
    "+ 第一步：在[API文档](http://quant.10jqka.com.cn/platform/html/help-api-ifind.html?t=-2#541/0)中，找到获取指数成份股的函数：  \n",
    "get_index_stocks(symbol, date)\n",
    "+ 第二步：确定函数参数   \n",
    "中证1000指数与2022年6月23日\n",
    "+ 第三步：调用函数"
   ]
  },
  {
   "cell_type": "code",
   "execution_count": null,
   "metadata": {},
   "outputs": [],
   "source": [
    "index_code = '000852.SH' #参数一\n",
    "date = '2022-06-23'      #参数二\n",
    "stock = get_index_stocks(index_code, date)\n",
    "print(stock)"
   ]
  },
  {
   "cell_type": "markdown",
   "metadata": {},
   "source": [
    "【案例】获取2022年6月23日中证1000指数所有成份股, 再次基础上获取所有股票的近10天的收盘价数据, 变成DataFrame格式  \n",
    "\n",
    "+ 第一步：在API文档中，找到获取股票收盘价的函数：   \n",
    "get_price(symbol_list, start_date, end_date, fre_step, fields, skip_paused = False, fq = 'pre', bar_count = 0, is_panel = 0)  \n",
    "+ 第二步：确定函数参数：    \n",
    "stock, None, '2022-06-23', '1d', ['close'], skip_paused = False, fq = 'pre', bar_count = 10, is_panel = 1  \n",
    "+ 第三步：调用函数"
   ]
  },
  {
   "cell_type": "code",
   "execution_count": null,
   "metadata": {},
   "outputs": [],
   "source": [
    "get_price(securities, # 股票, 指数或基金代码列表(可以是单个, 多个, 列表)\n",
    "          start_date, # 起始时间\n",
    "          end_date, # 结束时间\n",
    "          fre_step, # 时间步长\n",
    "          fields, # 数据字段>　'open': 开盘价(元)　'high': 最高价(元)　'low': 最低价(元)　'close': 收盘价(元)\n",
    "          skip_paused = False, #是否跳过停牌数\n",
    "          fq = 'pre', #复权选项\n",
    "          bar_count = 0, #历史长度\n",
    "          is_panel = 0 #返回数据格式\n",
    "         )"
   ]
  },
  {
   "cell_type": "code",
   "execution_count": null,
   "metadata": {},
   "outputs": [],
   "source": [
    "closedf = get_price(stock, None, date, '1d', ['close'], bar_count = 10, is_panel = 1)['close']\n",
    "closedf"
   ]
  },
  {
   "cell_type": "markdown",
   "metadata": {},
   "source": [
    "[返回顶部](#目录)"
   ]
  }
 ],
 "metadata": {
  "kernelspec": {
   "display_name": "Python 3",
   "language": "python",
   "name": "python3"
  },
  "language_info": {
   "codemirror_mode": {
    "name": "ipython",
    "version": 3
   },
   "file_extension": ".py",
   "mimetype": "text/x-python",
   "name": "python",
   "nbconvert_exporter": "python",
   "pygments_lexer": "ipython3",
   "version": "3.8.5"
  }
 },
 "nbformat": 4,
 "nbformat_minor": 4
}
