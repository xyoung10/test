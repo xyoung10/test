{
 "cells": [
  {
   "cell_type": "markdown",
   "metadata": {},
   "source": [
    "# <center>Python模块<br>\n",
    "\n",
    "课时2中我们提到了Python 模块(Module)，模块是一个 Python 文件，以 .py 结尾，包含了 Python 对象定义和Python语句。  \n",
    "模块：能定义函数，类和变量，模块里也能包含可执行的代码。把相关的代码分配到一个模块里能让你的代码更有逻辑，更好用，更易懂。"
   ]
  },
  {
   "cell_type": "markdown",
   "metadata": {},
   "source": [
    ">## 目录\n",
    ">1. [引入模块](#1.引入模块)\n",
    ">1. [numpy基础](#2.调用函数)\n",
    ">1. [pandas基础](#3.函数的参数)\n",
    ">1. [matploitlib基础](#4.常用函数详解)"
   ]
  },
  {
   "cell_type": "markdown",
   "metadata": {},
   "source": [
    ">## 1.引入模块-import\n",
    "[返回目录](#目录)"
   ]
  },
  {
   "cell_type": "markdown",
   "metadata": {},
   "source": [
    "+ 课时2中，我们知道Python 的 from...import...语句让你从模块中导入一个指定的函数，语法如下："
   ]
  },
  {
   "cell_type": "code",
   "execution_count": 3,
   "metadata": {},
   "outputs": [],
   "source": [
    "from random import randint"
   ]
  },
  {
   "cell_type": "markdown",
   "metadata": {},
   "source": [
    "+ 如果我们想一次性引入 math 模块中所有的东西，语句如下："
   ]
  },
  {
   "cell_type": "code",
   "execution_count": 4,
   "metadata": {},
   "outputs": [],
   "source": [
    "from math import *"
   ]
  },
  {
   "cell_type": "markdown",
   "metadata": {},
   "source": [
    "这提供了一个简单的方法来导入一个模块中的所有项目。然而这种声明不该被过多地使用。"
   ]
  },
  {
   "cell_type": "markdown",
   "metadata": {},
   "source": [
    "+ 我们在实际操作时，会导入很多的模块。这是就要用到as进行缩写（在引入多个模块的时候，推荐使用这个方法）。"
   ]
  },
  {
   "cell_type": "code",
   "execution_count": 5,
   "metadata": {},
   "outputs": [],
   "source": [
    "import math  # 算术的库\n",
    "import numpy as np # NumPy(Numerical Python) 支持大量的维度数组与矩阵运算\n",
    "import pandas as pd #Pandas 名字衍生自 \"panel data\"（面板数据）和 \"Python data analysis\"（数据分析）\n",
    "import seaborn as sns # 用于科学计算\n",
    "import matplotlib.pyplot as plt # 用于画图，数据可视化"
   ]
  },
  {
   "cell_type": "markdown",
   "metadata": {},
   "source": [
    "### 相关链接\n",
    "NumPy 官网 http://www.numpy.org/<br>\n",
    "NumPy 源代码：https://github.com/numpy/numpy<br>\n",
    "Pandas 官网 https://pandas.pydata.org/<br>\n",
    "Pandas 源代码：https://github.com/pandas-dev/pandas<br>\n",
    "SciPy 官网：https://www.scipy.org/<br>\n",
    "SciPy 源代码：https://github.com/scipy/scipy<br>\n",
    "Matplotlib 官网：https://matplotlib.org/<br>\n",
    "Matplotlib 源代码：https://github.com/matplotlib/matplotlib<br>"
   ]
  },
  {
   "cell_type": "markdown",
   "metadata": {},
   "source": [
    ">## 2.Numpy\n",
    "[返回目录](#目录)\n",
    "\n",
    "Numpy是高性能科学计算和数据分析的基础包。Numpy本身并没有提供多么高级的数据分析功能，NumPy 通常与 SciPy（Scientific Python）和 Matplotlib（绘图库）一起使用， 这种组合广泛用于替代 MatLab，是一个强大的科学计算环境，有助于我们通过 Python 学习数据科学或者机器学习。理解 Numpuy 数组以及面向数组的计算将有助于你提高处理数据能力。\n",
    " 本节内容介绍ndarray数组和矩阵。"
   ]
  },
  {
   "cell_type": "markdown",
   "metadata": {},
   "source": [
    "### 2.1Ndarray对象\n",
    "如果没有特殊说明，本节的“数组”均为 Numpy 数组对象，与 Python 的列表和 array模块无关。"
   ]
  },
  {
   "cell_type": "markdown",
   "metadata": {},
   "source": [
    "NumPy 最重要的一个特点是其 N 维数组对象 ndarray，它是一系列同类型数据的集合，以 0 下标为开始进行集合中元素的索引。\n",
    "ndarray 对象是用于存放同类型元素的多维数组。<br>\n",
    "创建一个 ndarray 只需调用 NumPy 的 array 函数即可，如果想定义多维数组，则传递多层嵌套的序列。"
   ]
  },
  {
   "cell_type": "code",
   "execution_count": 6,
   "metadata": {
    "collapsed": true,
    "jupyter": {
     "outputs_hidden": true
    }
   },
   "outputs": [
    {
     "ename": "NameError",
     "evalue": "name 'numpy' is not defined",
     "output_type": "error",
     "traceback": [
      "\u001b[0;31m---------------------------------------------------------------------------\u001b[0m",
      "\u001b[0;31mNameError\u001b[0m                                 Traceback (most recent call last)",
      "Input \u001b[0;32mIn [6]\u001b[0m, in \u001b[0;36m<cell line: 1>\u001b[0;34m()\u001b[0m\n\u001b[0;32m----> 1\u001b[0m \u001b[43mnumpy\u001b[49m\u001b[38;5;241m.\u001b[39marray(\u001b[38;5;28mobject\u001b[39m, dtype \u001b[38;5;241m=\u001b[39m \u001b[38;5;28;01mNone\u001b[39;00m, copy \u001b[38;5;241m=\u001b[39m \u001b[38;5;28;01mTrue\u001b[39;00m, order \u001b[38;5;241m=\u001b[39m \u001b[38;5;28;01mNone\u001b[39;00m, subok \u001b[38;5;241m=\u001b[39m \u001b[38;5;28;01mFalse\u001b[39;00m, ndmin \u001b[38;5;241m=\u001b[39m \u001b[38;5;241m0\u001b[39m)\n",
      "\u001b[0;31mNameError\u001b[0m: name 'numpy' is not defined"
     ]
    }
   ],
   "source": [
    "numpy.array(object, dtype = None, copy = True, order = None, subok = False, ndmin = 0)\n",
    "# object 数组或嵌套的数列\n",
    "# dtype 数组元素的数据类型，可选\n",
    "# copy  对象是否需要复制，可选\n",
    "# order 创建数组的样式，C为行方向，F为列方向，A为任意方向（默认）\n",
    "# subok 默认返回一个与基类类型一致的数组\n",
    "# ndmin 指定生成数组的最小维度"
   ]
  },
  {
   "cell_type": "code",
   "execution_count": null,
   "metadata": {},
   "outputs": [],
   "source": [
    "help(np.array) # 可通过help查询使用方法"
   ]
  },
  {
   "cell_type": "markdown",
   "metadata": {},
   "source": [
    "举例：定义一维数组，其大小为（1,3），即有1行，3列"
   ]
  },
  {
   "cell_type": "code",
   "execution_count": null,
   "metadata": {},
   "outputs": [],
   "source": [
    "a = np.array([1,2,3])  \n",
    "print (a)"
   ]
  },
  {
   "cell_type": "markdown",
   "metadata": {},
   "source": [
    "举例：定义二维数组，其大小为（2,3），即有2行，3列"
   ]
  },
  {
   "cell_type": "code",
   "execution_count": null,
   "metadata": {
    "scrolled": true
   },
   "outputs": [],
   "source": [
    "a = np.array([[1,2,3.0],[2,3,4.0]])\n",
    "print(a)"
   ]
  },
  {
   "cell_type": "markdown",
   "metadata": {},
   "source": [
    "### 2.2 数组属性\n",
    "NumPy 数组的维数称为秩（rank），秩就是轴的数量，即数组的维度，一维数组的秩为 1，二维数组的秩为 2，以此类推。<br>\n",
    "在 NumPy中，每一个线性的数组称为是一个轴（axis），也就是维度（dimensions）。比如说，二维数组相当于是两个一维数组，其中第一个一维数组中每个元素又是一个一维数组。所以一维数组就是 NumPy 中的轴（axis），第一个轴相当于是底层数组，第二个轴是底层数组里的数组。而轴的数量——秩，就是数组的维数。<br>\n",
    "很多时候可以声明 axis。axis=0 表示沿着第 0 轴进行操作，即对每一列进行操作；axis=1，表示沿着第1轴进行操作，即对每一行进行操作。\n",
    "我们目前只需要了解3个属性："
   ]
  },
  {
   "cell_type": "code",
   "execution_count": null,
   "metadata": {},
   "outputs": [],
   "source": [
    "# 查看秩，即轴的数量或维度的数量使用 ndim，返回轴的数量行数 n \n",
    "a.ndim"
   ]
  },
  {
   "cell_type": "code",
   "execution_count": null,
   "metadata": {},
   "outputs": [],
   "source": [
    "# 查看数组的维数使用shape，返回(n,m)， 其中 n 为行数，m 为列数\n",
    "a.shape"
   ]
  },
  {
   "cell_type": "code",
   "execution_count": null,
   "metadata": {},
   "outputs": [],
   "source": [
    "# 查看数据类型使用dtype，比如 numpy.int32、numpy.float64\n",
    "a.dtype"
   ]
  },
  {
   "cell_type": "markdown",
   "metadata": {},
   "source": [
    "### 2.3创建数组\n",
    "ndarray 数组除了可以使用 ndarray 来创建外，也可以通过以下几种方式来创建。"
   ]
  },
  {
   "cell_type": "markdown",
   "metadata": {},
   "source": [
    "##### empty数组-空数组\n",
    "numpy.empty 方法用来创建一个指定形状（shape）、数据类型（dtype）且未初始化的数组："
   ]
  },
  {
   "cell_type": "code",
   "execution_count": null,
   "metadata": {},
   "outputs": [],
   "source": [
    "numpy.empty(shape, dtype = float, order = 'C')\n",
    "\n",
    "# shape 数组形状\n",
    "# dtype 数据类型 默认为浮点数\n",
    "# order 有“C”和“F”两个选项，分别代表 行优先 和 列优先"
   ]
  },
  {
   "cell_type": "code",
   "execution_count": null,
   "metadata": {
    "scrolled": true
   },
   "outputs": [],
   "source": [
    "np.empty((3,3))"
   ]
  },
  {
   "cell_type": "markdown",
   "metadata": {},
   "source": [
    "注意：数组元素为随机值，因为它们未初始化。"
   ]
  },
  {
   "cell_type": "markdown",
   "metadata": {},
   "source": [
    "##### zeros数组-全零数组\n",
    "创建指定大小的数组，数组元素以 0 来填充："
   ]
  },
  {
   "cell_type": "code",
   "execution_count": null,
   "metadata": {},
   "outputs": [],
   "source": [
    "numpy.zeros(shape, dtype = float, order = 'C')\n",
    "\n",
    "# shape 数组形状\n",
    "# dtype 数据类型 默认为浮点数\n",
    "# order 有“C”和“F”两个选项，分别代表 行优先 和 列优先"
   ]
  },
  {
   "cell_type": "code",
   "execution_count": null,
   "metadata": {
    "scrolled": true
   },
   "outputs": [],
   "source": [
    "np.zeros((2,5), dtype = float)\n",
    "# dtype数据类型 设置类型为整数"
   ]
  },
  {
   "cell_type": "markdown",
   "metadata": {},
   "source": [
    "##### ones数组-全1数组\n",
    "创建指定形状的数组，数组元素以 1 来填充："
   ]
  },
  {
   "cell_type": "code",
   "execution_count": null,
   "metadata": {},
   "outputs": [],
   "source": [
    "numpy.ones(shape, dtype = None, order = 'C')\n",
    "\n",
    "# shape 数组形状\n",
    "# dtype 数据类型 可选\n",
    "# order 有“C”和“F”两个选项，分别代表 行优先 和 列优先"
   ]
  },
  {
   "cell_type": "code",
   "execution_count": null,
   "metadata": {},
   "outputs": [],
   "source": [
    "np.ones((6,7))"
   ]
  },
  {
   "cell_type": "markdown",
   "metadata": {},
   "source": [
    "### 2.4 根据序列创建数组"
   ]
  },
  {
   "cell_type": "markdown",
   "metadata": {},
   "source": [
    "#### numpy.asarray\n",
    "numpy.asarray 类似 numpy.array，但 numpy.asarray 参数只有三个，比 numpy.array 少两个。"
   ]
  },
  {
   "cell_type": "code",
   "execution_count": null,
   "metadata": {},
   "outputs": [],
   "source": [
    "numpy.asarray(a, dtype = None, order = None)\n",
    "\n",
    "# a 任意形式的输入参数，可以是 列表, 列表的元组, 元组, 元组的元组, 元组的列表，多维数组"
   ]
  },
  {
   "cell_type": "markdown",
   "metadata": {},
   "source": [
    "<b>将列表转换为 ndarray:"
   ]
  },
  {
   "cell_type": "code",
   "execution_count": 7,
   "metadata": {},
   "outputs": [
    {
     "name": "stdout",
     "output_type": "stream",
     "text": [
      "[100 200 300]\n"
     ]
    }
   ],
   "source": [
    "position = [100, 200, 300]\n",
    "array1 = np.asarray(position)\n",
    "print(array1)"
   ]
  },
  {
   "cell_type": "code",
   "execution_count": 8,
   "metadata": {},
   "outputs": [
    {
     "data": {
      "text/plain": [
       "array(['2020-01-02', '2020-01-23', '2020-02-28', '2020-03-31',\n",
       "       '2020-04-30', '2020-05-29', '2020-06-30', '2020-07-31',\n",
       "       '2020-08-31', '2020-09-30', '2020-10-30', '2020-11-30',\n",
       "       '2020-12-31'], dtype='<U10')"
      ]
     },
     "execution_count": 8,
     "metadata": {},
     "output_type": "execute_result"
    }
   ],
   "source": [
    "datelist = ['2020-01-02','2020-01-23', '2020-02-28', \n",
    "            '2020-03-31', '2020-04-30', '2020-05-29', \n",
    "            '2020-06-30', '2020-07-31', '2020-08-31', \n",
    "            '2020-09-30', '2020-10-30', '2020-11-30', '2020-12-31']\n",
    "array2 = np.asarray(datelist)\n",
    "array2"
   ]
  },
  {
   "cell_type": "markdown",
   "metadata": {},
   "source": [
    "<b>设置 dtype 参数："
   ]
  },
  {
   "cell_type": "code",
   "execution_count": 9,
   "metadata": {},
   "outputs": [
    {
     "name": "stdout",
     "output_type": "stream",
     "text": [
      "[100. 200. 300.]\n"
     ]
    }
   ],
   "source": [
    "array1 = np.asarray(position, dtype =  float)\n",
    "print(array1)"
   ]
  },
  {
   "cell_type": "markdown",
   "metadata": {},
   "source": [
    "### 2.5 根据数值范围创建数组"
   ]
  },
  {
   "cell_type": "markdown",
   "metadata": {},
   "source": [
    "#### numpy.arange\n",
    "numpy 包中的使用 arange 函数划定数值范围用于创建一个一维数组，并返回 ndarray 对象，函数格式如下："
   ]
  },
  {
   "cell_type": "code",
   "execution_count": 10,
   "metadata": {
    "collapsed": true,
    "jupyter": {
     "outputs_hidden": true
    }
   },
   "outputs": [
    {
     "ename": "NameError",
     "evalue": "name 'numpy' is not defined",
     "output_type": "error",
     "traceback": [
      "\u001b[0;31m---------------------------------------------------------------------------\u001b[0m",
      "\u001b[0;31mNameError\u001b[0m                                 Traceback (most recent call last)",
      "Input \u001b[0;32mIn [10]\u001b[0m, in \u001b[0;36m<cell line: 1>\u001b[0;34m()\u001b[0m\n\u001b[0;32m----> 1\u001b[0m \u001b[43mnumpy\u001b[49m\u001b[38;5;241m.\u001b[39marange(start, stop, step, dtype)\n",
      "\u001b[0;31mNameError\u001b[0m: name 'numpy' is not defined"
     ]
    }
   ],
   "source": [
    "numpy.arange(start, stop, step, dtype)\n",
    "\n",
    "#start 起始值，默认为0\n",
    "#stop 终止值（不包含）\n",
    "#step 步长，默认为1\n",
    "#dtype 返回ndarray的数据类型，如果没有提供，则会使用输入数据的类型"
   ]
  },
  {
   "cell_type": "markdown",
   "metadata": {},
   "source": [
    "根据 start 与 stop 指定的范围以及 step 设定的步长，生成一个 ndarray。"
   ]
  },
  {
   "cell_type": "code",
   "execution_count": 11,
   "metadata": {
    "scrolled": true
   },
   "outputs": [
    {
     "name": "stdout",
     "output_type": "stream",
     "text": [
      "[ 0  1  2  3  4  5  6  7  8  9 10 11 12 13 14 15 16 17 18 19 20 21 22 23\n",
      " 24 25 26 27 28 29 30 31 32 33 34 35 36 37 38 39 40 41 42 43 44 45 46 47\n",
      " 48 49 50 51 52 53 54 55 56 57 58 59 60 61 62 63 64 65 66 67 68 69 70 71\n",
      " 72 73 74 75 76 77 78 79 80 81 82 83 84 85 86 87 88 89 90 91 92 93 94 95\n",
      " 96 97 98 99]\n"
     ]
    }
   ],
   "source": [
    "x = np.arange(100)  \n",
    "print (x)"
   ]
  },
  {
   "cell_type": "markdown",
   "metadata": {},
   "source": [
    "#### numpy.linspace\n",
    "numpy.linspace 函数用于创建一个一维数组，数组是一个等差数列构成的，格式如下："
   ]
  },
  {
   "cell_type": "code",
   "execution_count": 12,
   "metadata": {
    "collapsed": true,
    "jupyter": {
     "outputs_hidden": true
    }
   },
   "outputs": [
    {
     "ename": "NameError",
     "evalue": "name 'start' is not defined",
     "output_type": "error",
     "traceback": [
      "\u001b[0;31m---------------------------------------------------------------------------\u001b[0m",
      "\u001b[0;31mNameError\u001b[0m                                 Traceback (most recent call last)",
      "Input \u001b[0;32mIn [12]\u001b[0m, in \u001b[0;36m<cell line: 1>\u001b[0;34m()\u001b[0m\n\u001b[0;32m----> 1\u001b[0m np\u001b[38;5;241m.\u001b[39mlinspace(\u001b[43mstart\u001b[49m, stop, num\u001b[38;5;241m=\u001b[39m\u001b[38;5;241m50\u001b[39m, endpoint\u001b[38;5;241m=\u001b[39m\u001b[38;5;28;01mTrue\u001b[39;00m, retstep\u001b[38;5;241m=\u001b[39m\u001b[38;5;28;01mFalse\u001b[39;00m, dtype\u001b[38;5;241m=\u001b[39m\u001b[38;5;28;01mNone\u001b[39;00m)\n",
      "\u001b[0;31mNameError\u001b[0m: name 'start' is not defined"
     ]
    }
   ],
   "source": [
    "np.linspace(start, stop, num=50, endpoint=True, retstep=False, dtype=None)\n",
    "\n",
    "# start 序列的起始值\n",
    "# stop 序列的终止值，如果endpoint为true，该值包含于数列中\n",
    "# num  要生成的等步长的样本数量，默认为50\n",
    "# endpoint 该值为 true 时，数列中包含stop值，反之不包含，默认是True。\n",
    "# retstep 如果为 True 时，生成的数组中会显示间距，反之不显示。\n",
    "# dtypendarray 的数据类型"
   ]
  },
  {
   "cell_type": "markdown",
   "metadata": {},
   "source": [
    "以下实例用到四个参数，设置起始点为 1 ，终止点为 365，数列个数为 51，数据类型为整数。"
   ]
  },
  {
   "cell_type": "code",
   "execution_count": 14,
   "metadata": {},
   "outputs": [
    {
     "name": "stdout",
     "output_type": "stream",
     "text": [
      "[  1   8  15  22  30  37  44  51  59  66  73  81  88  95 102 110 117 124\n",
      " 132 139 146 153 161 168 175 183 190 197 204 212 219 226 233 241 248 255\n",
      " 263 270 277 284 292 299 306 314 321 328 335 343 350 357 365]\n"
     ]
    }
   ],
   "source": [
    "a = np.linspace(1,365,51,dtype=int)\n",
    "print(a)"
   ]
  },
  {
   "cell_type": "markdown",
   "metadata": {},
   "source": [
    "### 2.6索引和切片\n",
    "\n",
    "ndarray对象的内容可以通过索引或切片来访问和修改，与 Python 中 list 的切片操作一样。\n",
    "ndarray 数组可以基于 0 - n 的下标进行索引，切片对象可以通过内置的 slice 函数，并设置 start, stop 及 step 参数进行，从原数组中切割出一个新数组。"
   ]
  },
  {
   "cell_type": "code",
   "execution_count": 15,
   "metadata": {
    "scrolled": true
   },
   "outputs": [
    {
     "name": "stdout",
     "output_type": "stream",
     "text": [
      "365\n"
     ]
    }
   ],
   "source": [
    "print(a[50]) # 找到第51个索引位的元素"
   ]
  },
  {
   "cell_type": "code",
   "execution_count": 16,
   "metadata": {},
   "outputs": [
    {
     "name": "stdout",
     "output_type": "stream",
     "text": [
      "[ 37  44  51  59  66  73  81  88  95 102 110 117 124 132 139 146 153 161\n",
      " 168 175 183 190 197 204 212 219 226 233 241 248 255 263 270 277 284 292\n",
      " 299 306 314 321 328 335 343 350 357 365]\n"
     ]
    }
   ],
   "source": [
    "print(a[5:]) # 找到从6个索引位之后的元素"
   ]
  },
  {
   "cell_type": "markdown",
   "metadata": {},
   "source": [
    "之前的课时中，讲到过索引的用法，复习一下：<br>\n",
    "+ 如果方括号[]中只放置一个参数，如 [2]，将返回与该索引相对应的单个元素。<br>\n",
    "+ 如果为 [2:]，表示从该索引开始以后的所有项都将被提取。<br>\n",
    "+ 如果使用了两个参数，如 [2:7]，那么则提取两个索引(不包括停止索引)之间的项。<br>"
   ]
  },
  {
   "cell_type": "markdown",
   "metadata": {},
   "source": [
    "多维数组同样适用上述索引提取方法："
   ]
  },
  {
   "cell_type": "code",
   "execution_count": 17,
   "metadata": {
    "scrolled": true
   },
   "outputs": [
    {
     "name": "stdout",
     "output_type": "stream",
     "text": [
      "[['399001.SZ' '深证成指']\n",
      " ['399006.SZ' '创业板指']\n",
      " ['000300.SH' '沪深300']\n",
      " ['000016.SH' '上证50']\n",
      " ['000905.SH' '中证500']]\n"
     ]
    }
   ],
   "source": [
    "index = np.array([['000001.SH','上证指数'],['399001.SZ','深证成指'],['399006.SZ','创业板指'],\n",
    "            ['000300.SH','沪深300'],['000016.SH','上证50'],['000905.SH','中证500']])\n",
    "\n",
    "# 从数组索引 index[1:] 处开始切割\n",
    "print(index[1:])"
   ]
  },
  {
   "cell_type": "markdown",
   "metadata": {},
   "source": [
    "### 2.7高级索引\n",
    "\n",
    "NumPy 比一般的 Python 序列提供更多的索引方式。除了之前看到的用整数和切片的索引外，数组可以由整数数组索引、布尔索引及花式索引。"
   ]
  },
  {
   "cell_type": "markdown",
   "metadata": {},
   "source": [
    "<b>整数数组索引</b><br>\n",
    "从数组索引 第六行第2列"
   ]
  },
  {
   "cell_type": "code",
   "execution_count": 18,
   "metadata": {},
   "outputs": [
    {
     "data": {
      "text/plain": [
       "'中证500'"
      ]
     },
     "execution_count": 18,
     "metadata": {},
     "output_type": "execute_result"
    }
   ],
   "source": [
    "index = np.array([['000001.SH','上证指数'],['399001.SZ','深证成指'],['399006.SZ','创业板指'],\n",
    "            ['000300.SH','沪深300'],['000016.SH','上证50'],['000905.SH','中证500']])\n",
    "\n",
    "sel = index[5,1]\n",
    "sel"
   ]
  },
  {
   "cell_type": "code",
   "execution_count": 19,
   "metadata": {},
   "outputs": [
    {
     "name": "stdout",
     "output_type": "stream",
     "text": [
      "['上证指数' '深证成指' '399006.SZ']\n"
     ]
    }
   ],
   "source": [
    "# 以下实例获取数组中(0,1)，(1,1)和(2,0)位置处的元素\n",
    "sele = index[[0,1,2],  [1,1,0]]  \n",
    "print (sele)"
   ]
  },
  {
   "cell_type": "markdown",
   "metadata": {},
   "source": [
    "<b>布尔索引</b><br>\n",
    "我们可以通过一个布尔数组来索引目标数组。\n",
    "布尔索引通过布尔运算（如：比较运算符）来获取符合指定条件的元素的数组。"
   ]
  },
  {
   "cell_type": "markdown",
   "metadata": {},
   "source": [
    "+ 获取a中大于 5 的元素："
   ]
  },
  {
   "cell_type": "code",
   "execution_count": 20,
   "metadata": {},
   "outputs": [
    {
     "name": "stdout",
     "output_type": "stream",
     "text": [
      "[ 81  88  95 102 110 117 124 132 139 146 153 161 168 175 183 190 197 204\n",
      " 212 219 226 233 241 248 255 263 270 277 284 292 299 306 314 321 328 335\n",
      " 343 350 357 365]\n"
     ]
    }
   ],
   "source": [
    "print(a[a>80])"
   ]
  },
  {
   "cell_type": "markdown",
   "metadata": {},
   "source": [
    "+ 获取上证50字样的元素"
   ]
  },
  {
   "cell_type": "code",
   "execution_count": 21,
   "metadata": {
    "scrolled": true
   },
   "outputs": [
    {
     "name": "stdout",
     "output_type": "stream",
     "text": [
      "['上证50']\n"
     ]
    }
   ],
   "source": [
    "print (index[ index =='上证50' ])"
   ]
  },
  {
   "cell_type": "markdown",
   "metadata": {},
   "source": [
    "<b>花式索引</b>  <br>\n",
    "花式索引指的是利用整数数组进行索引。\n",
    "花式索引根据索引数组的值作为目标数组的某个轴的下标来取值。对于使用一维整型数组作为索引，如果目标是一维数组，那么索引的结果就是对应下标的行，如果目标是二维数组，那么就是对应位置的元素。 <br>  \n",
    "<b>举例：传入顺序索引数组"
   ]
  },
  {
   "cell_type": "code",
   "execution_count": 22,
   "metadata": {},
   "outputs": [
    {
     "data": {
      "text/plain": [
       "array([ 0,  1,  2,  3,  4,  5,  6,  7,  8,  9, 10, 11, 12, 13, 14, 15, 16,\n",
       "       17, 18, 19, 20, 21, 22, 23, 24, 25, 26, 27, 28, 29, 30, 31])"
      ]
     },
     "execution_count": 22,
     "metadata": {},
     "output_type": "execute_result"
    }
   ],
   "source": [
    "x=np.arange(32)\n",
    "x"
   ]
  },
  {
   "cell_type": "code",
   "execution_count": 23,
   "metadata": {
    "scrolled": true
   },
   "outputs": [
    {
     "data": {
      "text/plain": [
       "array([[ 0,  1,  2,  3],\n",
       "       [ 4,  5,  6,  7],\n",
       "       [ 8,  9, 10, 11],\n",
       "       [12, 13, 14, 15],\n",
       "       [16, 17, 18, 19]])"
      ]
     },
     "execution_count": 23,
     "metadata": {},
     "output_type": "execute_result"
    }
   ],
   "source": [
    "x=np.arange(20).reshape((5,4)) # reshape重新定义行列\n",
    "x"
   ]
  },
  {
   "cell_type": "code",
   "execution_count": 24,
   "metadata": {},
   "outputs": [
    {
     "name": "stdout",
     "output_type": "stream",
     "text": [
      "[[16 17 18 19]\n",
      " [ 8  9 10 11]\n",
      " [ 4  5  6  7]\n",
      " [12 13 14 15]]\n"
     ]
    }
   ],
   "source": [
    "print (x[[4,2,1,3]]) # 搜索第4行，第2行，第1行，第7行"
   ]
  },
  {
   "cell_type": "markdown",
   "metadata": {},
   "source": [
    "<b>举例：传入倒序索引数组"
   ]
  },
  {
   "cell_type": "code",
   "execution_count": 25,
   "metadata": {},
   "outputs": [
    {
     "name": "stdout",
     "output_type": "stream",
     "text": [
      "[[ 4  5  6  7]\n",
      " [12 13 14 15]\n",
      " [16 17 18 19]\n",
      " [ 8  9 10 11]]\n"
     ]
    }
   ],
   "source": [
    "print (x[[-4,-2,-1,-3]])"
   ]
  },
  {
   "cell_type": "markdown",
   "metadata": {},
   "source": [
    "<b>举例：传入多个索引数组（要使用np.ix_）"
   ]
  },
  {
   "cell_type": "code",
   "execution_count": 26,
   "metadata": {
    "scrolled": true
   },
   "outputs": [
    {
     "name": "stdout",
     "output_type": "stream",
     "text": [
      "[[ 4  7  5  6]\n",
      " [16 19 17 18]\n",
      " [ 0  3  1  2]\n",
      " [ 8 11  9 10]]\n"
     ]
    }
   ],
   "source": [
    "print (x[np.ix_([1,4,0,2],[0,3,1,2])])"
   ]
  },
  {
   "cell_type": "code",
   "execution_count": 27,
   "metadata": {
    "collapsed": true,
    "jupyter": {
     "outputs_hidden": true
    }
   },
   "outputs": [
    {
     "name": "stdout",
     "output_type": "stream",
     "text": [
      "Help on function ix_ in module numpy:\n",
      "\n",
      "ix_(*args)\n",
      "    Construct an open mesh from multiple sequences.\n",
      "    \n",
      "    This function takes N 1-D sequences and returns N outputs with N\n",
      "    dimensions each, such that the shape is 1 in all but one dimension\n",
      "    and the dimension with the non-unit shape value cycles through all\n",
      "    N dimensions.\n",
      "    \n",
      "    Using `ix_` one can quickly construct index arrays that will index\n",
      "    the cross product. ``a[np.ix_([1,3],[2,5])]`` returns the array\n",
      "    ``[[a[1,2] a[1,5]], [a[3,2] a[3,5]]]``.\n",
      "    \n",
      "    Parameters\n",
      "    ----------\n",
      "    args : 1-D sequences\n",
      "        Each sequence should be of integer or boolean type.\n",
      "        Boolean sequences will be interpreted as boolean masks for the\n",
      "        corresponding dimension (equivalent to passing in\n",
      "        ``np.nonzero(boolean_sequence)``).\n",
      "    \n",
      "    Returns\n",
      "    -------\n",
      "    out : tuple of ndarrays\n",
      "        N arrays with N dimensions each, with N the number of input\n",
      "        sequences. Together these arrays form an open mesh.\n",
      "    \n",
      "    See Also\n",
      "    --------\n",
      "    ogrid, mgrid, meshgrid\n",
      "    \n",
      "    Examples\n",
      "    --------\n",
      "    >>> a = np.arange(10).reshape(2, 5)\n",
      "    >>> a\n",
      "    array([[0, 1, 2, 3, 4],\n",
      "           [5, 6, 7, 8, 9]])\n",
      "    >>> ixgrid = np.ix_([0, 1], [2, 4])\n",
      "    >>> ixgrid\n",
      "    (array([[0],\n",
      "           [1]]), array([[2, 4]]))\n",
      "    >>> ixgrid[0].shape, ixgrid[1].shape\n",
      "    ((2, 1), (1, 2))\n",
      "    >>> a[ixgrid]\n",
      "    array([[2, 4],\n",
      "           [7, 9]])\n",
      "    \n",
      "    >>> ixgrid = np.ix_([True, True], [2, 4])\n",
      "    >>> a[ixgrid]\n",
      "    array([[2, 4],\n",
      "           [7, 9]])\n",
      "    >>> ixgrid = np.ix_([True, True], [False, False, True, False, True])\n",
      "    >>> a[ixgrid]\n",
      "    array([[2, 4],\n",
      "           [7, 9]])\n",
      "\n"
     ]
    }
   ],
   "source": [
    "help(np.ix_)"
   ]
  },
  {
   "cell_type": "markdown",
   "metadata": {},
   "source": [
    "说明：如果 np.ix_ 中输入两个列表，则第一个列表存的是待提取元素的行标，第二个列表存的是待提取元素的列标，第一个列表中的每个元素都会遍历第二个列表中的每个值，构成新矩阵的一行元素。<br>\n",
    "也就是：第1行的[0,3,1,2]列,第4行的[0,3,1,2]列,第0行的[0,3,1,2]列,第2行的[0,3,1,2]列"
   ]
  },
  {
   "cell_type": "markdown",
   "metadata": {},
   "source": [
    "### 2.8运算"
   ]
  },
  {
   "cell_type": "markdown",
   "metadata": {},
   "source": [
    "加法运算"
   ]
  },
  {
   "cell_type": "code",
   "execution_count": 38,
   "metadata": {},
   "outputs": [
    {
     "data": {
      "text/plain": [
       "array([500, 700, 900])"
      ]
     },
     "execution_count": 38,
     "metadata": {},
     "output_type": "execute_result"
    }
   ],
   "source": [
    "position1 = np.array([100,200,300])\n",
    "position2 = np.array([400,500,600])\n",
    "position1 + position2"
   ]
  },
  {
   "cell_type": "markdown",
   "metadata": {},
   "source": [
    "减法运算"
   ]
  },
  {
   "cell_type": "code",
   "execution_count": 37,
   "metadata": {},
   "outputs": [
    {
     "data": {
      "text/plain": [
       "array([-300, -300, -300])"
      ]
     },
     "execution_count": 37,
     "metadata": {},
     "output_type": "execute_result"
    }
   ],
   "source": [
    "position1 - position2"
   ]
  },
  {
   "cell_type": "markdown",
   "metadata": {},
   "source": [
    "乘法运算"
   ]
  },
  {
   "cell_type": "code",
   "execution_count": 39,
   "metadata": {},
   "outputs": [
    {
     "data": {
      "text/plain": [
       "array([ 40000, 100000, 180000])"
      ]
     },
     "execution_count": 39,
     "metadata": {},
     "output_type": "execute_result"
    }
   ],
   "source": [
    "position1 * position2"
   ]
  },
  {
   "cell_type": "code",
   "execution_count": null,
   "metadata": {},
   "outputs": [],
   "source": [
    "除法运算"
   ]
  },
  {
   "cell_type": "code",
   "execution_count": 40,
   "metadata": {},
   "outputs": [
    {
     "data": {
      "text/plain": [
       "array([0.25, 0.4 , 0.5 ])"
      ]
     },
     "execution_count": 40,
     "metadata": {},
     "output_type": "execute_result"
    }
   ],
   "source": [
    "position1 / position2"
   ]
  },
  {
   "cell_type": "markdown",
   "metadata": {},
   "source": [
    "#### Numpy统计函数\n",
    "+ numpy.sum()求和\n",
    "+ numpy.amin() 和 numpy.amax() 用于计算数组中的元素沿指定轴的最小值或最大值\n",
    "+ numpy.ptp() 数组中元素最大值与最小值的差（最大值 - 最小值)\n",
    "+ numpy.median() 函数用于计算数组 a 中元素的中位数（中值）\n",
    "+ numpy.var() 统计中的方差（样本方差）是每个样本值与全体样本值的平均数之差的平方值的平均数，即 mean((x - x.mean())** 2)"
   ]
  },
  {
   "cell_type": "code",
   "execution_count": 49,
   "metadata": {
    "scrolled": true
   },
   "outputs": [
    {
     "data": {
      "text/plain": [
       "600"
      ]
     },
     "execution_count": 49,
     "metadata": {},
     "output_type": "execute_result"
    }
   ],
   "source": [
    "position1.sum()"
   ]
  },
  {
   "cell_type": "code",
   "execution_count": 46,
   "metadata": {},
   "outputs": [
    {
     "data": {
      "text/plain": [
       "100"
      ]
     },
     "execution_count": 46,
     "metadata": {},
     "output_type": "execute_result"
    }
   ],
   "source": [
    "np.amin(position1,0)"
   ]
  },
  {
   "cell_type": "code",
   "execution_count": 54,
   "metadata": {},
   "outputs": [
    {
     "data": {
      "text/plain": [
       "200"
      ]
     },
     "execution_count": 54,
     "metadata": {},
     "output_type": "execute_result"
    }
   ],
   "source": [
    "position1.ptp()"
   ]
  },
  {
   "cell_type": "code",
   "execution_count": 55,
   "metadata": {},
   "outputs": [
    {
     "data": {
      "text/plain": [
       "200.0"
      ]
     },
     "execution_count": 55,
     "metadata": {},
     "output_type": "execute_result"
    }
   ],
   "source": [
    "np.median(position1)"
   ]
  },
  {
   "cell_type": "code",
   "execution_count": 52,
   "metadata": {},
   "outputs": [
    {
     "data": {
      "text/plain": [
       "6666.666666666667"
      ]
     },
     "execution_count": 52,
     "metadata": {},
     "output_type": "execute_result"
    }
   ],
   "source": [
    "position1.var()"
   ]
  },
  {
   "cell_type": "markdown",
   "metadata": {},
   "source": [
    "### 2.9广播(Broadcast)\n",
    "\n",
    "广播(Broadcast)允许 numpy 对不同形状(shape)的数组进行数值计算，对数组的算术运算通常在相应的元素上进行。\n",
    "\n",
    "+ 如果两个数组 a 和 b 形状相同，即满足 a.shape == b.shape，那么 a*b 的结果就是 a 与 b 数组对应位相乘。这要求维数相同，且各维度的长度相同。"
   ]
  },
  {
   "cell_type": "code",
   "execution_count": 28,
   "metadata": {},
   "outputs": [
    {
     "name": "stdout",
     "output_type": "stream",
     "text": [
      "[ 100  400  900 1600]\n"
     ]
    }
   ],
   "source": [
    "a = np.array([1,2,3,4]) \n",
    "b = np.array([100,200,300,400]) \n",
    "c = a * b \n",
    "print (c)"
   ]
  },
  {
   "cell_type": "markdown",
   "metadata": {},
   "source": [
    "+ 当运算中的 2 个数组的形状不同时，numpy 将自动触发广播机制。如："
   ]
  },
  {
   "cell_type": "code",
   "execution_count": 29,
   "metadata": {},
   "outputs": [
    {
     "data": {
      "text/plain": [
       "array([[ 0,  1,  2,  3],\n",
       "       [ 4,  5,  6,  7],\n",
       "       [ 8,  9, 10, 11],\n",
       "       [12, 13, 14, 15],\n",
       "       [16, 17, 18, 19]])"
      ]
     },
     "execution_count": 29,
     "metadata": {},
     "output_type": "execute_result"
    }
   ],
   "source": [
    "x"
   ]
  },
  {
   "cell_type": "code",
   "execution_count": 30,
   "metadata": {
    "scrolled": true
   },
   "outputs": [
    {
     "data": {
      "text/plain": [
       "array([[100, 201, 302, 403],\n",
       "       [104, 205, 306, 407],\n",
       "       [108, 209, 310, 411],\n",
       "       [112, 213, 314, 415],\n",
       "       [116, 217, 318, 419]])"
      ]
     },
     "execution_count": 30,
     "metadata": {},
     "output_type": "execute_result"
    }
   ],
   "source": [
    "x+b"
   ]
  },
  {
   "cell_type": "markdown",
   "metadata": {},
   "source": [
    "相当于把一维的b数组与x数组的每一行相加"
   ]
  },
  {
   "cell_type": "markdown",
   "metadata": {},
   "source": [
    "广播的规则:\n",
    "+ 数组拥有相同形状。\n",
    "+ 输出数组的形状是输入数组形状的各个维度上的最大值。\n",
    "+ 如果输入数组的某个维度和输出数组的对应维度的长度相同或者其长度为 1 时，这个数组能够用来计算，否则出错。\n",
    "+ 当输入数组的某个维度的长度为 1 时，沿着此维度运算时都用此维度上的第一组值。"
   ]
  },
  {
   "cell_type": "code",
   "execution_count": null,
   "metadata": {},
   "outputs": [],
   "source": [
    "如果长度不相同，则会报错："
   ]
  },
  {
   "cell_type": "code",
   "execution_count": 32,
   "metadata": {
    "collapsed": true,
    "jupyter": {
     "outputs_hidden": true
    }
   },
   "outputs": [
    {
     "ename": "ValueError",
     "evalue": "operands could not be broadcast together with shapes (5,4) (3,) ",
     "output_type": "error",
     "traceback": [
      "\u001b[0;31m---------------------------------------------------------------------------\u001b[0m",
      "\u001b[0;31mValueError\u001b[0m                                Traceback (most recent call last)",
      "Input \u001b[0;32mIn [32]\u001b[0m, in \u001b[0;36m<cell line: 2>\u001b[0;34m()\u001b[0m\n\u001b[1;32m      1\u001b[0m c\u001b[38;5;241m=\u001b[39mnp\u001b[38;5;241m.\u001b[39marray([\u001b[38;5;241m1\u001b[39m,\u001b[38;5;241m1\u001b[39m,\u001b[38;5;241m1\u001b[39m])\n\u001b[0;32m----> 2\u001b[0m \u001b[43mx\u001b[49m\u001b[38;5;241;43m+\u001b[39;49m\u001b[43mc\u001b[49m\n",
      "\u001b[0;31mValueError\u001b[0m: operands could not be broadcast together with shapes (5,4) (3,) "
     ]
    }
   ],
   "source": [
    "c=np.array([1,1,1])\n",
    "x+c"
   ]
  },
  {
   "cell_type": "code",
   "execution_count": 43,
   "metadata": {
    "collapsed": true,
    "jupyter": {
     "outputs_hidden": true
    }
   },
   "outputs": [
    {
     "ename": "ValueError",
     "evalue": "operands could not be broadcast together with shapes (5,4) (5,) ",
     "output_type": "error",
     "traceback": [
      "\u001b[0;31m---------------------------------------------------------------------------\u001b[0m",
      "\u001b[0;31mValueError\u001b[0m                                Traceback (most recent call last)",
      "Input \u001b[0;32mIn [43]\u001b[0m, in \u001b[0;36m<cell line: 2>\u001b[0;34m()\u001b[0m\n\u001b[1;32m      1\u001b[0m d\u001b[38;5;241m=\u001b[39mnp\u001b[38;5;241m.\u001b[39marray([\u001b[38;5;241m1\u001b[39m,\u001b[38;5;241m1\u001b[39m,\u001b[38;5;241m1\u001b[39m,\u001b[38;5;241m2\u001b[39m,\u001b[38;5;241m2\u001b[39m])\n\u001b[0;32m----> 2\u001b[0m \u001b[43mx\u001b[49m\u001b[38;5;241;43m+\u001b[39;49m\u001b[43md\u001b[49m\n",
      "\u001b[0;31mValueError\u001b[0m: operands could not be broadcast together with shapes (5,4) (5,) "
     ]
    }
   ],
   "source": [
    "d=np.array([1,1,1,2,2])\n",
    "x+d"
   ]
  },
  {
   "cell_type": "markdown",
   "metadata": {},
   "source": [
    "### 2.10矩阵\n",
    "\n",
    "Numpy的矩阵对象与数组对象相似，主要不同之处在于，矩阵对象的计算遵循矩阵数学运算规律。\n",
    "　　矩阵使用 matrix 函数创建，以（2,2）大小的矩阵为例（2行2列），定义方法如下："
   ]
  },
  {
   "cell_type": "code",
   "execution_count": 56,
   "metadata": {},
   "outputs": [
    {
     "name": "stdout",
     "output_type": "stream",
     "text": [
      "[[1. 2.]\n",
      " [3. 4.]]\n"
     ]
    }
   ],
   "source": [
    "a = np.matrix([[1.0,2.0],[3.0,4.0]])\n",
    "print(a)"
   ]
  },
  {
   "cell_type": "markdown",
   "metadata": {},
   "source": [
    "type函数可以查看a的类型"
   ]
  },
  {
   "cell_type": "code",
   "execution_count": 57,
   "metadata": {},
   "outputs": [
    {
     "data": {
      "text/plain": [
       "numpy.matrix"
      ]
     },
     "execution_count": 57,
     "metadata": {},
     "output_type": "execute_result"
    }
   ],
   "source": [
    "type(a) "
   ]
  },
  {
   "cell_type": "markdown",
   "metadata": {},
   "source": [
    "<b>矩阵运算</b><br>\n",
    "矩阵的常用数学运算有转置、乘法、求逆等。分别一一实例讲述。<br>\n",
    "<b>创建一个矩阵<br>"
   ]
  },
  {
   "cell_type": "code",
   "execution_count": 58,
   "metadata": {},
   "outputs": [],
   "source": [
    "a = np.matrix([[1.0,2.0],[3.0,4.0]])"
   ]
  },
  {
   "cell_type": "markdown",
   "metadata": {},
   "source": [
    "<b>转置操作"
   ]
  },
  {
   "cell_type": "code",
   "execution_count": 60,
   "metadata": {},
   "outputs": [
    {
     "data": {
      "text/plain": [
       "matrix([[1., 3.],\n",
       "        [2., 4.]])"
      ]
     },
     "execution_count": 60,
     "metadata": {},
     "output_type": "execute_result"
    }
   ],
   "source": [
    "a.T"
   ]
  },
  {
   "cell_type": "markdown",
   "metadata": {},
   "source": [
    "<b>矩阵乘法"
   ]
  },
  {
   "cell_type": "code",
   "execution_count": 61,
   "metadata": {},
   "outputs": [
    {
     "data": {
      "text/plain": [
       "matrix([[ 6.,  6.],\n",
       "        [14., 14.]])"
      ]
     },
     "execution_count": 61,
     "metadata": {},
     "output_type": "execute_result"
    }
   ],
   "source": [
    "c=np.matrix([[2.0,2.0],[2.0,2.0]])\n",
    "a*c"
   ]
  },
  {
   "cell_type": "markdown",
   "metadata": {},
   "source": [
    "<b>逆矩阵"
   ]
  },
  {
   "cell_type": "code",
   "execution_count": 64,
   "metadata": {},
   "outputs": [
    {
     "data": {
      "text/plain": [
       "matrix([[-2. ,  1. ],\n",
       "        [ 1.5, -0.5]])"
      ]
     },
     "execution_count": 64,
     "metadata": {},
     "output_type": "execute_result"
    }
   ],
   "source": [
    "a.I"
   ]
  },
  {
   "cell_type": "markdown",
   "metadata": {},
   "source": [
    ">## 3.pandas\n",
    "[返回目录](#目录)"
   ]
  },
  {
   "cell_type": "markdown",
   "metadata": {},
   "source": [
    "Pandas 官网 https://pandas.pydata.org/  \n",
    "Pandas 源代码：https://github.com/pandas-dev/pandas"
   ]
  },
  {
   "cell_type": "markdown",
   "metadata": {},
   "source": [
    "Pandas 是基于 Numpy 构建的，让以 Numpy 为中心的应用变得更加简单。Pandas是公认的数据处理利器，除了pandas包括Series、DataFrame、Panel数据类型。本节主要介绍DataFrame数据结构，在此基础上进行数据处理。\n",
    "\n",
    "|格式|数组|释义|\n",
    "|---|---|---|\n",
    "|Series|一维数组|与Numpy中的一维array类似。\n",
    "|DataFrame|二维的表格型数据结构|可以将DataFrame理解为Series的容器\n",
    "|Panel|三维的数组|可以理解为DataFrame的容器"
   ]
  },
  {
   "cell_type": "markdown",
   "metadata": {},
   "source": [
    "首先导入pandas库：所有关于pandas的操作必须在导入pandas库之后才能运行。"
   ]
  },
  {
   "cell_type": "code",
   "execution_count": 5,
   "metadata": {},
   "outputs": [],
   "source": [
    "import pandas as pd"
   ]
  },
  {
   "cell_type": "markdown",
   "metadata": {},
   "source": [
    "## 3.1 Series\n",
    "Pandas Series 类似表格中的一个列（column），类似于一维数组，可以保存任何数据类型。<br>\n",
    "由一组数据和与之相关的索引组成。可通过传递一个list对象来创建一个Series，pandas会默认创建整数型索引。<br>\n",
    "创建方法如下："
   ]
  },
  {
   "cell_type": "code",
   "execution_count": null,
   "metadata": {},
   "outputs": [],
   "source": [
    "pandas.Series( data, index, dtype, name, copy)\n",
    "\n",
    "# data：一组数据(ndarray 类型)。\n",
    "# index：数据索引标签，如果不指定，默认从 0 开始。\n",
    "# dtype：数据类型，默认会自己判断。\n",
    "# name：设置名称。\n",
    "# copy：拷贝数据，默认为 False。"
   ]
  },
  {
   "cell_type": "markdown",
   "metadata": {},
   "source": [
    "**列表创建Series：**"
   ]
  },
  {
   "cell_type": "code",
   "execution_count": 43,
   "metadata": {},
   "outputs": [
    {
     "name": "stdout",
     "output_type": "stream",
     "text": [
      "0    1\n",
      "1    3\n",
      "2    5\n",
      "3    7\n",
      "4    6\n",
      "5    8\n",
      "dtype: int64\n"
     ]
    }
   ],
   "source": [
    "s = pd.Series([1,3,5,7,6,8])\n",
    "print(s)"
   ]
  },
  {
   "cell_type": "markdown",
   "metadata": {},
   "source": [
    "可以看到，series自动创建了索引，如要获取 Series 的索引："
   ]
  },
  {
   "cell_type": "code",
   "execution_count": 68,
   "metadata": {
    "scrolled": true
   },
   "outputs": [
    {
     "data": {
      "text/plain": [
       "RangeIndex(start=0, stop=6, step=1)"
      ]
     },
     "execution_count": 68,
     "metadata": {},
     "output_type": "execute_result"
    }
   ],
   "source": [
    "s.index"
   ]
  },
  {
   "cell_type": "markdown",
   "metadata": {},
   "source": [
    "**key/value 对象（类似字典）来创建 Series**  \n",
    "如果想自己指定需要数据的索引,我们也可以使用 key/value 对象（类似字典）来创建 Series："
   ]
  },
  {
   "cell_type": "code",
   "execution_count": 44,
   "metadata": {
    "scrolled": true
   },
   "outputs": [
    {
     "data": {
      "text/plain": [
       "1    招商银行\n",
       "2    宁德时代\n",
       "3    中国中冶\n",
       "dtype: object"
      ]
     },
     "execution_count": 44,
     "metadata": {},
     "output_type": "execute_result"
    }
   ],
   "source": [
    "stocks = {1: \"招商银行\", 2: \"宁德时代\", 3: \"中国中冶\"}\n",
    "\n",
    "myvar = pd.Series(stocks, index = [1,2,3])\n",
    "myvar"
   ]
  },
  {
   "cell_type": "markdown",
   "metadata": {},
   "source": [
    "## 3.2 DataFrame\n",
    "DataFrame是一个表格型的数据结构，所以DataFrame既有行索引也有列索引。它可以被看做由 Series 组成的字典（共同用一个索引）\n",
    "+ DataFrame中的每一行是一个记录，名称为Index的一个元素<br>\n",
    "+ DataFrame中的每一列则为一个字段，记录一个属性<br>\n",
    "+ 每一<b>列</b>的数据结构都是相同的，而不同的列之间则可以是不同的数据结构<br>\n",
    "+ DataFrame的每一列可以被看做一个Series<br>"
   ]
  },
  {
   "attachments": {
    "dataframe.png": {
     "image/png": "[encoded data removed]"
    }
   },
   "cell_type": "markdown",
   "metadata": {},
   "source": [
    "一图看懂DataFrame：\n",
    "![dataframe.png](attachment:dataframe.png)"
   ]
  },
  {
   "cell_type": "markdown",
   "metadata": {},
   "source": [
    "### 3.2.1创建DataFrame对象"
   ]
  },
  {
   "cell_type": "markdown",
   "metadata": {},
   "source": [
    "DataFrame 构造方法如下："
   ]
  },
  {
   "cell_type": "code",
   "execution_count": 40,
   "metadata": {
    "collapsed": true,
    "jupyter": {
     "outputs_hidden": true
    }
   },
   "outputs": [
    {
     "ename": "NameError",
     "evalue": "name 'pandas' is not defined",
     "output_type": "error",
     "traceback": [
      "\u001b[0;31m---------------------------------------------------------------------------\u001b[0m",
      "\u001b[0;31mNameError\u001b[0m                                 Traceback (most recent call last)",
      "Input \u001b[0;32mIn [40]\u001b[0m, in \u001b[0;36m<cell line: 1>\u001b[0;34m()\u001b[0m\n\u001b[0;32m----> 1\u001b[0m \u001b[43mpandas\u001b[49m\u001b[38;5;241m.\u001b[39mDataFrame(data, index, columns, dtype, copy)\n",
      "\u001b[0;31mNameError\u001b[0m: name 'pandas' is not defined"
     ]
    }
   ],
   "source": [
    "pandas.DataFrame(data, index, columns, dtype, copy)\n",
    "\n",
    "# data：一组数据(ndarray、series, map, lists, dict 等类型)\n",
    "# index：索引值，或者可以称为行标签\n",
    "# columns：列标签，默认为 RangeIndex (0, 1, 2, …, n) \n",
    "# dtype：数据类型\n",
    "# copy：拷贝数据，默认为 False"
   ]
  },
  {
   "cell_type": "markdown",
   "metadata": {},
   "source": [
    "**使用列表创建DataFrame**"
   ]
  },
  {
   "cell_type": "code",
   "execution_count": 30,
   "metadata": {
    "scrolled": true
   },
   "outputs": [
    {
     "data": {
      "text/html": [
       "<div>\n",
       "<style scoped>\n",
       "    .dataframe tbody tr th:only-of-type {\n",
       "        vertical-align: middle;\n",
       "    }\n",
       "\n",
       "    .dataframe tbody tr th {\n",
       "        vertical-align: top;\n",
       "    }\n",
       "\n",
       "    .dataframe thead th {\n",
       "        text-align: right;\n",
       "    }\n",
       "</style>\n",
       "<table border=\"1\" class=\"dataframe\">\n",
       "  <thead>\n",
       "    <tr style=\"text-align: right;\">\n",
       "      <th></th>\n",
       "      <th>code</th>\n",
       "      <th>price</th>\n",
       "    </tr>\n",
       "  </thead>\n",
       "  <tbody>\n",
       "    <tr>\n",
       "      <th>0</th>\n",
       "      <td>000001</td>\n",
       "      <td>60</td>\n",
       "    </tr>\n",
       "    <tr>\n",
       "      <th>1</th>\n",
       "      <td>000002</td>\n",
       "      <td>102</td>\n",
       "    </tr>\n",
       "    <tr>\n",
       "      <th>2</th>\n",
       "      <td>000003</td>\n",
       "      <td>13</td>\n",
       "    </tr>\n",
       "  </tbody>\n",
       "</table>\n",
       "</div>"
      ],
      "text/plain": [
       "     code  price\n",
       "0  000001     60\n",
       "1  000002    102\n",
       "2  000003     13"
      ]
     },
     "execution_count": 30,
     "metadata": {},
     "output_type": "execute_result"
    }
   ],
   "source": [
    "import pandas as pd\n",
    "\n",
    "data = [['000001',60],['000002',102],['000003',13]]\n",
    "\n",
    "df = pd.DataFrame(data,columns=['code','price']) # 顺便设置列名\n",
    "df"
   ]
  },
  {
   "cell_type": "markdown",
   "metadata": {},
   "source": [
    "**使用字典创建 DataFrame**"
   ]
  },
  {
   "cell_type": "code",
   "execution_count": 41,
   "metadata": {
    "scrolled": true
   },
   "outputs": [
    {
     "data": {
      "text/html": [
       "<div>\n",
       "<style scoped>\n",
       "    .dataframe tbody tr th:only-of-type {\n",
       "        vertical-align: middle;\n",
       "    }\n",
       "\n",
       "    .dataframe tbody tr th {\n",
       "        vertical-align: top;\n",
       "    }\n",
       "\n",
       "    .dataframe thead th {\n",
       "        text-align: right;\n",
       "    }\n",
       "</style>\n",
       "<table border=\"1\" class=\"dataframe\">\n",
       "  <thead>\n",
       "    <tr style=\"text-align: right;\">\n",
       "      <th></th>\n",
       "      <th>a</th>\n",
       "      <th>b</th>\n",
       "      <th>c</th>\n",
       "    </tr>\n",
       "  </thead>\n",
       "  <tbody>\n",
       "    <tr>\n",
       "      <th>0</th>\n",
       "      <td>1</td>\n",
       "      <td>2</td>\n",
       "      <td>NaN</td>\n",
       "    </tr>\n",
       "    <tr>\n",
       "      <th>1</th>\n",
       "      <td>5</td>\n",
       "      <td>10</td>\n",
       "      <td>20.0</td>\n",
       "    </tr>\n",
       "  </tbody>\n",
       "</table>\n",
       "</div>"
      ],
      "text/plain": [
       "   a   b     c\n",
       "0  1   2   NaN\n",
       "1  5  10  20.0"
      ]
     },
     "execution_count": 41,
     "metadata": {},
     "output_type": "execute_result"
    }
   ],
   "source": [
    "import pandas as pd\n",
    "\n",
    "data = [{'a': 1, 'b': 2},{'a': 5, 'b': 10, 'c': 20}] \n",
    "\n",
    "df = pd.DataFrame(data)\n",
    "\n",
    "df"
   ]
  },
  {
   "cell_type": "markdown",
   "metadata": {},
   "source": [
    "**使用 ndarrays 创建DataFrame**  \n",
    "\n",
    "可以观察到，用列表和字典创建创建DataFrame时，长度不同时，空值会自动填充；而使用 ndarrays 创建时，ndarray 的长度必须相同"
   ]
  },
  {
   "cell_type": "code",
   "execution_count": 47,
   "metadata": {
    "scrolled": true
   },
   "outputs": [
    {
     "data": {
      "text/html": [
       "<div>\n",
       "<style scoped>\n",
       "    .dataframe tbody tr th:only-of-type {\n",
       "        vertical-align: middle;\n",
       "    }\n",
       "\n",
       "    .dataframe tbody tr th {\n",
       "        vertical-align: top;\n",
       "    }\n",
       "\n",
       "    .dataframe thead th {\n",
       "        text-align: right;\n",
       "    }\n",
       "</style>\n",
       "<table border=\"1\" class=\"dataframe\">\n",
       "  <thead>\n",
       "    <tr style=\"text-align: right;\">\n",
       "      <th></th>\n",
       "      <th>code</th>\n",
       "      <th>price</th>\n",
       "    </tr>\n",
       "  </thead>\n",
       "  <tbody>\n",
       "    <tr>\n",
       "      <th>0</th>\n",
       "      <td>000001</td>\n",
       "      <td>50</td>\n",
       "    </tr>\n",
       "    <tr>\n",
       "      <th>1</th>\n",
       "      <td>000002</td>\n",
       "      <td>150</td>\n",
       "    </tr>\n",
       "    <tr>\n",
       "      <th>2</th>\n",
       "      <td>000003</td>\n",
       "      <td>80</td>\n",
       "    </tr>\n",
       "  </tbody>\n",
       "</table>\n",
       "</div>"
      ],
      "text/plain": [
       "     code  price\n",
       "0  000001     50\n",
       "1  000002    150\n",
       "2  000003     80"
      ]
     },
     "execution_count": 47,
     "metadata": {},
     "output_type": "execute_result"
    }
   ],
   "source": [
    "import pandas as pd\n",
    "\n",
    "data = {'code': ['000001', '000002', '000003'], 'price': [50, 150, 80]}\n",
    "\n",
    "df = pd.DataFrame(data)\n",
    "\n",
    "df"
   ]
  },
  {
   "cell_type": "markdown",
   "metadata": {},
   "source": [
    "+ 如果传递了索引 index，则索引的长度应等于数组的长度\n",
    "+ 如果没有传递索引 index，则默认情况下，索引将是range(n)，其中n是数组长度"
   ]
  },
  {
   "cell_type": "markdown",
   "metadata": {},
   "source": [
    "DataFrame从值是数组的字典创建时，其各个数组的长度如果不相同，会出现以下报错的例子。"
   ]
  },
  {
   "cell_type": "code",
   "execution_count": 50,
   "metadata": {
    "collapsed": true,
    "jupyter": {
     "outputs_hidden": true
    }
   },
   "outputs": [
    {
     "ename": "ValueError",
     "evalue": "All arrays must be of the same length",
     "output_type": "error",
     "traceback": [
      "\u001b[0;31m---------------------------------------------------------------------------\u001b[0m",
      "\u001b[0;31mValueError\u001b[0m                                Traceback (most recent call last)",
      "Input \u001b[0;32mIn [50]\u001b[0m, in \u001b[0;36m<cell line: 5>\u001b[0;34m()\u001b[0m\n\u001b[1;32m      1\u001b[0m \u001b[38;5;28;01mimport\u001b[39;00m \u001b[38;5;21;01mpandas\u001b[39;00m \u001b[38;5;28;01mas\u001b[39;00m \u001b[38;5;21;01mpd\u001b[39;00m\n\u001b[1;32m      3\u001b[0m data \u001b[38;5;241m=\u001b[39m {\u001b[38;5;124m'\u001b[39m\u001b[38;5;124mcode\u001b[39m\u001b[38;5;124m'\u001b[39m: [\u001b[38;5;124m'\u001b[39m\u001b[38;5;124m000001\u001b[39m\u001b[38;5;124m'\u001b[39m, \u001b[38;5;124m'\u001b[39m\u001b[38;5;124m000002\u001b[39m\u001b[38;5;124m'\u001b[39m], \u001b[38;5;124m'\u001b[39m\u001b[38;5;124mprice\u001b[39m\u001b[38;5;124m'\u001b[39m: [\u001b[38;5;241m50\u001b[39m, \u001b[38;5;241m150\u001b[39m, \u001b[38;5;241m80\u001b[39m]}\n\u001b[0;32m----> 5\u001b[0m df \u001b[38;5;241m=\u001b[39m \u001b[43mpd\u001b[49m\u001b[38;5;241;43m.\u001b[39;49m\u001b[43mDataFrame\u001b[49m\u001b[43m(\u001b[49m\u001b[43mdata\u001b[49m\u001b[43m)\u001b[49m\n\u001b[1;32m      7\u001b[0m df\n",
      "File \u001b[0;32m~/opt/anaconda3/lib/python3.9/site-packages/pandas/core/frame.py:636\u001b[0m, in \u001b[0;36mDataFrame.__init__\u001b[0;34m(self, data, index, columns, dtype, copy)\u001b[0m\n\u001b[1;32m    630\u001b[0m     mgr \u001b[38;5;241m=\u001b[39m \u001b[38;5;28mself\u001b[39m\u001b[38;5;241m.\u001b[39m_init_mgr(\n\u001b[1;32m    631\u001b[0m         data, axes\u001b[38;5;241m=\u001b[39m{\u001b[38;5;124m\"\u001b[39m\u001b[38;5;124mindex\u001b[39m\u001b[38;5;124m\"\u001b[39m: index, \u001b[38;5;124m\"\u001b[39m\u001b[38;5;124mcolumns\u001b[39m\u001b[38;5;124m\"\u001b[39m: columns}, dtype\u001b[38;5;241m=\u001b[39mdtype, copy\u001b[38;5;241m=\u001b[39mcopy\n\u001b[1;32m    632\u001b[0m     )\n\u001b[1;32m    634\u001b[0m \u001b[38;5;28;01melif\u001b[39;00m \u001b[38;5;28misinstance\u001b[39m(data, \u001b[38;5;28mdict\u001b[39m):\n\u001b[1;32m    635\u001b[0m     \u001b[38;5;66;03m# GH#38939 de facto copy defaults to False only in non-dict cases\u001b[39;00m\n\u001b[0;32m--> 636\u001b[0m     mgr \u001b[38;5;241m=\u001b[39m \u001b[43mdict_to_mgr\u001b[49m\u001b[43m(\u001b[49m\u001b[43mdata\u001b[49m\u001b[43m,\u001b[49m\u001b[43m \u001b[49m\u001b[43mindex\u001b[49m\u001b[43m,\u001b[49m\u001b[43m \u001b[49m\u001b[43mcolumns\u001b[49m\u001b[43m,\u001b[49m\u001b[43m \u001b[49m\u001b[43mdtype\u001b[49m\u001b[38;5;241;43m=\u001b[39;49m\u001b[43mdtype\u001b[49m\u001b[43m,\u001b[49m\u001b[43m \u001b[49m\u001b[43mcopy\u001b[49m\u001b[38;5;241;43m=\u001b[39;49m\u001b[43mcopy\u001b[49m\u001b[43m,\u001b[49m\u001b[43m \u001b[49m\u001b[43mtyp\u001b[49m\u001b[38;5;241;43m=\u001b[39;49m\u001b[43mmanager\u001b[49m\u001b[43m)\u001b[49m\n\u001b[1;32m    637\u001b[0m \u001b[38;5;28;01melif\u001b[39;00m \u001b[38;5;28misinstance\u001b[39m(data, ma\u001b[38;5;241m.\u001b[39mMaskedArray):\n\u001b[1;32m    638\u001b[0m     \u001b[38;5;28;01mimport\u001b[39;00m \u001b[38;5;21;01mnumpy\u001b[39;00m\u001b[38;5;21;01m.\u001b[39;00m\u001b[38;5;21;01mma\u001b[39;00m\u001b[38;5;21;01m.\u001b[39;00m\u001b[38;5;21;01mmrecords\u001b[39;00m \u001b[38;5;28;01mas\u001b[39;00m \u001b[38;5;21;01mmrecords\u001b[39;00m\n",
      "File \u001b[0;32m~/opt/anaconda3/lib/python3.9/site-packages/pandas/core/internals/construction.py:502\u001b[0m, in \u001b[0;36mdict_to_mgr\u001b[0;34m(data, index, columns, dtype, typ, copy)\u001b[0m\n\u001b[1;32m    494\u001b[0m     arrays \u001b[38;5;241m=\u001b[39m [\n\u001b[1;32m    495\u001b[0m         x\n\u001b[1;32m    496\u001b[0m         \u001b[38;5;28;01mif\u001b[39;00m \u001b[38;5;129;01mnot\u001b[39;00m \u001b[38;5;28mhasattr\u001b[39m(x, \u001b[38;5;124m\"\u001b[39m\u001b[38;5;124mdtype\u001b[39m\u001b[38;5;124m\"\u001b[39m) \u001b[38;5;129;01mor\u001b[39;00m \u001b[38;5;129;01mnot\u001b[39;00m \u001b[38;5;28misinstance\u001b[39m(x\u001b[38;5;241m.\u001b[39mdtype, ExtensionDtype)\n\u001b[1;32m    497\u001b[0m         \u001b[38;5;28;01melse\u001b[39;00m x\u001b[38;5;241m.\u001b[39mcopy()\n\u001b[1;32m    498\u001b[0m         \u001b[38;5;28;01mfor\u001b[39;00m x \u001b[38;5;129;01min\u001b[39;00m arrays\n\u001b[1;32m    499\u001b[0m     ]\n\u001b[1;32m    500\u001b[0m     \u001b[38;5;66;03m# TODO: can we get rid of the dt64tz special case above?\u001b[39;00m\n\u001b[0;32m--> 502\u001b[0m \u001b[38;5;28;01mreturn\u001b[39;00m \u001b[43marrays_to_mgr\u001b[49m\u001b[43m(\u001b[49m\u001b[43marrays\u001b[49m\u001b[43m,\u001b[49m\u001b[43m \u001b[49m\u001b[43mcolumns\u001b[49m\u001b[43m,\u001b[49m\u001b[43m \u001b[49m\u001b[43mindex\u001b[49m\u001b[43m,\u001b[49m\u001b[43m \u001b[49m\u001b[43mdtype\u001b[49m\u001b[38;5;241;43m=\u001b[39;49m\u001b[43mdtype\u001b[49m\u001b[43m,\u001b[49m\u001b[43m \u001b[49m\u001b[43mtyp\u001b[49m\u001b[38;5;241;43m=\u001b[39;49m\u001b[43mtyp\u001b[49m\u001b[43m,\u001b[49m\u001b[43m \u001b[49m\u001b[43mconsolidate\u001b[49m\u001b[38;5;241;43m=\u001b[39;49m\u001b[43mcopy\u001b[49m\u001b[43m)\u001b[49m\n",
      "File \u001b[0;32m~/opt/anaconda3/lib/python3.9/site-packages/pandas/core/internals/construction.py:120\u001b[0m, in \u001b[0;36marrays_to_mgr\u001b[0;34m(arrays, columns, index, dtype, verify_integrity, typ, consolidate)\u001b[0m\n\u001b[1;32m    117\u001b[0m \u001b[38;5;28;01mif\u001b[39;00m verify_integrity:\n\u001b[1;32m    118\u001b[0m     \u001b[38;5;66;03m# figure out the index, if necessary\u001b[39;00m\n\u001b[1;32m    119\u001b[0m     \u001b[38;5;28;01mif\u001b[39;00m index \u001b[38;5;129;01mis\u001b[39;00m \u001b[38;5;28;01mNone\u001b[39;00m:\n\u001b[0;32m--> 120\u001b[0m         index \u001b[38;5;241m=\u001b[39m \u001b[43m_extract_index\u001b[49m\u001b[43m(\u001b[49m\u001b[43marrays\u001b[49m\u001b[43m)\u001b[49m\n\u001b[1;32m    121\u001b[0m     \u001b[38;5;28;01melse\u001b[39;00m:\n\u001b[1;32m    122\u001b[0m         index \u001b[38;5;241m=\u001b[39m ensure_index(index)\n",
      "File \u001b[0;32m~/opt/anaconda3/lib/python3.9/site-packages/pandas/core/internals/construction.py:674\u001b[0m, in \u001b[0;36m_extract_index\u001b[0;34m(data)\u001b[0m\n\u001b[1;32m    672\u001b[0m lengths \u001b[38;5;241m=\u001b[39m \u001b[38;5;28mlist\u001b[39m(\u001b[38;5;28mset\u001b[39m(raw_lengths))\n\u001b[1;32m    673\u001b[0m \u001b[38;5;28;01mif\u001b[39;00m \u001b[38;5;28mlen\u001b[39m(lengths) \u001b[38;5;241m>\u001b[39m \u001b[38;5;241m1\u001b[39m:\n\u001b[0;32m--> 674\u001b[0m     \u001b[38;5;28;01mraise\u001b[39;00m \u001b[38;5;167;01mValueError\u001b[39;00m(\u001b[38;5;124m\"\u001b[39m\u001b[38;5;124mAll arrays must be of the same length\u001b[39m\u001b[38;5;124m\"\u001b[39m)\n\u001b[1;32m    676\u001b[0m \u001b[38;5;28;01mif\u001b[39;00m have_dicts:\n\u001b[1;32m    677\u001b[0m     \u001b[38;5;28;01mraise\u001b[39;00m \u001b[38;5;167;01mValueError\u001b[39;00m(\n\u001b[1;32m    678\u001b[0m         \u001b[38;5;124m\"\u001b[39m\u001b[38;5;124mMixing dicts with non-Series may lead to ambiguous ordering.\u001b[39m\u001b[38;5;124m\"\u001b[39m\n\u001b[1;32m    679\u001b[0m     )\n",
      "\u001b[0;31mValueError\u001b[0m: All arrays must be of the same length"
     ]
    }
   ],
   "source": [
    "import pandas as pd\n",
    "\n",
    "data = {'code': ['000001', '000002'], 'price': [50, 150, 80]}\n",
    "\n",
    "df = pd.DataFrame(data)\n",
    "\n",
    "df"
   ]
  },
  {
   "cell_type": "markdown",
   "metadata": {},
   "source": [
    "如果DataFrame的值是非数组时，没有这一限制，且自动将缺失值补成NaN。"
   ]
  },
  {
   "cell_type": "markdown",
   "metadata": {},
   "source": [
    "**创建空DataFrame**  \n",
    "在实际处理数据时，有时需要创建一个空的DataFrame，可以这么做："
   ]
  },
  {
   "cell_type": "code",
   "execution_count": 15,
   "metadata": {},
   "outputs": [
    {
     "name": "stdout",
     "output_type": "stream",
     "text": [
      "Empty DataFrame\n",
      "Columns: []\n",
      "Index: []\n"
     ]
    }
   ],
   "source": [
    "df = pd.DataFrame()\n",
    "print(df)"
   ]
  },
  {
   "cell_type": "markdown",
   "metadata": {},
   "source": [
    "**链接DataFrame**  \n",
    "另一种创建DataFrame的方法十分有用，那就是使用concat函数创建DataFrame，其主要是通过两个行或列相同的DataFrame链接成一个："
   ]
  },
  {
   "cell_type": "code",
   "execution_count": 52,
   "metadata": {},
   "outputs": [
    {
     "name": "stdout",
     "output_type": "stream",
     "text": [
      "     code  price\n",
      "0  000001     50\n",
      "1  000002    150\n",
      "2  000003     80\n",
      "     code  price\n",
      "0  300033     96\n",
      "     code  price\n",
      "0  000001     50\n",
      "1  000002    150\n",
      "2  000003     80\n",
      "0  300033     96\n"
     ]
    }
   ],
   "source": [
    "data = {'code': ['000001', '000002', '000003'], 'price': [50, 150, 80]}\n",
    "df1 = pd.DataFrame(data)\n",
    "supply= [{'code': '300033', 'price': 96}]\n",
    "df2 = pd.DataFrame(supply)\n",
    "df = pd.concat([df1, df2], axis=0)\n",
    "print(df1)\n",
    "print(df2)\n",
    "print(df)"
   ]
  },
  {
   "cell_type": "markdown",
   "metadata": {},
   "source": [
    "注意：concat函数内有axis参数，其中的axis=1表示按列进行合并，axis=0表示按行合并"
   ]
  },
  {
   "cell_type": "markdown",
   "metadata": {},
   "source": [
    "### 3.2.2数据查看\n",
    "[返回目录](#目录)\n",
    "\n",
    "同花顺量化交易平台上大部分获取数据的函数，最终以DataFrame或Dict(字典)格式呈现。接下来重点介绍DataFrame格式的数据查看，数据处理。以同花顺平台获取的数据为例进行讲解：<br><br>\n",
    "注意：该部分内容需在同花顺研究环境中练习。数据接口的种类和使用方法请参阅[数据接口文档](http://quant.10jqka.com.cn/platform/html/help-api.html?t=-1#0/0)"
   ]
  },
  {
   "cell_type": "code",
   "execution_count": 18,
   "metadata": {},
   "outputs": [
    {
     "name": "stdout",
     "output_type": "stream",
     "text": [
      "             close    high     low    open\n",
      "2017-12-28  718.69  719.90  671.32  687.00\n",
      "2017-12-29  697.49  726.50  691.60  718.00\n",
      "2018-01-02  703.85  710.16  689.89  700.00\n",
      "2018-01-03  715.86  721.40  699.74  701.50\n",
      "2018-01-04  737.07  743.50  719.33  721.40\n",
      "2018-01-05  738.36  746.03  728.22  741.00\n",
      "2018-01-08  752.13  756.50  735.02  735.02\n",
      "2018-01-09  782.52  783.00  752.21  752.21\n",
      "2018-01-10  785.71  788.88  773.48  785.00\n",
      "2018-01-11  774.81  788.00  772.00  787.00\n",
      "2018-01-12  788.42  788.80  767.02  773.77\n",
      "2018-01-15  785.37  799.06  779.02  793.46\n",
      "2018-01-16  772.94  788.61  768.00  780.48\n",
      "2018-01-17  747.93  774.00  738.51  770.00\n",
      "2018-01-18  750.74  765.00  744.09  747.93\n",
      "2018-01-19  750.18  758.90  739.02  752.90\n",
      "2018-01-22  773.64  774.00  751.81  751.81\n",
      "2018-01-23  773.78  780.00  768.60  777.81\n",
      "2018-01-24  764.46  776.46  758.60  776.44\n",
      "2018-01-25  769.16  776.00  751.00  761.00\n"
     ]
    }
   ],
   "source": [
    "# 获取贵州茅台近10个工作日的开盘价、最高价、最低价、收盘价，获取格式即为DataFrame\n",
    "price= get_price('600519.SH', None, '20180125', '1d', ['open', 'high', 'low', 'close'], False, 'pre', 20, is_panel=1)\n",
    "print(price)"
   ]
  },
  {
   "cell_type": "markdown",
   "metadata": {},
   "source": [
    "　以下为数据查看常用的八项操作："
   ]
  },
  {
   "cell_type": "markdown",
   "metadata": {},
   "source": [
    "　　1.查看前几条数据："
   ]
  },
  {
   "cell_type": "code",
   "execution_count": 19,
   "metadata": {},
   "outputs": [
    {
     "data": {
      "text/html": [
       "<div>\n",
       "<style>\n",
       "    .dataframe thead tr:only-child th {\n",
       "        text-align: right;\n",
       "    }\n",
       "\n",
       "    .dataframe thead th {\n",
       "        text-align: left;\n",
       "    }\n",
       "\n",
       "    .dataframe tbody tr th {\n",
       "        vertical-align: top;\n",
       "    }\n",
       "</style>\n",
       "<table border=\"1\" class=\"dataframe\">\n",
       "  <thead>\n",
       "    <tr style=\"text-align: right;\">\n",
       "      <th></th>\n",
       "      <th>close</th>\n",
       "      <th>high</th>\n",
       "      <th>low</th>\n",
       "      <th>open</th>\n",
       "    </tr>\n",
       "  </thead>\n",
       "  <tbody>\n",
       "    <tr>\n",
       "      <th>2017-12-28</th>\n",
       "      <td>718.69</td>\n",
       "      <td>719.90</td>\n",
       "      <td>671.32</td>\n",
       "      <td>687.0</td>\n",
       "    </tr>\n",
       "    <tr>\n",
       "      <th>2017-12-29</th>\n",
       "      <td>697.49</td>\n",
       "      <td>726.50</td>\n",
       "      <td>691.60</td>\n",
       "      <td>718.0</td>\n",
       "    </tr>\n",
       "    <tr>\n",
       "      <th>2018-01-02</th>\n",
       "      <td>703.85</td>\n",
       "      <td>710.16</td>\n",
       "      <td>689.89</td>\n",
       "      <td>700.0</td>\n",
       "    </tr>\n",
       "    <tr>\n",
       "      <th>2018-01-03</th>\n",
       "      <td>715.86</td>\n",
       "      <td>721.40</td>\n",
       "      <td>699.74</td>\n",
       "      <td>701.5</td>\n",
       "    </tr>\n",
       "    <tr>\n",
       "      <th>2018-01-04</th>\n",
       "      <td>737.07</td>\n",
       "      <td>743.50</td>\n",
       "      <td>719.33</td>\n",
       "      <td>721.4</td>\n",
       "    </tr>\n",
       "  </tbody>\n",
       "</table>\n",
       "</div>"
      ],
      "text/plain": [
       "             close    high     low   open\n",
       "2017-12-28  718.69  719.90  671.32  687.0\n",
       "2017-12-29  697.49  726.50  691.60  718.0\n",
       "2018-01-02  703.85  710.16  689.89  700.0\n",
       "2018-01-03  715.86  721.40  699.74  701.5\n",
       "2018-01-04  737.07  743.50  719.33  721.4"
      ]
     },
     "execution_count": 19,
     "metadata": {},
     "output_type": "execute_result"
    }
   ],
   "source": [
    "price.head()"
   ]
  },
  {
   "cell_type": "markdown",
   "metadata": {},
   "source": [
    "　　2.查看后几条数据："
   ]
  },
  {
   "cell_type": "code",
   "execution_count": 20,
   "metadata": {},
   "outputs": [
    {
     "data": {
      "text/html": [
       "<div>\n",
       "<style>\n",
       "    .dataframe thead tr:only-child th {\n",
       "        text-align: right;\n",
       "    }\n",
       "\n",
       "    .dataframe thead th {\n",
       "        text-align: left;\n",
       "    }\n",
       "\n",
       "    .dataframe tbody tr th {\n",
       "        vertical-align: top;\n",
       "    }\n",
       "</style>\n",
       "<table border=\"1\" class=\"dataframe\">\n",
       "  <thead>\n",
       "    <tr style=\"text-align: right;\">\n",
       "      <th></th>\n",
       "      <th>close</th>\n",
       "      <th>high</th>\n",
       "      <th>low</th>\n",
       "      <th>open</th>\n",
       "    </tr>\n",
       "  </thead>\n",
       "  <tbody>\n",
       "    <tr>\n",
       "      <th>2018-01-19</th>\n",
       "      <td>750.18</td>\n",
       "      <td>758.90</td>\n",
       "      <td>739.02</td>\n",
       "      <td>752.90</td>\n",
       "    </tr>\n",
       "    <tr>\n",
       "      <th>2018-01-22</th>\n",
       "      <td>773.64</td>\n",
       "      <td>774.00</td>\n",
       "      <td>751.81</td>\n",
       "      <td>751.81</td>\n",
       "    </tr>\n",
       "    <tr>\n",
       "      <th>2018-01-23</th>\n",
       "      <td>773.78</td>\n",
       "      <td>780.00</td>\n",
       "      <td>768.60</td>\n",
       "      <td>777.81</td>\n",
       "    </tr>\n",
       "    <tr>\n",
       "      <th>2018-01-24</th>\n",
       "      <td>764.46</td>\n",
       "      <td>776.46</td>\n",
       "      <td>758.60</td>\n",
       "      <td>776.44</td>\n",
       "    </tr>\n",
       "    <tr>\n",
       "      <th>2018-01-25</th>\n",
       "      <td>769.16</td>\n",
       "      <td>776.00</td>\n",
       "      <td>751.00</td>\n",
       "      <td>761.00</td>\n",
       "    </tr>\n",
       "  </tbody>\n",
       "</table>\n",
       "</div>"
      ],
      "text/plain": [
       "             close    high     low    open\n",
       "2018-01-19  750.18  758.90  739.02  752.90\n",
       "2018-01-22  773.64  774.00  751.81  751.81\n",
       "2018-01-23  773.78  780.00  768.60  777.81\n",
       "2018-01-24  764.46  776.46  758.60  776.44\n",
       "2018-01-25  769.16  776.00  751.00  761.00"
      ]
     },
     "execution_count": 20,
     "metadata": {},
     "output_type": "execute_result"
    }
   ],
   "source": [
    "price.tail()"
   ]
  },
  {
   "cell_type": "markdown",
   "metadata": {},
   "source": [
    "　　3.查看 DataFrame 的索引"
   ]
  },
  {
   "cell_type": "code",
   "execution_count": 21,
   "metadata": {},
   "outputs": [
    {
     "data": {
      "text/plain": [
       "DatetimeIndex(['2017-12-28', '2017-12-29', '2018-01-02', '2018-01-03',\n",
       "               '2018-01-04', '2018-01-05', '2018-01-08', '2018-01-09',\n",
       "               '2018-01-10', '2018-01-11', '2018-01-12', '2018-01-15',\n",
       "               '2018-01-16', '2018-01-17', '2018-01-18', '2018-01-19',\n",
       "               '2018-01-22', '2018-01-23', '2018-01-24', '2018-01-25'],\n",
       "              dtype='datetime64[ns]', freq=None)"
      ]
     },
     "execution_count": 21,
     "metadata": {},
     "output_type": "execute_result"
    }
   ],
   "source": [
    "price.index"
   ]
  },
  {
   "cell_type": "markdown",
   "metadata": {},
   "source": [
    "　　4.查看 DataFrame 的列名"
   ]
  },
  {
   "cell_type": "code",
   "execution_count": 22,
   "metadata": {},
   "outputs": [
    {
     "data": {
      "text/plain": [
       "Index(['close', 'high', 'low', 'open'], dtype='object')"
      ]
     },
     "execution_count": 22,
     "metadata": {},
     "output_type": "execute_result"
    }
   ],
   "source": [
    "price.columns"
   ]
  },
  {
   "cell_type": "markdown",
   "metadata": {},
   "source": [
    "　　5.查看 DataFrame 的值"
   ]
  },
  {
   "cell_type": "code",
   "execution_count": 23,
   "metadata": {
    "scrolled": true
   },
   "outputs": [
    {
     "data": {
      "text/plain": [
       "array([[ 718.69,  719.9 ,  671.32,  687.  ],\n",
       "       [ 697.49,  726.5 ,  691.6 ,  718.  ],\n",
       "       [ 703.85,  710.16,  689.89,  700.  ],\n",
       "       [ 715.86,  721.4 ,  699.74,  701.5 ],\n",
       "       [ 737.07,  743.5 ,  719.33,  721.4 ],\n",
       "       [ 738.36,  746.03,  728.22,  741.  ],\n",
       "       [ 752.13,  756.5 ,  735.02,  735.02],\n",
       "       [ 782.52,  783.  ,  752.21,  752.21],\n",
       "       [ 785.71,  788.88,  773.48,  785.  ],\n",
       "       [ 774.81,  788.  ,  772.  ,  787.  ],\n",
       "       [ 788.42,  788.8 ,  767.02,  773.77],\n",
       "       [ 785.37,  799.06,  779.02,  793.46],\n",
       "       [ 772.94,  788.61,  768.  ,  780.48],\n",
       "       [ 747.93,  774.  ,  738.51,  770.  ],\n",
       "       [ 750.74,  765.  ,  744.09,  747.93],\n",
       "       [ 750.18,  758.9 ,  739.02,  752.9 ],\n",
       "       [ 773.64,  774.  ,  751.81,  751.81],\n",
       "       [ 773.78,  780.  ,  768.6 ,  777.81],\n",
       "       [ 764.46,  776.46,  758.6 ,  776.44],\n",
       "       [ 769.16,  776.  ,  751.  ,  761.  ]])"
      ]
     },
     "execution_count": 23,
     "metadata": {},
     "output_type": "execute_result"
    }
   ],
   "source": [
    "price.values"
   ]
  },
  {
   "cell_type": "markdown",
   "metadata": {},
   "source": [
    "注意：返回结果其实就是一个 Pandas Series 数据。"
   ]
  },
  {
   "cell_type": "markdown",
   "metadata": {},
   "source": [
    "　　6.使用 describe() 函数对于数据的快速统计汇总："
   ]
  },
  {
   "cell_type": "code",
   "execution_count": 24,
   "metadata": {},
   "outputs": [
    {
     "data": {
      "text/html": [
       "<div>\n",
       "<style>\n",
       "    .dataframe thead tr:only-child th {\n",
       "        text-align: right;\n",
       "    }\n",
       "\n",
       "    .dataframe thead th {\n",
       "        text-align: left;\n",
       "    }\n",
       "\n",
       "    .dataframe tbody tr th {\n",
       "        vertical-align: top;\n",
       "    }\n",
       "</style>\n",
       "<table border=\"1\" class=\"dataframe\">\n",
       "  <thead>\n",
       "    <tr style=\"text-align: right;\">\n",
       "      <th></th>\n",
       "      <th>close</th>\n",
       "      <th>high</th>\n",
       "      <th>low</th>\n",
       "      <th>open</th>\n",
       "    </tr>\n",
       "  </thead>\n",
       "  <tbody>\n",
       "    <tr>\n",
       "      <th>count</th>\n",
       "      <td>20.000000</td>\n",
       "      <td>20.000000</td>\n",
       "      <td>20.000000</td>\n",
       "      <td>20.000000</td>\n",
       "    </tr>\n",
       "    <tr>\n",
       "      <th>mean</th>\n",
       "      <td>754.155500</td>\n",
       "      <td>763.235000</td>\n",
       "      <td>739.924000</td>\n",
       "      <td>750.686500</td>\n",
       "    </tr>\n",
       "    <tr>\n",
       "      <th>std</th>\n",
       "      <td>28.005539</td>\n",
       "      <td>26.794003</td>\n",
       "      <td>31.251968</td>\n",
       "      <td>31.581411</td>\n",
       "    </tr>\n",
       "    <tr>\n",
       "      <th>min</th>\n",
       "      <td>697.490000</td>\n",
       "      <td>710.160000</td>\n",
       "      <td>671.320000</td>\n",
       "      <td>687.000000</td>\n",
       "    </tr>\n",
       "    <tr>\n",
       "      <th>25%</th>\n",
       "      <td>738.037500</td>\n",
       "      <td>745.397500</td>\n",
       "      <td>725.997500</td>\n",
       "      <td>731.615000</td>\n",
       "    </tr>\n",
       "    <tr>\n",
       "      <th>50%</th>\n",
       "      <td>758.295000</td>\n",
       "      <td>774.000000</td>\n",
       "      <td>747.545000</td>\n",
       "      <td>752.555000</td>\n",
       "    </tr>\n",
       "    <tr>\n",
       "      <th>75%</th>\n",
       "      <td>774.037500</td>\n",
       "      <td>784.250000</td>\n",
       "      <td>767.265000</td>\n",
       "      <td>776.782500</td>\n",
       "    </tr>\n",
       "    <tr>\n",
       "      <th>max</th>\n",
       "      <td>788.420000</td>\n",
       "      <td>799.060000</td>\n",
       "      <td>779.020000</td>\n",
       "      <td>793.460000</td>\n",
       "    </tr>\n",
       "  </tbody>\n",
       "</table>\n",
       "</div>"
      ],
      "text/plain": [
       "            close        high         low        open\n",
       "count   20.000000   20.000000   20.000000   20.000000\n",
       "mean   754.155500  763.235000  739.924000  750.686500\n",
       "std     28.005539   26.794003   31.251968   31.581411\n",
       "min    697.490000  710.160000  671.320000  687.000000\n",
       "25%    738.037500  745.397500  725.997500  731.615000\n",
       "50%    758.295000  774.000000  747.545000  752.555000\n",
       "75%    774.037500  784.250000  767.265000  776.782500\n",
       "max    788.420000  799.060000  779.020000  793.460000"
      ]
     },
     "execution_count": 24,
     "metadata": {},
     "output_type": "execute_result"
    }
   ],
   "source": [
    "price.describe()"
   ]
  },
  {
   "cell_type": "markdown",
   "metadata": {},
   "source": [
    "　　7.对数据的转置："
   ]
  },
  {
   "cell_type": "code",
   "execution_count": 25,
   "metadata": {},
   "outputs": [
    {
     "data": {
      "text/html": [
       "<div>\n",
       "<style>\n",
       "    .dataframe thead tr:only-child th {\n",
       "        text-align: right;\n",
       "    }\n",
       "\n",
       "    .dataframe thead th {\n",
       "        text-align: left;\n",
       "    }\n",
       "\n",
       "    .dataframe tbody tr th {\n",
       "        vertical-align: top;\n",
       "    }\n",
       "</style>\n",
       "<table border=\"1\" class=\"dataframe\">\n",
       "  <thead>\n",
       "    <tr style=\"text-align: right;\">\n",
       "      <th></th>\n",
       "      <th>2017-12-28 00:00:00</th>\n",
       "      <th>2017-12-29 00:00:00</th>\n",
       "      <th>2018-01-02 00:00:00</th>\n",
       "      <th>2018-01-03 00:00:00</th>\n",
       "      <th>2018-01-04 00:00:00</th>\n",
       "      <th>2018-01-05 00:00:00</th>\n",
       "      <th>2018-01-08 00:00:00</th>\n",
       "      <th>2018-01-09 00:00:00</th>\n",
       "      <th>2018-01-10 00:00:00</th>\n",
       "      <th>2018-01-11 00:00:00</th>\n",
       "      <th>2018-01-12 00:00:00</th>\n",
       "      <th>2018-01-15 00:00:00</th>\n",
       "      <th>2018-01-16 00:00:00</th>\n",
       "      <th>2018-01-17 00:00:00</th>\n",
       "      <th>2018-01-18 00:00:00</th>\n",
       "      <th>2018-01-19 00:00:00</th>\n",
       "      <th>2018-01-22 00:00:00</th>\n",
       "      <th>2018-01-23 00:00:00</th>\n",
       "      <th>2018-01-24 00:00:00</th>\n",
       "      <th>2018-01-25 00:00:00</th>\n",
       "    </tr>\n",
       "  </thead>\n",
       "  <tbody>\n",
       "    <tr>\n",
       "      <th>close</th>\n",
       "      <td>718.69</td>\n",
       "      <td>697.49</td>\n",
       "      <td>703.85</td>\n",
       "      <td>715.86</td>\n",
       "      <td>737.07</td>\n",
       "      <td>738.36</td>\n",
       "      <td>752.13</td>\n",
       "      <td>782.52</td>\n",
       "      <td>785.71</td>\n",
       "      <td>774.81</td>\n",
       "      <td>788.42</td>\n",
       "      <td>785.37</td>\n",
       "      <td>772.94</td>\n",
       "      <td>747.93</td>\n",
       "      <td>750.74</td>\n",
       "      <td>750.18</td>\n",
       "      <td>773.64</td>\n",
       "      <td>773.78</td>\n",
       "      <td>764.46</td>\n",
       "      <td>769.16</td>\n",
       "    </tr>\n",
       "    <tr>\n",
       "      <th>high</th>\n",
       "      <td>719.90</td>\n",
       "      <td>726.50</td>\n",
       "      <td>710.16</td>\n",
       "      <td>721.40</td>\n",
       "      <td>743.50</td>\n",
       "      <td>746.03</td>\n",
       "      <td>756.50</td>\n",
       "      <td>783.00</td>\n",
       "      <td>788.88</td>\n",
       "      <td>788.00</td>\n",
       "      <td>788.80</td>\n",
       "      <td>799.06</td>\n",
       "      <td>788.61</td>\n",
       "      <td>774.00</td>\n",
       "      <td>765.00</td>\n",
       "      <td>758.90</td>\n",
       "      <td>774.00</td>\n",
       "      <td>780.00</td>\n",
       "      <td>776.46</td>\n",
       "      <td>776.00</td>\n",
       "    </tr>\n",
       "    <tr>\n",
       "      <th>low</th>\n",
       "      <td>671.32</td>\n",
       "      <td>691.60</td>\n",
       "      <td>689.89</td>\n",
       "      <td>699.74</td>\n",
       "      <td>719.33</td>\n",
       "      <td>728.22</td>\n",
       "      <td>735.02</td>\n",
       "      <td>752.21</td>\n",
       "      <td>773.48</td>\n",
       "      <td>772.00</td>\n",
       "      <td>767.02</td>\n",
       "      <td>779.02</td>\n",
       "      <td>768.00</td>\n",
       "      <td>738.51</td>\n",
       "      <td>744.09</td>\n",
       "      <td>739.02</td>\n",
       "      <td>751.81</td>\n",
       "      <td>768.60</td>\n",
       "      <td>758.60</td>\n",
       "      <td>751.00</td>\n",
       "    </tr>\n",
       "    <tr>\n",
       "      <th>open</th>\n",
       "      <td>687.00</td>\n",
       "      <td>718.00</td>\n",
       "      <td>700.00</td>\n",
       "      <td>701.50</td>\n",
       "      <td>721.40</td>\n",
       "      <td>741.00</td>\n",
       "      <td>735.02</td>\n",
       "      <td>752.21</td>\n",
       "      <td>785.00</td>\n",
       "      <td>787.00</td>\n",
       "      <td>773.77</td>\n",
       "      <td>793.46</td>\n",
       "      <td>780.48</td>\n",
       "      <td>770.00</td>\n",
       "      <td>747.93</td>\n",
       "      <td>752.90</td>\n",
       "      <td>751.81</td>\n",
       "      <td>777.81</td>\n",
       "      <td>776.44</td>\n",
       "      <td>761.00</td>\n",
       "    </tr>\n",
       "  </tbody>\n",
       "</table>\n",
       "</div>"
      ],
      "text/plain": [
       "       2017-12-28  2017-12-29  2018-01-02  2018-01-03  2018-01-04  2018-01-05  \\\n",
       "close      718.69      697.49      703.85      715.86      737.07      738.36   \n",
       "high       719.90      726.50      710.16      721.40      743.50      746.03   \n",
       "low        671.32      691.60      689.89      699.74      719.33      728.22   \n",
       "open       687.00      718.00      700.00      701.50      721.40      741.00   \n",
       "\n",
       "       2018-01-08  2018-01-09  2018-01-10  2018-01-11  2018-01-12  2018-01-15  \\\n",
       "close      752.13      782.52      785.71      774.81      788.42      785.37   \n",
       "high       756.50      783.00      788.88      788.00      788.80      799.06   \n",
       "low        735.02      752.21      773.48      772.00      767.02      779.02   \n",
       "open       735.02      752.21      785.00      787.00      773.77      793.46   \n",
       "\n",
       "       2018-01-16  2018-01-17  2018-01-18  2018-01-19  2018-01-22  2018-01-23  \\\n",
       "close      772.94      747.93      750.74      750.18      773.64      773.78   \n",
       "high       788.61      774.00      765.00      758.90      774.00      780.00   \n",
       "low        768.00      738.51      744.09      739.02      751.81      768.60   \n",
       "open       780.48      770.00      747.93      752.90      751.81      777.81   \n",
       "\n",
       "       2018-01-24  2018-01-25  \n",
       "close      764.46      769.16  \n",
       "high       776.46      776.00  \n",
       "low        758.60      751.00  \n",
       "open       776.44      761.00  "
      ]
     },
     "execution_count": 25,
     "metadata": {},
     "output_type": "execute_result"
    }
   ],
   "source": [
    "price.T"
   ]
  },
  {
   "cell_type": "markdown",
   "metadata": {},
   "source": [
    "　　8.按列对 DataFrame 进行排序"
   ]
  },
  {
   "cell_type": "code",
   "execution_count": null,
   "metadata": {},
   "outputs": [],
   "source": [
    "price.sort_index(axis=1, ascending=False)"
   ]
  },
  {
   "cell_type": "code",
   "execution_count": 26,
   "metadata": {
    "scrolled": true
   },
   "outputs": [
    {
     "name": "stdout",
     "output_type": "stream",
     "text": [
      "             close    high     low    open\n",
      "2018-01-15  785.37  799.06  779.02  793.46\n",
      "2018-01-11  774.81  788.00  772.00  787.00\n",
      "2018-01-10  785.71  788.88  773.48  785.00\n",
      "2018-01-16  772.94  788.61  768.00  780.48\n",
      "2018-01-23  773.78  780.00  768.60  777.81\n",
      "2018-01-24  764.46  776.46  758.60  776.44\n",
      "2018-01-12  788.42  788.80  767.02  773.77\n",
      "2018-01-17  747.93  774.00  738.51  770.00\n",
      "2018-01-25  769.16  776.00  751.00  761.00\n",
      "2018-01-19  750.18  758.90  739.02  752.90\n",
      "2018-01-09  782.52  783.00  752.21  752.21\n",
      "2018-01-22  773.64  774.00  751.81  751.81\n",
      "2018-01-18  750.74  765.00  744.09  747.93\n",
      "2018-01-05  738.36  746.03  728.22  741.00\n",
      "2018-01-08  752.13  756.50  735.02  735.02\n",
      "2018-01-04  737.07  743.50  719.33  721.40\n",
      "2017-12-29  697.49  726.50  691.60  718.00\n",
      "2018-01-03  715.86  721.40  699.74  701.50\n",
      "2018-01-02  703.85  710.16  689.89  700.00\n",
      "2017-12-28  718.69  719.90  671.32  687.00\n"
     ]
    }
   ],
   "source": [
    "print(price.sort_values(by='open' , ascending=False))\n"
   ]
  },
  {
   "cell_type": "markdown",
   "metadata": {},
   "source": [
    "注意：sort_values函数内置参数有by和ascending，by参数是排序指定列，ascending是排序顺序，False是从大到小，True是从小到大。"
   ]
  },
  {
   "cell_type": "markdown",
   "metadata": {},
   "source": [
    "### 3.2.3数据选取\n",
    "\n",
    "依旧采用上个小节案例，继续讲述选择数据的八项基本操作。<br>\n",
    "　　　1.选择某一列数据，选取开盘价这列数据：<br>"
   ]
  },
  {
   "cell_type": "code",
   "execution_count": 28,
   "metadata": {},
   "outputs": [
    {
     "data": {
      "text/plain": [
       "2017-12-28    687.00\n",
       "2017-12-29    718.00\n",
       "2018-01-02    700.00\n",
       "2018-01-03    701.50\n",
       "2018-01-04    721.40\n",
       "2018-01-05    741.00\n",
       "2018-01-08    735.02\n",
       "2018-01-09    752.21\n",
       "2018-01-10    785.00\n",
       "2018-01-11    787.00\n",
       "2018-01-12    773.77\n",
       "2018-01-15    793.46\n",
       "2018-01-16    780.48\n",
       "2018-01-17    770.00\n",
       "2018-01-18    747.93\n",
       "2018-01-19    752.90\n",
       "2018-01-22    751.81\n",
       "2018-01-23    777.81\n",
       "2018-01-24    776.44\n",
       "2018-01-25    761.00\n",
       "Name: open, dtype: float64"
      ]
     },
     "execution_count": 28,
     "metadata": {},
     "output_type": "execute_result"
    }
   ],
   "source": [
    "price['open']"
   ]
  },
  {
   "cell_type": "markdown",
   "metadata": {},
   "source": [
    "　　同学们动手试试price.open~<br>\n",
    "　　它与price['open']是等效的！<br>"
   ]
  },
  {
   "cell_type": "markdown",
   "metadata": {},
   "source": [
    "　　2.选择多列数据："
   ]
  },
  {
   "cell_type": "code",
   "execution_count": 30,
   "metadata": {
    "collapsed": true,
    "jupyter": {
     "outputs_hidden": true
    }
   },
   "outputs": [
    {
     "data": {
      "text/html": [
       "<div>\n",
       "<style>\n",
       "    .dataframe thead tr:only-child th {\n",
       "        text-align: right;\n",
       "    }\n",
       "\n",
       "    .dataframe thead th {\n",
       "        text-align: left;\n",
       "    }\n",
       "\n",
       "    .dataframe tbody tr th {\n",
       "        vertical-align: top;\n",
       "    }\n",
       "</style>\n",
       "<table border=\"1\" class=\"dataframe\">\n",
       "  <thead>\n",
       "    <tr style=\"text-align: right;\">\n",
       "      <th></th>\n",
       "      <th>open</th>\n",
       "      <th>close</th>\n",
       "    </tr>\n",
       "  </thead>\n",
       "  <tbody>\n",
       "    <tr>\n",
       "      <th>2017-12-28</th>\n",
       "      <td>687.00</td>\n",
       "      <td>718.69</td>\n",
       "    </tr>\n",
       "    <tr>\n",
       "      <th>2017-12-29</th>\n",
       "      <td>718.00</td>\n",
       "      <td>697.49</td>\n",
       "    </tr>\n",
       "    <tr>\n",
       "      <th>2018-01-02</th>\n",
       "      <td>700.00</td>\n",
       "      <td>703.85</td>\n",
       "    </tr>\n",
       "    <tr>\n",
       "      <th>2018-01-03</th>\n",
       "      <td>701.50</td>\n",
       "      <td>715.86</td>\n",
       "    </tr>\n",
       "    <tr>\n",
       "      <th>2018-01-04</th>\n",
       "      <td>721.40</td>\n",
       "      <td>737.07</td>\n",
       "    </tr>\n",
       "    <tr>\n",
       "      <th>2018-01-05</th>\n",
       "      <td>741.00</td>\n",
       "      <td>738.36</td>\n",
       "    </tr>\n",
       "    <tr>\n",
       "      <th>2018-01-08</th>\n",
       "      <td>735.02</td>\n",
       "      <td>752.13</td>\n",
       "    </tr>\n",
       "    <tr>\n",
       "      <th>2018-01-09</th>\n",
       "      <td>752.21</td>\n",
       "      <td>782.52</td>\n",
       "    </tr>\n",
       "    <tr>\n",
       "      <th>2018-01-10</th>\n",
       "      <td>785.00</td>\n",
       "      <td>785.71</td>\n",
       "    </tr>\n",
       "    <tr>\n",
       "      <th>2018-01-11</th>\n",
       "      <td>787.00</td>\n",
       "      <td>774.81</td>\n",
       "    </tr>\n",
       "    <tr>\n",
       "      <th>2018-01-12</th>\n",
       "      <td>773.77</td>\n",
       "      <td>788.42</td>\n",
       "    </tr>\n",
       "    <tr>\n",
       "      <th>2018-01-15</th>\n",
       "      <td>793.46</td>\n",
       "      <td>785.37</td>\n",
       "    </tr>\n",
       "    <tr>\n",
       "      <th>2018-01-16</th>\n",
       "      <td>780.48</td>\n",
       "      <td>772.94</td>\n",
       "    </tr>\n",
       "    <tr>\n",
       "      <th>2018-01-17</th>\n",
       "      <td>770.00</td>\n",
       "      <td>747.93</td>\n",
       "    </tr>\n",
       "    <tr>\n",
       "      <th>2018-01-18</th>\n",
       "      <td>747.93</td>\n",
       "      <td>750.74</td>\n",
       "    </tr>\n",
       "    <tr>\n",
       "      <th>2018-01-19</th>\n",
       "      <td>752.90</td>\n",
       "      <td>750.18</td>\n",
       "    </tr>\n",
       "    <tr>\n",
       "      <th>2018-01-22</th>\n",
       "      <td>751.81</td>\n",
       "      <td>773.64</td>\n",
       "    </tr>\n",
       "    <tr>\n",
       "      <th>2018-01-23</th>\n",
       "      <td>777.81</td>\n",
       "      <td>773.78</td>\n",
       "    </tr>\n",
       "    <tr>\n",
       "      <th>2018-01-24</th>\n",
       "      <td>776.44</td>\n",
       "      <td>764.46</td>\n",
       "    </tr>\n",
       "    <tr>\n",
       "      <th>2018-01-25</th>\n",
       "      <td>761.00</td>\n",
       "      <td>769.16</td>\n",
       "    </tr>\n",
       "  </tbody>\n",
       "</table>\n",
       "</div>"
      ],
      "text/plain": [
       "              open   close\n",
       "2017-12-28  687.00  718.69\n",
       "2017-12-29  718.00  697.49\n",
       "2018-01-02  700.00  703.85\n",
       "2018-01-03  701.50  715.86\n",
       "2018-01-04  721.40  737.07\n",
       "2018-01-05  741.00  738.36\n",
       "2018-01-08  735.02  752.13\n",
       "2018-01-09  752.21  782.52\n",
       "2018-01-10  785.00  785.71\n",
       "2018-01-11  787.00  774.81\n",
       "2018-01-12  773.77  788.42\n",
       "2018-01-15  793.46  785.37\n",
       "2018-01-16  780.48  772.94\n",
       "2018-01-17  770.00  747.93\n",
       "2018-01-18  747.93  750.74\n",
       "2018-01-19  752.90  750.18\n",
       "2018-01-22  751.81  773.64\n",
       "2018-01-23  777.81  773.78\n",
       "2018-01-24  776.44  764.46\n",
       "2018-01-25  761.00  769.16"
      ]
     },
     "execution_count": 30,
     "metadata": {},
     "output_type": "execute_result"
    }
   ],
   "source": [
    "price[['open','close']]"
   ]
  },
  {
   "cell_type": "markdown",
   "metadata": {},
   "source": [
    "注意：price[['open','close']]中['open','close']是一个由两个字符串（列名）组成的列表，会自动对应到整个DataFrame表结构中，获取到相应的数据。<br>\n",
    "　　同学们试试price['open','close']，看看能不能获取到数据~"
   ]
  },
  {
   "cell_type": "markdown",
   "metadata": {},
   "source": [
    "　　3.选择多行："
   ]
  },
  {
   "cell_type": "code",
   "execution_count": 31,
   "metadata": {},
   "outputs": [
    {
     "data": {
      "text/html": [
       "<div>\n",
       "<style>\n",
       "    .dataframe thead tr:only-child th {\n",
       "        text-align: right;\n",
       "    }\n",
       "\n",
       "    .dataframe thead th {\n",
       "        text-align: left;\n",
       "    }\n",
       "\n",
       "    .dataframe tbody tr th {\n",
       "        vertical-align: top;\n",
       "    }\n",
       "</style>\n",
       "<table border=\"1\" class=\"dataframe\">\n",
       "  <thead>\n",
       "    <tr style=\"text-align: right;\">\n",
       "      <th></th>\n",
       "      <th>close</th>\n",
       "      <th>high</th>\n",
       "      <th>low</th>\n",
       "      <th>open</th>\n",
       "    </tr>\n",
       "  </thead>\n",
       "  <tbody>\n",
       "    <tr>\n",
       "      <th>2017-12-28</th>\n",
       "      <td>718.69</td>\n",
       "      <td>719.90</td>\n",
       "      <td>671.32</td>\n",
       "      <td>687.0</td>\n",
       "    </tr>\n",
       "    <tr>\n",
       "      <th>2017-12-29</th>\n",
       "      <td>697.49</td>\n",
       "      <td>726.50</td>\n",
       "      <td>691.60</td>\n",
       "      <td>718.0</td>\n",
       "    </tr>\n",
       "    <tr>\n",
       "      <th>2018-01-02</th>\n",
       "      <td>703.85</td>\n",
       "      <td>710.16</td>\n",
       "      <td>689.89</td>\n",
       "      <td>700.0</td>\n",
       "    </tr>\n",
       "  </tbody>\n",
       "</table>\n",
       "</div>"
      ],
      "text/plain": [
       "             close    high     low   open\n",
       "2017-12-28  718.69  719.90  671.32  687.0\n",
       "2017-12-29  697.49  726.50  691.60  718.0\n",
       "2018-01-02  703.85  710.16  689.89  700.0"
      ]
     },
     "execution_count": 31,
     "metadata": {},
     "output_type": "execute_result"
    }
   ],
   "source": [
    "price[0:3]"
   ]
  },
  {
   "cell_type": "markdown",
   "metadata": {},
   "source": [
    "　　4.按index选取多行:"
   ]
  },
  {
   "cell_type": "code",
   "execution_count": 32,
   "metadata": {},
   "outputs": [
    {
     "data": {
      "text/html": [
       "<div>\n",
       "<style>\n",
       "    .dataframe thead tr:only-child th {\n",
       "        text-align: right;\n",
       "    }\n",
       "\n",
       "    .dataframe thead th {\n",
       "        text-align: left;\n",
       "    }\n",
       "\n",
       "    .dataframe tbody tr th {\n",
       "        vertical-align: top;\n",
       "    }\n",
       "</style>\n",
       "<table border=\"1\" class=\"dataframe\">\n",
       "  <thead>\n",
       "    <tr style=\"text-align: right;\">\n",
       "      <th></th>\n",
       "      <th>close</th>\n",
       "      <th>high</th>\n",
       "      <th>low</th>\n",
       "      <th>open</th>\n",
       "    </tr>\n",
       "  </thead>\n",
       "  <tbody>\n",
       "    <tr>\n",
       "      <th>2018-01-24</th>\n",
       "      <td>764.46</td>\n",
       "      <td>776.46</td>\n",
       "      <td>758.6</td>\n",
       "      <td>776.44</td>\n",
       "    </tr>\n",
       "    <tr>\n",
       "      <th>2018-01-25</th>\n",
       "      <td>769.16</td>\n",
       "      <td>776.00</td>\n",
       "      <td>751.0</td>\n",
       "      <td>761.00</td>\n",
       "    </tr>\n",
       "  </tbody>\n",
       "</table>\n",
       "</div>"
      ],
      "text/plain": [
       "             close    high    low    open\n",
       "2018-01-24  764.46  776.46  758.6  776.44\n",
       "2018-01-25  769.16  776.00  751.0  761.00"
      ]
     },
     "execution_count": 32,
     "metadata": {},
     "output_type": "execute_result"
    }
   ],
   "source": [
    "price['2018-01-24':'2018-01-25']"
   ]
  },
  {
   "cell_type": "markdown",
   "metadata": {},
   "source": [
    "　　5.使用标签选取数据：<br><br>\n",
    "使用loc方法，price.loc[行标签,列标签]<br>\n",
    "  price.loc['a':'b'] #选取 ab 两行数据<br>\n",
    "  price.loc[:,'open'] #选取 open 列的数据<br>\n",
    "price.loc 的第一个参数是行标签，第二个参数为列标签，两个参数既可以是列表也可以是单个字符，如果两个参数都为列表则返回的是 DataFrame，否则，则为 Series。<br>"
   ]
  },
  {
   "cell_type": "code",
   "execution_count": 33,
   "metadata": {},
   "outputs": [
    {
     "data": {
      "text/plain": [
       "776.44000000000005"
      ]
     },
     "execution_count": 33,
     "metadata": {},
     "output_type": "execute_result"
    }
   ],
   "source": [
    "price.loc['2018-01-24','open']"
   ]
  },
  {
   "cell_type": "code",
   "execution_count": 34,
   "metadata": {},
   "outputs": [
    {
     "data": {
      "text/html": [
       "<div>\n",
       "<style>\n",
       "    .dataframe thead tr:only-child th {\n",
       "        text-align: right;\n",
       "    }\n",
       "\n",
       "    .dataframe thead th {\n",
       "        text-align: left;\n",
       "    }\n",
       "\n",
       "    .dataframe tbody tr th {\n",
       "        vertical-align: top;\n",
       "    }\n",
       "</style>\n",
       "<table border=\"1\" class=\"dataframe\">\n",
       "  <thead>\n",
       "    <tr style=\"text-align: right;\">\n",
       "      <th></th>\n",
       "      <th>close</th>\n",
       "      <th>high</th>\n",
       "      <th>low</th>\n",
       "      <th>open</th>\n",
       "    </tr>\n",
       "  </thead>\n",
       "  <tbody>\n",
       "    <tr>\n",
       "      <th>2018-01-24</th>\n",
       "      <td>764.46</td>\n",
       "      <td>776.46</td>\n",
       "      <td>758.6</td>\n",
       "      <td>776.44</td>\n",
       "    </tr>\n",
       "    <tr>\n",
       "      <th>2018-01-25</th>\n",
       "      <td>769.16</td>\n",
       "      <td>776.00</td>\n",
       "      <td>751.0</td>\n",
       "      <td>761.00</td>\n",
       "    </tr>\n",
       "  </tbody>\n",
       "</table>\n",
       "</div>"
      ],
      "text/plain": [
       "             close    high    low    open\n",
       "2018-01-24  764.46  776.46  758.6  776.44\n",
       "2018-01-25  769.16  776.00  751.0  761.00"
      ]
     },
     "execution_count": 34,
     "metadata": {},
     "output_type": "execute_result"
    }
   ],
   "source": [
    "price.loc['2018-01-24':'2018-01-25']"
   ]
  },
  {
   "cell_type": "code",
   "execution_count": 35,
   "metadata": {},
   "outputs": [
    {
     "data": {
      "text/plain": [
       "2017-12-28    687.00\n",
       "2017-12-29    718.00\n",
       "2018-01-02    700.00\n",
       "2018-01-03    701.50\n",
       "2018-01-04    721.40\n",
       "2018-01-05    741.00\n",
       "2018-01-08    735.02\n",
       "2018-01-09    752.21\n",
       "2018-01-10    785.00\n",
       "2018-01-11    787.00\n",
       "2018-01-12    773.77\n",
       "2018-01-15    793.46\n",
       "2018-01-16    780.48\n",
       "2018-01-17    770.00\n",
       "2018-01-18    747.93\n",
       "2018-01-19    752.90\n",
       "2018-01-22    751.81\n",
       "2018-01-23    777.81\n",
       "2018-01-24    776.44\n",
       "2018-01-25    761.00\n",
       "Name: open, dtype: float64"
      ]
     },
     "execution_count": 35,
     "metadata": {},
     "output_type": "execute_result"
    }
   ],
   "source": [
    "price.loc[:, 'open']"
   ]
  },
  {
   "cell_type": "code",
   "execution_count": 36,
   "metadata": {},
   "outputs": [
    {
     "data": {
      "text/plain": [
       "2018-01-24    776.44\n",
       "2018-01-25    761.00\n",
       "Name: open, dtype: float64"
      ]
     },
     "execution_count": 36,
     "metadata": {},
     "output_type": "execute_result"
    }
   ],
   "source": [
    "price.loc['2018-01-24':'2018-01-25','open']"
   ]
  },
  {
   "cell_type": "markdown",
   "metadata": {},
   "source": [
    "　　6..使用位置选取数据：<br><br>\n",
    "　　　price.iloc[行位置,列位置]<br>\n",
    "　　　price.iloc[1,1] #选取第二行，第二列的值，返回的为单个值<br>\n",
    "　　　price.iloc[[0,2],:] #选取第一行及第三行的数据<br>\n",
    "　　　price.iloc[0:2,:] #选取第一行到第三行（不包含）的数据<br>\n",
    "　　　price.iloc[:,1] #选取所有记录的第二列的值，返回的为一个Series<br>\n",
    "　　　price.iloc[1,:] #选取第一行数据，返回的为一个Series<br>"
   ]
  },
  {
   "cell_type": "code",
   "execution_count": 38,
   "metadata": {},
   "outputs": [
    {
     "data": {
      "text/plain": [
       "726.5"
      ]
     },
     "execution_count": 38,
     "metadata": {},
     "output_type": "execute_result"
    }
   ],
   "source": [
    "price.iloc[1,1] # 选取第二行，第二列的值，返回的为单个值"
   ]
  },
  {
   "cell_type": "code",
   "execution_count": 39,
   "metadata": {},
   "outputs": [
    {
     "data": {
      "text/html": [
       "<div>\n",
       "<style>\n",
       "    .dataframe thead tr:only-child th {\n",
       "        text-align: right;\n",
       "    }\n",
       "\n",
       "    .dataframe thead th {\n",
       "        text-align: left;\n",
       "    }\n",
       "\n",
       "    .dataframe tbody tr th {\n",
       "        vertical-align: top;\n",
       "    }\n",
       "</style>\n",
       "<table border=\"1\" class=\"dataframe\">\n",
       "  <thead>\n",
       "    <tr style=\"text-align: right;\">\n",
       "      <th></th>\n",
       "      <th>close</th>\n",
       "      <th>high</th>\n",
       "      <th>low</th>\n",
       "      <th>open</th>\n",
       "    </tr>\n",
       "  </thead>\n",
       "  <tbody>\n",
       "    <tr>\n",
       "      <th>2017-12-28</th>\n",
       "      <td>718.69</td>\n",
       "      <td>719.90</td>\n",
       "      <td>671.32</td>\n",
       "      <td>687.0</td>\n",
       "    </tr>\n",
       "    <tr>\n",
       "      <th>2018-01-02</th>\n",
       "      <td>703.85</td>\n",
       "      <td>710.16</td>\n",
       "      <td>689.89</td>\n",
       "      <td>700.0</td>\n",
       "    </tr>\n",
       "  </tbody>\n",
       "</table>\n",
       "</div>"
      ],
      "text/plain": [
       "             close    high     low   open\n",
       "2017-12-28  718.69  719.90  671.32  687.0\n",
       "2018-01-02  703.85  710.16  689.89  700.0"
      ]
     },
     "execution_count": 39,
     "metadata": {},
     "output_type": "execute_result"
    }
   ],
   "source": [
    "price.iloc[[0,2],:] # 选取第一行及第三行的数据"
   ]
  },
  {
   "cell_type": "code",
   "execution_count": 40,
   "metadata": {},
   "outputs": [
    {
     "data": {
      "text/html": [
       "<div>\n",
       "<style>\n",
       "    .dataframe thead tr:only-child th {\n",
       "        text-align: right;\n",
       "    }\n",
       "\n",
       "    .dataframe thead th {\n",
       "        text-align: left;\n",
       "    }\n",
       "\n",
       "    .dataframe tbody tr th {\n",
       "        vertical-align: top;\n",
       "    }\n",
       "</style>\n",
       "<table border=\"1\" class=\"dataframe\">\n",
       "  <thead>\n",
       "    <tr style=\"text-align: right;\">\n",
       "      <th></th>\n",
       "      <th>close</th>\n",
       "      <th>high</th>\n",
       "      <th>low</th>\n",
       "      <th>open</th>\n",
       "    </tr>\n",
       "  </thead>\n",
       "  <tbody>\n",
       "    <tr>\n",
       "      <th>2017-12-28</th>\n",
       "      <td>718.69</td>\n",
       "      <td>719.9</td>\n",
       "      <td>671.32</td>\n",
       "      <td>687.0</td>\n",
       "    </tr>\n",
       "    <tr>\n",
       "      <th>2017-12-29</th>\n",
       "      <td>697.49</td>\n",
       "      <td>726.5</td>\n",
       "      <td>691.60</td>\n",
       "      <td>718.0</td>\n",
       "    </tr>\n",
       "  </tbody>\n",
       "</table>\n",
       "</div>"
      ],
      "text/plain": [
       "             close   high     low   open\n",
       "2017-12-28  718.69  719.9  671.32  687.0\n",
       "2017-12-29  697.49  726.5  691.60  718.0"
      ]
     },
     "execution_count": 40,
     "metadata": {},
     "output_type": "execute_result"
    }
   ],
   "source": [
    "price.iloc[0:2,:] # 选取第一行到第三行（不包含）的数据"
   ]
  },
  {
   "cell_type": "code",
   "execution_count": 41,
   "metadata": {},
   "outputs": [
    {
     "data": {
      "text/plain": [
       "2017-12-28    719.90\n",
       "2017-12-29    726.50\n",
       "2018-01-02    710.16\n",
       "2018-01-03    721.40\n",
       "2018-01-04    743.50\n",
       "2018-01-05    746.03\n",
       "2018-01-08    756.50\n",
       "2018-01-09    783.00\n",
       "2018-01-10    788.88\n",
       "2018-01-11    788.00\n",
       "2018-01-12    788.80\n",
       "2018-01-15    799.06\n",
       "2018-01-16    788.61\n",
       "2018-01-17    774.00\n",
       "2018-01-18    765.00\n",
       "2018-01-19    758.90\n",
       "2018-01-22    774.00\n",
       "2018-01-23    780.00\n",
       "2018-01-24    776.46\n",
       "2018-01-25    776.00\n",
       "Name: high, dtype: float64"
      ]
     },
     "execution_count": 41,
     "metadata": {},
     "output_type": "execute_result"
    }
   ],
   "source": [
    "price.iloc[:,1] # 选取所有记录的第一列的值，返回的为一个Series"
   ]
  },
  {
   "cell_type": "code",
   "execution_count": 42,
   "metadata": {
    "scrolled": true
   },
   "outputs": [
    {
     "data": {
      "text/plain": [
       "close    697.49\n",
       "high     726.50\n",
       "low      691.60\n",
       "open     718.00\n",
       "Name: 2017-12-29 00:00:00, dtype: float64"
      ]
     },
     "execution_count": 42,
     "metadata": {},
     "output_type": "execute_result"
    }
   ],
   "source": [
    "price.iloc[1,:] # 选取第一行数据，返回的为一个Series"
   ]
  },
  {
   "cell_type": "markdown",
   "metadata": {},
   "source": [
    "　　7.更广义的切片方式是使用.ix，它自动根据给到的索引类型判断是使用位置还是标签进行切片<br><br>\n",
    "　　　price.ix[1,1]<br>\n",
    "　　　price.ix['a':'b']<br>"
   ]
  },
  {
   "cell_type": "code",
   "execution_count": 43,
   "metadata": {},
   "outputs": [
    {
     "data": {
      "text/plain": [
       "726.5"
      ]
     },
     "execution_count": 43,
     "metadata": {},
     "output_type": "execute_result"
    }
   ],
   "source": [
    "price.ix[1,1]"
   ]
  },
  {
   "cell_type": "code",
   "execution_count": 44,
   "metadata": {},
   "outputs": [
    {
     "data": {
      "text/html": [
       "<div>\n",
       "<style>\n",
       "    .dataframe thead tr:only-child th {\n",
       "        text-align: right;\n",
       "    }\n",
       "\n",
       "    .dataframe thead th {\n",
       "        text-align: left;\n",
       "    }\n",
       "\n",
       "    .dataframe tbody tr th {\n",
       "        vertical-align: top;\n",
       "    }\n",
       "</style>\n",
       "<table border=\"1\" class=\"dataframe\">\n",
       "  <thead>\n",
       "    <tr style=\"text-align: right;\">\n",
       "      <th></th>\n",
       "      <th>close</th>\n",
       "      <th>high</th>\n",
       "      <th>low</th>\n",
       "      <th>open</th>\n",
       "    </tr>\n",
       "  </thead>\n",
       "  <tbody>\n",
       "    <tr>\n",
       "      <th>2018-01-24</th>\n",
       "      <td>764.46</td>\n",
       "      <td>776.46</td>\n",
       "      <td>758.6</td>\n",
       "      <td>776.44</td>\n",
       "    </tr>\n",
       "    <tr>\n",
       "      <th>2018-01-25</th>\n",
       "      <td>769.16</td>\n",
       "      <td>776.00</td>\n",
       "      <td>751.0</td>\n",
       "      <td>761.00</td>\n",
       "    </tr>\n",
       "  </tbody>\n",
       "</table>\n",
       "</div>"
      ],
      "text/plain": [
       "             close    high    low    open\n",
       "2018-01-24  764.46  776.46  758.6  776.44\n",
       "2018-01-25  769.16  776.00  751.0  761.00"
      ]
     },
     "execution_count": 44,
     "metadata": {},
     "output_type": "execute_result"
    }
   ],
   "source": [
    "price.ix['2018-01-24':'2018-01-25']"
   ]
  },
  {
   "cell_type": "code",
   "execution_count": 45,
   "metadata": {},
   "outputs": [
    {
     "data": {
      "text/plain": [
       "776.44000000000005"
      ]
     },
     "execution_count": 45,
     "metadata": {},
     "output_type": "execute_result"
    }
   ],
   "source": [
    "price.ix['2018-01-24','open']"
   ]
  },
  {
   "cell_type": "code",
   "execution_count": 46,
   "metadata": {},
   "outputs": [
    {
     "data": {
      "text/plain": [
       "718.0"
      ]
     },
     "execution_count": 46,
     "metadata": {},
     "output_type": "execute_result"
    }
   ],
   "source": [
    "price.ix[1,'open']"
   ]
  },
  {
   "cell_type": "code",
   "execution_count": 47,
   "metadata": {},
   "outputs": [
    {
     "data": {
      "text/plain": [
       "764.46000000000004"
      ]
     },
     "execution_count": 47,
     "metadata": {},
     "output_type": "execute_result"
    }
   ],
   "source": [
    "price.ix['2018-01-24',0]"
   ]
  },
  {
   "cell_type": "markdown",
   "metadata": {},
   "source": [
    "　　8.通过布尔逻辑指针进行数据切片：<br><br>\n",
    "　　　price[逻辑条件]<br>\n",
    "　　　price[price.one >= 2] #单个逻辑条件<br>\n",
    "　　　price[(price.one >=1 ) & (df.one < 3) ] #多个逻辑条件组合<br>"
   ]
  },
  {
   "cell_type": "code",
   "execution_count": 49,
   "metadata": {},
   "outputs": [
    {
     "data": {
      "text/html": [
       "<div>\n",
       "<style>\n",
       "    .dataframe thead tr:only-child th {\n",
       "        text-align: right;\n",
       "    }\n",
       "\n",
       "    .dataframe thead th {\n",
       "        text-align: left;\n",
       "    }\n",
       "\n",
       "    .dataframe tbody tr th {\n",
       "        vertical-align: top;\n",
       "    }\n",
       "</style>\n",
       "<table border=\"1\" class=\"dataframe\">\n",
       "  <thead>\n",
       "    <tr style=\"text-align: right;\">\n",
       "      <th></th>\n",
       "      <th>close</th>\n",
       "      <th>high</th>\n",
       "      <th>low</th>\n",
       "      <th>open</th>\n",
       "    </tr>\n",
       "  </thead>\n",
       "  <tbody>\n",
       "    <tr>\n",
       "      <th>2018-01-09</th>\n",
       "      <td>782.52</td>\n",
       "      <td>783.00</td>\n",
       "      <td>752.21</td>\n",
       "      <td>752.21</td>\n",
       "    </tr>\n",
       "    <tr>\n",
       "      <th>2018-01-10</th>\n",
       "      <td>785.71</td>\n",
       "      <td>788.88</td>\n",
       "      <td>773.48</td>\n",
       "      <td>785.00</td>\n",
       "    </tr>\n",
       "    <tr>\n",
       "      <th>2018-01-11</th>\n",
       "      <td>774.81</td>\n",
       "      <td>788.00</td>\n",
       "      <td>772.00</td>\n",
       "      <td>787.00</td>\n",
       "    </tr>\n",
       "    <tr>\n",
       "      <th>2018-01-12</th>\n",
       "      <td>788.42</td>\n",
       "      <td>788.80</td>\n",
       "      <td>767.02</td>\n",
       "      <td>773.77</td>\n",
       "    </tr>\n",
       "    <tr>\n",
       "      <th>2018-01-15</th>\n",
       "      <td>785.37</td>\n",
       "      <td>799.06</td>\n",
       "      <td>779.02</td>\n",
       "      <td>793.46</td>\n",
       "    </tr>\n",
       "    <tr>\n",
       "      <th>2018-01-16</th>\n",
       "      <td>772.94</td>\n",
       "      <td>788.61</td>\n",
       "      <td>768.00</td>\n",
       "      <td>780.48</td>\n",
       "    </tr>\n",
       "    <tr>\n",
       "      <th>2018-01-17</th>\n",
       "      <td>747.93</td>\n",
       "      <td>774.00</td>\n",
       "      <td>738.51</td>\n",
       "      <td>770.00</td>\n",
       "    </tr>\n",
       "    <tr>\n",
       "      <th>2018-01-19</th>\n",
       "      <td>750.18</td>\n",
       "      <td>758.90</td>\n",
       "      <td>739.02</td>\n",
       "      <td>752.90</td>\n",
       "    </tr>\n",
       "    <tr>\n",
       "      <th>2018-01-22</th>\n",
       "      <td>773.64</td>\n",
       "      <td>774.00</td>\n",
       "      <td>751.81</td>\n",
       "      <td>751.81</td>\n",
       "    </tr>\n",
       "    <tr>\n",
       "      <th>2018-01-23</th>\n",
       "      <td>773.78</td>\n",
       "      <td>780.00</td>\n",
       "      <td>768.60</td>\n",
       "      <td>777.81</td>\n",
       "    </tr>\n",
       "    <tr>\n",
       "      <th>2018-01-24</th>\n",
       "      <td>764.46</td>\n",
       "      <td>776.46</td>\n",
       "      <td>758.60</td>\n",
       "      <td>776.44</td>\n",
       "    </tr>\n",
       "    <tr>\n",
       "      <th>2018-01-25</th>\n",
       "      <td>769.16</td>\n",
       "      <td>776.00</td>\n",
       "      <td>751.00</td>\n",
       "      <td>761.00</td>\n",
       "    </tr>\n",
       "  </tbody>\n",
       "</table>\n",
       "</div>"
      ],
      "text/plain": [
       "             close    high     low    open\n",
       "2018-01-09  782.52  783.00  752.21  752.21\n",
       "2018-01-10  785.71  788.88  773.48  785.00\n",
       "2018-01-11  774.81  788.00  772.00  787.00\n",
       "2018-01-12  788.42  788.80  767.02  773.77\n",
       "2018-01-15  785.37  799.06  779.02  793.46\n",
       "2018-01-16  772.94  788.61  768.00  780.48\n",
       "2018-01-17  747.93  774.00  738.51  770.00\n",
       "2018-01-19  750.18  758.90  739.02  752.90\n",
       "2018-01-22  773.64  774.00  751.81  751.81\n",
       "2018-01-23  773.78  780.00  768.60  777.81\n",
       "2018-01-24  764.46  776.46  758.60  776.44\n",
       "2018-01-25  769.16  776.00  751.00  761.00"
      ]
     },
     "execution_count": 49,
     "metadata": {},
     "output_type": "execute_result"
    }
   ],
   "source": [
    "#筛选出 open 大于 750的数据\n",
    "price[price.open > 750]"
   ]
  },
  {
   "cell_type": "code",
   "execution_count": 50,
   "metadata": {},
   "outputs": [
    {
     "data": {
      "text/html": [
       "<div>\n",
       "<style>\n",
       "    .dataframe thead tr:only-child th {\n",
       "        text-align: right;\n",
       "    }\n",
       "\n",
       "    .dataframe thead th {\n",
       "        text-align: left;\n",
       "    }\n",
       "\n",
       "    .dataframe tbody tr th {\n",
       "        vertical-align: top;\n",
       "    }\n",
       "</style>\n",
       "<table border=\"1\" class=\"dataframe\">\n",
       "  <thead>\n",
       "    <tr style=\"text-align: right;\">\n",
       "      <th></th>\n",
       "      <th>close</th>\n",
       "      <th>high</th>\n",
       "      <th>low</th>\n",
       "      <th>open</th>\n",
       "    </tr>\n",
       "  </thead>\n",
       "  <tbody>\n",
       "    <tr>\n",
       "      <th>2018-01-17</th>\n",
       "      <td>747.93</td>\n",
       "      <td>774.00</td>\n",
       "      <td>738.51</td>\n",
       "      <td>770.00</td>\n",
       "    </tr>\n",
       "    <tr>\n",
       "      <th>2018-01-19</th>\n",
       "      <td>750.18</td>\n",
       "      <td>758.90</td>\n",
       "      <td>739.02</td>\n",
       "      <td>752.90</td>\n",
       "    </tr>\n",
       "    <tr>\n",
       "      <th>2018-01-24</th>\n",
       "      <td>764.46</td>\n",
       "      <td>776.46</td>\n",
       "      <td>758.60</td>\n",
       "      <td>776.44</td>\n",
       "    </tr>\n",
       "    <tr>\n",
       "      <th>2018-01-25</th>\n",
       "      <td>769.16</td>\n",
       "      <td>776.00</td>\n",
       "      <td>751.00</td>\n",
       "      <td>761.00</td>\n",
       "    </tr>\n",
       "  </tbody>\n",
       "</table>\n",
       "</div>"
      ],
      "text/plain": [
       "             close    high     low    open\n",
       "2018-01-17  747.93  774.00  738.51  770.00\n",
       "2018-01-19  750.18  758.90  739.02  752.90\n",
       "2018-01-24  764.46  776.46  758.60  776.44\n",
       "2018-01-25  769.16  776.00  751.00  761.00"
      ]
     },
     "execution_count": 50,
     "metadata": {},
     "output_type": "execute_result"
    }
   ],
   "source": [
    "#筛选出 open 大于 750 的数据，并且 close 小于 770 的数据\n",
    "price[(price.open > 750) & (price.close < 770)]"
   ]
  },
  {
   "cell_type": "markdown",
   "metadata": {},
   "source": [
    "### 3.2.4修改方法"
   ]
  },
  {
   "cell_type": "markdown",
   "metadata": {},
   "source": [
    "Pandas提供了大量的方法能够轻松的对Series，DataFrame和Panel对象进行各种符合各种逻辑关系的合并操作，主要介绍三个常用操作。\n",
    "  \n",
    "|操作方式|释义|\n",
    "|---|---|\n",
    "|concat |沿一条轴将多个对象堆叠到一起。\n",
    "|append |将一行连接到一个DataFrame上\n",
    "|duplicated |移除重复数据"
   ]
  },
  {
   "cell_type": "markdown",
   "metadata": {},
   "source": [
    "* **concat**  \n",
    "首先我们获取两个DataFrame。"
   ]
  },
  {
   "cell_type": "code",
   "execution_count": 62,
   "metadata": {},
   "outputs": [
    {
     "ename": "NameError",
     "evalue": "name 'get_price' is not defined",
     "output_type": "error",
     "traceback": [
      "\u001b[0;31m---------------------------------------------------------------------------\u001b[0m",
      "\u001b[0;31mNameError\u001b[0m                                 Traceback (most recent call last)",
      "Input \u001b[0;32mIn [62]\u001b[0m, in \u001b[0;36m<cell line: 2>\u001b[0;34m()\u001b[0m\n\u001b[1;32m      1\u001b[0m \u001b[38;5;66;03m# 获取招商银行20180125日的前5个工作日的开盘价、最高价、最低价、收盘价。\u001b[39;00m\n\u001b[0;32m----> 2\u001b[0m price1\u001b[38;5;241m=\u001b[39m \u001b[43mget_price\u001b[49m(\u001b[38;5;124m'\u001b[39m\u001b[38;5;124m600036.SH\u001b[39m\u001b[38;5;124m'\u001b[39m, \u001b[38;5;28;01mNone\u001b[39;00m, \u001b[38;5;124m'\u001b[39m\u001b[38;5;124m20180125\u001b[39m\u001b[38;5;124m'\u001b[39m, \u001b[38;5;124m'\u001b[39m\u001b[38;5;124m1d\u001b[39m\u001b[38;5;124m'\u001b[39m, [\u001b[38;5;124m'\u001b[39m\u001b[38;5;124mopen\u001b[39m\u001b[38;5;124m'\u001b[39m, \u001b[38;5;124m'\u001b[39m\u001b[38;5;124mhigh\u001b[39m\u001b[38;5;124m'\u001b[39m, \u001b[38;5;124m'\u001b[39m\u001b[38;5;124mlow\u001b[39m\u001b[38;5;124m'\u001b[39m, \u001b[38;5;124m'\u001b[39m\u001b[38;5;124mclose\u001b[39m\u001b[38;5;124m'\u001b[39m], \u001b[38;5;28;01mFalse\u001b[39;00m, \u001b[38;5;124m'\u001b[39m\u001b[38;5;124mpre\u001b[39m\u001b[38;5;124m'\u001b[39m, \u001b[38;5;241m5\u001b[39m, is_panel\u001b[38;5;241m=\u001b[39m\u001b[38;5;241m1\u001b[39m)\n\u001b[1;32m      3\u001b[0m price1\n",
      "\u001b[0;31mNameError\u001b[0m: name 'get_price' is not defined"
     ]
    }
   ],
   "source": [
    "# 获取招商银行20180125日的前5个工作日的开盘价、最高价、最低价、收盘价。\n",
    "price1= get_price('600036.SH', None, '20180125', '1d', ['open', 'high', 'low', 'close'], False, 'pre', 5, is_panel=1)\n",
    "price1"
   ]
  },
  {
   "cell_type": "code",
   "execution_count": null,
   "metadata": {},
   "outputs": [],
   "source": [
    "# 获取招商银行20170125日的前5个工作日的开盘价、最高价、最低价、收盘价。\n",
    "price2= get_price('600036.SH', None, '20170125', '1d', ['open', 'high', 'low', 'close'], False, 'pre', 5, is_panel=1)\n",
    "price2"
   ]
  },
  {
   "cell_type": "markdown",
   "metadata": {},
   "source": [
    "　　纵向拼接(默认)："
   ]
  },
  {
   "cell_type": "code",
   "execution_count": null,
   "metadata": {},
   "outputs": [],
   "source": [
    "pd.concat([price1,price2],axis=0)"
   ]
  },
  {
   "cell_type": "markdown",
   "metadata": {},
   "source": [
    "　　横向拼接，index对不上的会用 NaN 填充:"
   ]
  },
  {
   "cell_type": "code",
   "execution_count": 61,
   "metadata": {
    "collapsed": true,
    "jupyter": {
     "outputs_hidden": true
    }
   },
   "outputs": [
    {
     "ename": "SyntaxError",
     "evalue": "invalid non-printable character U+3000 (619692136.py, line 3)",
     "output_type": "error",
     "traceback": [
      "\u001b[0;36m  Input \u001b[0;32mIn [61]\u001b[0;36m\u001b[0m\n\u001b[0;31m    \u001b[0m\n\u001b[0m    ^\u001b[0m\n\u001b[0;31mSyntaxError\u001b[0m\u001b[0;31m:\u001b[0m invalid non-printable character U+3000\n"
     ]
    }
   ],
   "source": [
    "pd.concat([price1,price2],axis=1)"
   ]
  },
  {
   "cell_type": "markdown",
   "metadata": {},
   "source": [
    "* **append**<br>\n",
    "首先获取数据"
   ]
  },
  {
   "cell_type": "code",
   "execution_count": null,
   "metadata": {},
   "outputs": [],
   "source": [
    "# 获取招商银行20180125日的前5个工作日的开盘价、最高价、最低价、收盘价。\n",
    "price= get_price('600036.SH', None, '20180125', '1d', ['open', 'high', 'low', 'close'], False, 'pre', 5, is_panel=1)\n",
    "price\n",
    "\n",
    "s = price.iloc[0]\n",
    "print(s)\n",
    "\n",
    "price.append(s, ignore_index=False) # ignore_index=False 表示索引不变\n",
    "\n",
    "price.append(s, ignore_index=True) # ignore_index=True 表示索引重置"
   ]
  },
  {
   "cell_type": "markdown",
   "metadata": {},
   "source": [
    "* **移除重复数据duplicated**"
   ]
  },
  {
   "cell_type": "code",
   "execution_count": null,
   "metadata": {},
   "outputs": [],
   "source": [
    "price2=price.append(s, ignore_index=False) # ignore_index=False 表示索引不变\n",
    "price2"
   ]
  },
  {
   "cell_type": "markdown",
   "metadata": {},
   "source": [
    "　　查看重复数据："
   ]
  },
  {
   "cell_type": "code",
   "execution_count": null,
   "metadata": {},
   "outputs": [],
   "source": [
    "price2.duplicated()"
   ]
  },
  {
   "cell_type": "markdown",
   "metadata": {},
   "source": [
    "　　移除重复数据："
   ]
  },
  {
   "cell_type": "code",
   "execution_count": null,
   "metadata": {},
   "outputs": [],
   "source": [
    "price2.drop_duplicates()"
   ]
  },
  {
   "cell_type": "markdown",
   "metadata": {},
   "source": [
    "　　可以看到'2018-01-19'的重复行被删除了"
   ]
  },
  {
   "cell_type": "markdown",
   "metadata": {},
   "source": [
    "* **按股票代码分组计算收盘价的均值**"
   ]
  },
  {
   "cell_type": "code",
   "execution_count": null,
   "metadata": {},
   "outputs": [],
   "source": [
    "data = get_price(['000001.SZ','600519.SH'], '20190301', '20190311', '1d', \n",
    "                 ['close', 'turnover'], True, None, 0, is_panel=1)\n",
    "df = data.to_frame().reset_index()\n",
    "df"
   ]
  },
  {
   "cell_type": "code",
   "execution_count": null,
   "metadata": {},
   "outputs": [],
   "source": [
    "df.columns = ['date', 'symbol', 'close', 'turnover']\n",
    "df.groupby(['symbol'])['close'].mean()"
   ]
  },
  {
   "cell_type": "markdown",
   "metadata": {},
   "source": [
    "##  3.3Panel\n",
    "[返回目录](#目录)\n",
    "运用同花顺量化交易平台的get_price函数时，如果是获取多支股票数据, 则返回pandas.Panel对象。\n",
    "panel其实就是一张一张DataFrame的集合。"
   ]
  },
  {
   "cell_type": "code",
   "execution_count": 72,
   "metadata": {
    "scrolled": true
   },
   "outputs": [
    {
     "name": "stdout",
     "output_type": "stream",
     "text": [
      "<class 'pandas.core.panel.Panel'>\n",
      "Dimensions: 4 (items) x 20 (major_axis) x 3 (minor_axis)\n",
      "Items axis: close to open\n",
      "Major_axis axis: 2017-12-28 00:00:00 to 2018-01-25 00:00:00\n",
      "Minor_axis axis: 600030.SH to 600519.SH\n"
     ]
    }
   ],
   "source": [
    "# 获取贵州茅台，招商银行，中信证券这三只股票近10个工作日的开盘价、最高价、最低价、收盘价，获取格式即为DataFrame\n",
    "price= get_price(['600519.SH','600036.SH','600030.SH'], \n",
    "                 None, \n",
    "                 '20180125', '1d', \n",
    "                 ['open', 'high', 'low', 'close'], \n",
    "                 False, 'pre', 20,is_panel=1)\n",
    "print(price)"
   ]
  },
  {
   "cell_type": "markdown",
   "metadata": {},
   "source": [
    "注意：现在这个price不是一张DataFrame，而是四个对应字段的DataFrame了，那么我们需要通过数据字段下标，来分别获取多张DataFrame，之后的操作就是操作单张DataFrame了。"
   ]
  },
  {
   "cell_type": "code",
   "execution_count": 73,
   "metadata": {
    "scrolled": true
   },
   "outputs": [
    {
     "data": {
      "text/html": [
       "<div>\n",
       "<style>\n",
       "    .dataframe thead tr:only-child th {\n",
       "        text-align: right;\n",
       "    }\n",
       "\n",
       "    .dataframe thead th {\n",
       "        text-align: left;\n",
       "    }\n",
       "\n",
       "    .dataframe tbody tr th {\n",
       "        vertical-align: top;\n",
       "    }\n",
       "</style>\n",
       "<table border=\"1\" class=\"dataframe\">\n",
       "  <thead>\n",
       "    <tr style=\"text-align: right;\">\n",
       "      <th></th>\n",
       "      <th>600030.SH</th>\n",
       "      <th>600036.SH</th>\n",
       "      <th>600519.SH</th>\n",
       "    </tr>\n",
       "  </thead>\n",
       "  <tbody>\n",
       "    <tr>\n",
       "      <th>2017-12-28</th>\n",
       "      <td>18.12</td>\n",
       "      <td>28.63</td>\n",
       "      <td>718.69</td>\n",
       "    </tr>\n",
       "    <tr>\n",
       "      <th>2017-12-29</th>\n",
       "      <td>18.10</td>\n",
       "      <td>29.02</td>\n",
       "      <td>697.49</td>\n",
       "    </tr>\n",
       "    <tr>\n",
       "      <th>2018-01-02</th>\n",
       "      <td>18.44</td>\n",
       "      <td>29.62</td>\n",
       "      <td>703.85</td>\n",
       "    </tr>\n",
       "    <tr>\n",
       "      <th>2018-01-03</th>\n",
       "      <td>18.61</td>\n",
       "      <td>29.97</td>\n",
       "      <td>715.86</td>\n",
       "    </tr>\n",
       "    <tr>\n",
       "      <th>2018-01-04</th>\n",
       "      <td>18.67</td>\n",
       "      <td>29.65</td>\n",
       "      <td>737.07</td>\n",
       "    </tr>\n",
       "    <tr>\n",
       "      <th>2018-01-05</th>\n",
       "      <td>18.88</td>\n",
       "      <td>30.10</td>\n",
       "      <td>738.36</td>\n",
       "    </tr>\n",
       "    <tr>\n",
       "      <th>2018-01-08</th>\n",
       "      <td>19.54</td>\n",
       "      <td>29.47</td>\n",
       "      <td>752.13</td>\n",
       "    </tr>\n",
       "    <tr>\n",
       "      <th>2018-01-09</th>\n",
       "      <td>19.44</td>\n",
       "      <td>29.77</td>\n",
       "      <td>782.52</td>\n",
       "    </tr>\n",
       "    <tr>\n",
       "      <th>2018-01-10</th>\n",
       "      <td>19.61</td>\n",
       "      <td>30.53</td>\n",
       "      <td>785.71</td>\n",
       "    </tr>\n",
       "    <tr>\n",
       "      <th>2018-01-11</th>\n",
       "      <td>19.28</td>\n",
       "      <td>30.92</td>\n",
       "      <td>774.81</td>\n",
       "    </tr>\n",
       "    <tr>\n",
       "      <th>2018-01-12</th>\n",
       "      <td>19.33</td>\n",
       "      <td>31.51</td>\n",
       "      <td>788.42</td>\n",
       "    </tr>\n",
       "    <tr>\n",
       "      <th>2018-01-15</th>\n",
       "      <td>19.45</td>\n",
       "      <td>31.94</td>\n",
       "      <td>785.37</td>\n",
       "    </tr>\n",
       "    <tr>\n",
       "      <th>2018-01-16</th>\n",
       "      <td>20.25</td>\n",
       "      <td>31.89</td>\n",
       "      <td>772.94</td>\n",
       "    </tr>\n",
       "    <tr>\n",
       "      <th>2018-01-17</th>\n",
       "      <td>20.94</td>\n",
       "      <td>31.69</td>\n",
       "      <td>747.93</td>\n",
       "    </tr>\n",
       "    <tr>\n",
       "      <th>2018-01-18</th>\n",
       "      <td>21.41</td>\n",
       "      <td>32.32</td>\n",
       "      <td>750.74</td>\n",
       "    </tr>\n",
       "    <tr>\n",
       "      <th>2018-01-19</th>\n",
       "      <td>21.29</td>\n",
       "      <td>32.46</td>\n",
       "      <td>750.18</td>\n",
       "    </tr>\n",
       "    <tr>\n",
       "      <th>2018-01-22</th>\n",
       "      <td>21.20</td>\n",
       "      <td>33.08</td>\n",
       "      <td>773.64</td>\n",
       "    </tr>\n",
       "    <tr>\n",
       "      <th>2018-01-23</th>\n",
       "      <td>21.21</td>\n",
       "      <td>34.05</td>\n",
       "      <td>773.78</td>\n",
       "    </tr>\n",
       "    <tr>\n",
       "      <th>2018-01-24</th>\n",
       "      <td>22.92</td>\n",
       "      <td>33.85</td>\n",
       "      <td>764.46</td>\n",
       "    </tr>\n",
       "    <tr>\n",
       "      <th>2018-01-25</th>\n",
       "      <td>22.33</td>\n",
       "      <td>33.41</td>\n",
       "      <td>769.16</td>\n",
       "    </tr>\n",
       "  </tbody>\n",
       "</table>\n",
       "</div>"
      ],
      "text/plain": [
       "            600030.SH  600036.SH  600519.SH\n",
       "2017-12-28      18.12      28.63     718.69\n",
       "2017-12-29      18.10      29.02     697.49\n",
       "2018-01-02      18.44      29.62     703.85\n",
       "2018-01-03      18.61      29.97     715.86\n",
       "2018-01-04      18.67      29.65     737.07\n",
       "2018-01-05      18.88      30.10     738.36\n",
       "2018-01-08      19.54      29.47     752.13\n",
       "2018-01-09      19.44      29.77     782.52\n",
       "2018-01-10      19.61      30.53     785.71\n",
       "2018-01-11      19.28      30.92     774.81\n",
       "2018-01-12      19.33      31.51     788.42\n",
       "2018-01-15      19.45      31.94     785.37\n",
       "2018-01-16      20.25      31.89     772.94\n",
       "2018-01-17      20.94      31.69     747.93\n",
       "2018-01-18      21.41      32.32     750.74\n",
       "2018-01-19      21.29      32.46     750.18\n",
       "2018-01-22      21.20      33.08     773.64\n",
       "2018-01-23      21.21      34.05     773.78\n",
       "2018-01-24      22.92      33.85     764.46\n",
       "2018-01-25      22.33      33.41     769.16"
      ]
     },
     "execution_count": 73,
     "metadata": {},
     "output_type": "execute_result"
    }
   ],
   "source": [
    "price['close'] # 获取三个股票的收盘价，注意获取后是一张DataFrame"
   ]
  },
  {
   "cell_type": "code",
   "execution_count": 75,
   "metadata": {
    "collapsed": true,
    "jupyter": {
     "outputs_hidden": true
    }
   },
   "outputs": [
    {
     "name": "stdout",
     "output_type": "stream",
     "text": [
      "            600030.SH  600036.SH  600519.SH\n",
      "2017-12-28      18.06      28.75     687.00\n",
      "2017-12-29      18.12      28.63     718.00\n",
      "2018-01-02      18.13      29.02     700.00\n",
      "2018-01-03      18.36      29.74     701.50\n",
      "2018-01-04      18.64      30.28     721.40\n",
      "2018-01-05      18.68      29.87     741.00\n",
      "2018-01-08      19.00      29.92     735.02\n",
      "2018-01-09      19.55      29.52     752.21\n",
      "2018-01-10      19.47      29.66     785.00\n",
      "2018-01-11      19.46      30.52     787.00\n",
      "2018-01-12      19.25      31.12     773.77\n",
      "2018-01-15      19.25      31.48     793.46\n",
      "2018-01-16      19.26      31.80     780.48\n",
      "2018-01-17      20.50      32.10     770.00\n",
      "2018-01-18      21.15      32.10     747.93\n",
      "2018-01-19      21.36      32.66     752.90\n",
      "2018-01-22      21.10      32.18     751.81\n",
      "2018-01-23      21.37      33.20     777.81\n",
      "2018-01-24      21.40      34.25     776.44\n",
      "2018-01-25      22.50      34.01     761.00\n"
     ]
    }
   ],
   "source": [
    "print(price['open'])#获取开盘价股票数据，注意获取的还是DataFrame"
   ]
  },
  {
   "cell_type": "code",
   "execution_count": 59,
   "metadata": {
    "collapsed": true,
    "jupyter": {
     "outputs_hidden": true
    }
   },
   "outputs": [
    {
     "ename": "KeyError",
     "evalue": "'2018-01-11'",
     "output_type": "error",
     "traceback": [
      "\u001b[0;31m---------------------------------------------------------------------------\u001b[0m",
      "\u001b[0;31mKeyError\u001b[0m                                  Traceback (most recent call last)",
      "\u001b[0;32m/opt/conda/lib/python3.5/site-packages/pandas/core/indexes/base.py\u001b[0m in \u001b[0;36mget_loc\u001b[0;34m(self, key, method, tolerance)\u001b[0m\n\u001b[1;32m   2392\u001b[0m             \u001b[0;32mtry\u001b[0m\u001b[0;34m:\u001b[0m\u001b[0;34m\u001b[0m\u001b[0m\n\u001b[0;32m-> 2393\u001b[0;31m                 \u001b[0;32mreturn\u001b[0m \u001b[0mself\u001b[0m\u001b[0;34m.\u001b[0m\u001b[0m_engine\u001b[0m\u001b[0;34m.\u001b[0m\u001b[0mget_loc\u001b[0m\u001b[0;34m(\u001b[0m\u001b[0mkey\u001b[0m\u001b[0;34m)\u001b[0m\u001b[0;34m\u001b[0m\u001b[0m\n\u001b[0m\u001b[1;32m   2394\u001b[0m             \u001b[0;32mexcept\u001b[0m \u001b[0mKeyError\u001b[0m\u001b[0;34m:\u001b[0m\u001b[0;34m\u001b[0m\u001b[0m\n",
      "\u001b[0;32mpandas/_libs/index.pyx\u001b[0m in \u001b[0;36mpandas._libs.index.IndexEngine.get_loc (pandas/_libs/index.c:5239)\u001b[0;34m()\u001b[0m\n",
      "\u001b[0;32mpandas/_libs/index.pyx\u001b[0m in \u001b[0;36mpandas._libs.index.IndexEngine.get_loc (pandas/_libs/index.c:5085)\u001b[0;34m()\u001b[0m\n",
      "\u001b[0;32mpandas/_libs/hashtable_class_helper.pxi\u001b[0m in \u001b[0;36mpandas._libs.hashtable.PyObjectHashTable.get_item (pandas/_libs/hashtable.c:20405)\u001b[0;34m()\u001b[0m\n",
      "\u001b[0;32mpandas/_libs/hashtable_class_helper.pxi\u001b[0m in \u001b[0;36mpandas._libs.hashtable.PyObjectHashTable.get_item (pandas/_libs/hashtable.c:20359)\u001b[0;34m()\u001b[0m\n",
      "\u001b[0;31mKeyError\u001b[0m: '2018-01-11'",
      "\nDuring handling of the above exception, another exception occurred:\n",
      "\u001b[0;31mKeyError\u001b[0m                                  Traceback (most recent call last)",
      "\u001b[0;32m<ipython-input-59-dddd7b500893>\u001b[0m in \u001b[0;36m<module>\u001b[0;34m()\u001b[0m\n\u001b[0;32m----> 1\u001b[0;31m \u001b[0mprice\u001b[0m\u001b[0;34m[\u001b[0m\u001b[0;34m'2018-01-11'\u001b[0m\u001b[0;34m]\u001b[0m\u001b[0;31m#获取2018-01-11日期的三个股票的数据\u001b[0m\u001b[0;34m\u001b[0m\u001b[0m\n\u001b[0m",
      "\u001b[0;32m/opt/conda/lib/python3.5/site-packages/pandas/core/panel.py\u001b[0m in \u001b[0;36m__getitem__\u001b[0;34m(self, key)\u001b[0m\n\u001b[1;32m    284\u001b[0m             \u001b[0;32mreturn\u001b[0m \u001b[0mself\u001b[0m\u001b[0;34m.\u001b[0m\u001b[0m_getitem_multilevel\u001b[0m\u001b[0;34m(\u001b[0m\u001b[0mkey\u001b[0m\u001b[0;34m)\u001b[0m\u001b[0;34m\u001b[0m\u001b[0m\n\u001b[1;32m    285\u001b[0m         \u001b[0;32mif\u001b[0m \u001b[0;32mnot\u001b[0m \u001b[0;34m(\u001b[0m\u001b[0mis_list_like\u001b[0m\u001b[0;34m(\u001b[0m\u001b[0mkey\u001b[0m\u001b[0;34m)\u001b[0m \u001b[0;32mor\u001b[0m \u001b[0misinstance\u001b[0m\u001b[0;34m(\u001b[0m\u001b[0mkey\u001b[0m\u001b[0;34m,\u001b[0m \u001b[0mslice\u001b[0m\u001b[0;34m)\u001b[0m\u001b[0;34m)\u001b[0m\u001b[0;34m:\u001b[0m\u001b[0;34m\u001b[0m\u001b[0m\n\u001b[0;32m--> 286\u001b[0;31m             \u001b[0;32mreturn\u001b[0m \u001b[0msuper\u001b[0m\u001b[0;34m(\u001b[0m\u001b[0mPanel\u001b[0m\u001b[0;34m,\u001b[0m \u001b[0mself\u001b[0m\u001b[0;34m)\u001b[0m\u001b[0;34m.\u001b[0m\u001b[0m__getitem__\u001b[0m\u001b[0;34m(\u001b[0m\u001b[0mkey\u001b[0m\u001b[0;34m)\u001b[0m\u001b[0;34m\u001b[0m\u001b[0m\n\u001b[0m\u001b[1;32m    287\u001b[0m         \u001b[0;32mreturn\u001b[0m \u001b[0mself\u001b[0m\u001b[0;34m.\u001b[0m\u001b[0mloc\u001b[0m\u001b[0;34m[\u001b[0m\u001b[0mkey\u001b[0m\u001b[0;34m]\u001b[0m\u001b[0;34m\u001b[0m\u001b[0m\n\u001b[1;32m    288\u001b[0m \u001b[0;34m\u001b[0m\u001b[0m\n",
      "\u001b[0;32m/opt/conda/lib/python3.5/site-packages/pandas/core/generic.py\u001b[0m in \u001b[0;36m__getitem__\u001b[0;34m(self, item)\u001b[0m\n\u001b[1;32m   1525\u001b[0m \u001b[0;34m\u001b[0m\u001b[0m\n\u001b[1;32m   1526\u001b[0m     \u001b[0;32mdef\u001b[0m \u001b[0m__getitem__\u001b[0m\u001b[0;34m(\u001b[0m\u001b[0mself\u001b[0m\u001b[0;34m,\u001b[0m \u001b[0mitem\u001b[0m\u001b[0;34m)\u001b[0m\u001b[0;34m:\u001b[0m\u001b[0;34m\u001b[0m\u001b[0m\n\u001b[0;32m-> 1527\u001b[0;31m         \u001b[0;32mreturn\u001b[0m \u001b[0mself\u001b[0m\u001b[0;34m.\u001b[0m\u001b[0m_get_item_cache\u001b[0m\u001b[0;34m(\u001b[0m\u001b[0mitem\u001b[0m\u001b[0;34m)\u001b[0m\u001b[0;34m\u001b[0m\u001b[0m\n\u001b[0m\u001b[1;32m   1528\u001b[0m \u001b[0;34m\u001b[0m\u001b[0m\n\u001b[1;32m   1529\u001b[0m     \u001b[0;32mdef\u001b[0m \u001b[0m_get_item_cache\u001b[0m\u001b[0;34m(\u001b[0m\u001b[0mself\u001b[0m\u001b[0;34m,\u001b[0m \u001b[0mitem\u001b[0m\u001b[0;34m)\u001b[0m\u001b[0;34m:\u001b[0m\u001b[0;34m\u001b[0m\u001b[0m\n",
      "\u001b[0;32m/opt/conda/lib/python3.5/site-packages/pandas/core/generic.py\u001b[0m in \u001b[0;36m_get_item_cache\u001b[0;34m(self, item)\u001b[0m\n\u001b[1;32m   1532\u001b[0m         \u001b[0mres\u001b[0m \u001b[0;34m=\u001b[0m \u001b[0mcache\u001b[0m\u001b[0;34m.\u001b[0m\u001b[0mget\u001b[0m\u001b[0;34m(\u001b[0m\u001b[0mitem\u001b[0m\u001b[0;34m)\u001b[0m\u001b[0;34m\u001b[0m\u001b[0m\n\u001b[1;32m   1533\u001b[0m         \u001b[0;32mif\u001b[0m \u001b[0mres\u001b[0m \u001b[0;32mis\u001b[0m \u001b[0;32mNone\u001b[0m\u001b[0;34m:\u001b[0m\u001b[0;34m\u001b[0m\u001b[0m\n\u001b[0;32m-> 1534\u001b[0;31m             \u001b[0mvalues\u001b[0m \u001b[0;34m=\u001b[0m \u001b[0mself\u001b[0m\u001b[0;34m.\u001b[0m\u001b[0m_data\u001b[0m\u001b[0;34m.\u001b[0m\u001b[0mget\u001b[0m\u001b[0;34m(\u001b[0m\u001b[0mitem\u001b[0m\u001b[0;34m)\u001b[0m\u001b[0;34m\u001b[0m\u001b[0m\n\u001b[0m\u001b[1;32m   1535\u001b[0m             \u001b[0mres\u001b[0m \u001b[0;34m=\u001b[0m \u001b[0mself\u001b[0m\u001b[0;34m.\u001b[0m\u001b[0m_box_item_values\u001b[0m\u001b[0;34m(\u001b[0m\u001b[0mitem\u001b[0m\u001b[0;34m,\u001b[0m \u001b[0mvalues\u001b[0m\u001b[0;34m)\u001b[0m\u001b[0;34m\u001b[0m\u001b[0m\n\u001b[1;32m   1536\u001b[0m             \u001b[0mcache\u001b[0m\u001b[0;34m[\u001b[0m\u001b[0mitem\u001b[0m\u001b[0;34m]\u001b[0m \u001b[0;34m=\u001b[0m \u001b[0mres\u001b[0m\u001b[0;34m\u001b[0m\u001b[0m\n",
      "\u001b[0;32m/opt/conda/lib/python3.5/site-packages/pandas/core/internals.py\u001b[0m in \u001b[0;36mget\u001b[0;34m(self, item, fastpath)\u001b[0m\n\u001b[1;32m   3588\u001b[0m \u001b[0;34m\u001b[0m\u001b[0m\n\u001b[1;32m   3589\u001b[0m             \u001b[0;32mif\u001b[0m \u001b[0;32mnot\u001b[0m \u001b[0misnull\u001b[0m\u001b[0;34m(\u001b[0m\u001b[0mitem\u001b[0m\u001b[0;34m)\u001b[0m\u001b[0;34m:\u001b[0m\u001b[0;34m\u001b[0m\u001b[0m\n\u001b[0;32m-> 3590\u001b[0;31m                 \u001b[0mloc\u001b[0m \u001b[0;34m=\u001b[0m \u001b[0mself\u001b[0m\u001b[0;34m.\u001b[0m\u001b[0mitems\u001b[0m\u001b[0;34m.\u001b[0m\u001b[0mget_loc\u001b[0m\u001b[0;34m(\u001b[0m\u001b[0mitem\u001b[0m\u001b[0;34m)\u001b[0m\u001b[0;34m\u001b[0m\u001b[0m\n\u001b[0m\u001b[1;32m   3591\u001b[0m             \u001b[0;32melse\u001b[0m\u001b[0;34m:\u001b[0m\u001b[0;34m\u001b[0m\u001b[0m\n\u001b[1;32m   3592\u001b[0m                 \u001b[0mindexer\u001b[0m \u001b[0;34m=\u001b[0m \u001b[0mnp\u001b[0m\u001b[0;34m.\u001b[0m\u001b[0marange\u001b[0m\u001b[0;34m(\u001b[0m\u001b[0mlen\u001b[0m\u001b[0;34m(\u001b[0m\u001b[0mself\u001b[0m\u001b[0;34m.\u001b[0m\u001b[0mitems\u001b[0m\u001b[0;34m)\u001b[0m\u001b[0;34m)\u001b[0m\u001b[0;34m[\u001b[0m\u001b[0misnull\u001b[0m\u001b[0;34m(\u001b[0m\u001b[0mself\u001b[0m\u001b[0;34m.\u001b[0m\u001b[0mitems\u001b[0m\u001b[0;34m)\u001b[0m\u001b[0;34m]\u001b[0m\u001b[0;34m\u001b[0m\u001b[0m\n",
      "\u001b[0;32m/opt/conda/lib/python3.5/site-packages/pandas/core/indexes/base.py\u001b[0m in \u001b[0;36mget_loc\u001b[0;34m(self, key, method, tolerance)\u001b[0m\n\u001b[1;32m   2393\u001b[0m                 \u001b[0;32mreturn\u001b[0m \u001b[0mself\u001b[0m\u001b[0;34m.\u001b[0m\u001b[0m_engine\u001b[0m\u001b[0;34m.\u001b[0m\u001b[0mget_loc\u001b[0m\u001b[0;34m(\u001b[0m\u001b[0mkey\u001b[0m\u001b[0;34m)\u001b[0m\u001b[0;34m\u001b[0m\u001b[0m\n\u001b[1;32m   2394\u001b[0m             \u001b[0;32mexcept\u001b[0m \u001b[0mKeyError\u001b[0m\u001b[0;34m:\u001b[0m\u001b[0;34m\u001b[0m\u001b[0m\n\u001b[0;32m-> 2395\u001b[0;31m                 \u001b[0;32mreturn\u001b[0m \u001b[0mself\u001b[0m\u001b[0;34m.\u001b[0m\u001b[0m_engine\u001b[0m\u001b[0;34m.\u001b[0m\u001b[0mget_loc\u001b[0m\u001b[0;34m(\u001b[0m\u001b[0mself\u001b[0m\u001b[0;34m.\u001b[0m\u001b[0m_maybe_cast_indexer\u001b[0m\u001b[0;34m(\u001b[0m\u001b[0mkey\u001b[0m\u001b[0;34m)\u001b[0m\u001b[0;34m)\u001b[0m\u001b[0;34m\u001b[0m\u001b[0m\n\u001b[0m\u001b[1;32m   2396\u001b[0m \u001b[0;34m\u001b[0m\u001b[0m\n\u001b[1;32m   2397\u001b[0m         \u001b[0mindexer\u001b[0m \u001b[0;34m=\u001b[0m \u001b[0mself\u001b[0m\u001b[0;34m.\u001b[0m\u001b[0mget_indexer\u001b[0m\u001b[0;34m(\u001b[0m\u001b[0;34m[\u001b[0m\u001b[0mkey\u001b[0m\u001b[0;34m]\u001b[0m\u001b[0;34m,\u001b[0m \u001b[0mmethod\u001b[0m\u001b[0;34m=\u001b[0m\u001b[0mmethod\u001b[0m\u001b[0;34m,\u001b[0m \u001b[0mtolerance\u001b[0m\u001b[0;34m=\u001b[0m\u001b[0mtolerance\u001b[0m\u001b[0;34m)\u001b[0m\u001b[0;34m\u001b[0m\u001b[0m\n",
      "\u001b[0;32mpandas/_libs/index.pyx\u001b[0m in \u001b[0;36mpandas._libs.index.IndexEngine.get_loc (pandas/_libs/index.c:5239)\u001b[0;34m()\u001b[0m\n",
      "\u001b[0;32mpandas/_libs/index.pyx\u001b[0m in \u001b[0;36mpandas._libs.index.IndexEngine.get_loc (pandas/_libs/index.c:5085)\u001b[0;34m()\u001b[0m\n",
      "\u001b[0;32mpandas/_libs/hashtable_class_helper.pxi\u001b[0m in \u001b[0;36mpandas._libs.hashtable.PyObjectHashTable.get_item (pandas/_libs/hashtable.c:20405)\u001b[0;34m()\u001b[0m\n",
      "\u001b[0;32mpandas/_libs/hashtable_class_helper.pxi\u001b[0m in \u001b[0;36mpandas._libs.hashtable.PyObjectHashTable.get_item (pandas/_libs/hashtable.c:20359)\u001b[0;34m()\u001b[0m\n",
      "\u001b[0;31mKeyError\u001b[0m: '2018-01-11'"
     ]
    }
   ],
   "source": [
    "price['2018-01-11']#获取2018-01-11日期的三个股票的数据"
   ]
  },
  {
   "cell_type": "markdown",
   "metadata": {},
   "source": [
    "　　注意这是不可行的，思考下为什么无法指定日期？"
   ]
  },
  {
   "cell_type": "markdown",
   "metadata": {},
   "source": [
    "## 3.4导入导出数据\n",
    "[返回目录](#目录)\n",
    "比较常用的是可以使用 to_csv() 方法将 DataFrame 存储为 csv 文件："
   ]
  },
  {
   "cell_type": "code",
   "execution_count": 74,
   "metadata": {},
   "outputs": [],
   "source": [
    "df.to_csv('foo.csv')"
   ]
  },
  {
   "cell_type": "code",
   "execution_count": 75,
   "metadata": {},
   "outputs": [
    {
     "data": {
      "text/html": [
       "<div>\n",
       "<style scoped>\n",
       "    .dataframe tbody tr th:only-of-type {\n",
       "        vertical-align: middle;\n",
       "    }\n",
       "\n",
       "    .dataframe tbody tr th {\n",
       "        vertical-align: top;\n",
       "    }\n",
       "\n",
       "    .dataframe thead th {\n",
       "        text-align: right;\n",
       "    }\n",
       "</style>\n",
       "<table border=\"1\" class=\"dataframe\">\n",
       "  <thead>\n",
       "    <tr style=\"text-align: right;\">\n",
       "      <th></th>\n",
       "      <th>Unnamed: 0</th>\n",
       "      <th>A</th>\n",
       "      <th>B</th>\n",
       "      <th>C</th>\n",
       "      <th>D</th>\n",
       "    </tr>\n",
       "  </thead>\n",
       "  <tbody>\n",
       "    <tr>\n",
       "      <th>0</th>\n",
       "      <td>0</td>\n",
       "      <td>0.944568</td>\n",
       "      <td>-1.152372</td>\n",
       "      <td>-3.140433</td>\n",
       "      <td>0.529977</td>\n",
       "    </tr>\n",
       "    <tr>\n",
       "      <th>1</th>\n",
       "      <td>1</td>\n",
       "      <td>-0.920923</td>\n",
       "      <td>1.012139</td>\n",
       "      <td>-0.416236</td>\n",
       "      <td>0.057745</td>\n",
       "    </tr>\n",
       "    <tr>\n",
       "      <th>2</th>\n",
       "      <td>2</td>\n",
       "      <td>0.675594</td>\n",
       "      <td>0.112704</td>\n",
       "      <td>-1.542468</td>\n",
       "      <td>-0.646986</td>\n",
       "    </tr>\n",
       "    <tr>\n",
       "      <th>3</th>\n",
       "      <td>3</td>\n",
       "      <td>0.606981</td>\n",
       "      <td>-0.037985</td>\n",
       "      <td>0.313171</td>\n",
       "      <td>-0.735550</td>\n",
       "    </tr>\n",
       "    <tr>\n",
       "      <th>4</th>\n",
       "      <td>4</td>\n",
       "      <td>-0.879359</td>\n",
       "      <td>-0.163424</td>\n",
       "      <td>-0.917578</td>\n",
       "      <td>-0.142147</td>\n",
       "    </tr>\n",
       "  </tbody>\n",
       "</table>\n",
       "</div>"
      ],
      "text/plain": [
       "   Unnamed: 0         A         B         C         D\n",
       "0           0  0.944568 -1.152372 -3.140433  0.529977\n",
       "1           1 -0.920923  1.012139 -0.416236  0.057745\n",
       "2           2  0.675594  0.112704 -1.542468 -0.646986\n",
       "3           3  0.606981 -0.037985  0.313171 -0.735550\n",
       "4           4 -0.879359 -0.163424 -0.917578 -0.142147"
      ]
     },
     "execution_count": 75,
     "metadata": {},
     "output_type": "execute_result"
    }
   ],
   "source": [
    "pd.read_csv('foo.csv').head()"
   ]
  },
  {
   "cell_type": "markdown",
   "metadata": {},
   "source": [
    "也可以使用 to_hdf() 方法将 DataFrame 存储为 hdf 文件："
   ]
  },
  {
   "cell_type": "code",
   "execution_count": null,
   "metadata": {},
   "outputs": [],
   "source": [
    "df.to_hdf('foo.h5','df')"
   ]
  },
  {
   "cell_type": "code",
   "execution_count": null,
   "metadata": {},
   "outputs": [],
   "source": [
    "pd.read_hdf('foo.h5','df').head()"
   ]
  },
  {
   "cell_type": "markdown",
   "metadata": {},
   "source": [
    "还可以使用 to_hdf() 方法将 DataFrame 存储为 hdf 文件："
   ]
  },
  {
   "cell_type": "code",
   "execution_count": null,
   "metadata": {},
   "outputs": [],
   "source": [
    "df.to_excel('foo.xlsx', sheet_name='Sheet1')"
   ]
  },
  {
   "cell_type": "code",
   "execution_count": null,
   "metadata": {},
   "outputs": [],
   "source": [
    "pd.read_excel('foo.xlsx', 'Sheet1', index_col=None, na_values=['NA']).head()"
   ]
  },
  {
   "cell_type": "markdown",
   "metadata": {},
   "source": [
    ">## 4.Matplotlib基础\n",
    "[返回目录](#目录)\n",
    "\n",
    "Matplotlib 可以用来绘制各种静态，动态，交互式的图表。Matplotlib 可以用来绘制各种静态，动态，交互式的图表。\n",
    "\n",
    "### 4.1 Matplotlib Pyplot"
   ]
  },
  {
   "cell_type": "code",
   "execution_count": 67,
   "metadata": {},
   "outputs": [
    {
     "data": {
      "image/png": "[encoded data removed]",
      "text/plain": [
       "<Figure size 432x288 with 1 Axes>"
      ]
     },
     "metadata": {
      "needs_background": "light"
     },
     "output_type": "display_data"
    }
   ],
   "source": [
    "import numpy as np \n",
    "import matplotlib.pyplot as plt\n",
    " \n",
    "x = np.array([0, 6])\n",
    "y = np.array([0, 100])\n",
    "\n",
    "plt.plot(x,y) \n",
    "\n",
    "plt.title(\"Matplotlib demo\")  #添加标题\n",
    "plt.xlabel(\"x axis caption\")  #添加X轴标签\n",
    "plt.ylabel(\"y axis caption\")  #添加Y轴标签\n",
    "\n",
    "plt.show()"
   ]
  },
  {
   "cell_type": "markdown",
   "metadata": {},
   "source": [
    "以上实例中我们使用了 Pyplot 的 plot() 函数， plot() 函数是绘制二维图形的最基本的函数\n",
    "plot() 可以绘制点和线，语法格式如下："
   ]
  },
  {
   "cell_type": "code",
   "execution_count": null,
   "metadata": {},
   "outputs": [],
   "source": [
    "# 画单条线\n",
    "plot([x], y, [fmt], *, data=None, **kwargs)\n",
    "\n",
    "# 画多条线\n",
    "plot([x], y, [fmt], [x2], y2, [fmt2], ..., **kwargs)"
   ]
  },
  {
   "cell_type": "markdown",
   "metadata": {},
   "source": [
    "参数说明：\n",
    "* x, y：点或线的节点，x 为 x 轴数据，y 为 y 轴数据，数据可以列表或数组。\n",
    "* fmt：可选，定义基本格式（如颜色、标记和线条样式）。\n",
    "* **kwargs：可选，用在二维平面图上，设置指定属性，如标签，线的宽度等。"
   ]
  },
  {
   "cell_type": "markdown",
   "metadata": {},
   "source": [
    "### 4.2图表格式设置\n",
    "+ 颜色字符：'b' 蓝色，'m' 洋红色，'g' 绿色，'y' 黄色，'r' 红色，'k' 黑色，'w' 白色，'c' 青绿色，'#008000' RGB 颜色符串。多条曲线不指定颜色时，会自动选择不同颜色。\n",
    "+ 线型参数：'‐' 实线，'‐‐' 破折线，'‐.' 点划线，':' 虚线。\n",
    "+ 标记字符：'.' 点标记，',' 像素标记(极小点)，'o' 实心圈标记，'v' 倒三角标记，'^' 上三角标记，'>' 右三角标记，'<' 左三角标记...等等。"
   ]
  },
  {
   "cell_type": "code",
   "execution_count": 73,
   "metadata": {},
   "outputs": [
    {
     "data": {
      "text/plain": [
       "<AxesSubplot:>"
      ]
     },
     "execution_count": 73,
     "metadata": {},
     "output_type": "execute_result"
    },
    {
     "data": {
      "image/png": "[encoded data removed]",
      "text/plain": [
       "<Figure size 432x288 with 1 Axes>"
      ]
     },
     "metadata": {
      "needs_background": "light"
     },
     "output_type": "display_data"
    }
   ],
   "source": [
    "df = pd.DataFrame(np.random.randn(1000, 4),columns=['A', 'B', 'C', 'D']) \n",
    "df.plot()"
   ]
  },
  {
   "cell_type": "markdown",
   "metadata": {},
   "source": [
    "Matplotlib 可以绘制线图、散点图、等高线图、条形图、柱状图、3D 图形、甚至是图形动画等等。后续课程将会给大家一一展开讲述。"
   ]
  },
  {
   "cell_type": "markdown",
   "metadata": {},
   "source": [
    "## 4.3Matplotlib应用\n",
    "Matplotlib 通常与 NumPy 和 SciPy（Scientific Python）一起使用， 这种组合广泛用于替代 MatLab，是一个强大的科学计算环境，有助于我们通过 Python 学习数据科学或者机器学习。\n",
    "SciPy 是一个开源的 Python 算法库和数学工具包。\n",
    "SciPy 包含的模块有最优化、线性代数、积分、插值、特殊函数、快速傅里叶变换、信号处理和图像处理、常微分方程求解和其他科学与工程中常用的计算。"
   ]
  },
  {
   "cell_type": "markdown",
   "metadata": {},
   "source": [
    "**更多资料**：<br>\n",
    "NumPy 官网 http://www.numpy.org/<br>\n",
    "NumPy 源代码：https://github.com/numpy/numpy<br>\n",
    "Pandas 官网 https://pandas.pydata.org/<br>\n",
    "Pandas 源代码：https://github.com/pandas-dev/pandas<br>\n",
    "Matplotlib 官网：https://matplotlib.org/<br>\n",
    "Matplotlib 源代码：https://github.com/matplotlib/matplotlib<br>\n",
    "SciPy 官网：https://www.scipy.org/<br>\n",
    "SciPy 源代码：https://github.com/scipy/scipy<br>"
   ]
  },
  {
   "cell_type": "markdown",
   "metadata": {},
   "source": [
    "[返回顶部](#目录)"
   ]
  }
 ],
 "metadata": {
  "kernelspec": {
   "display_name": "Python 3",
   "language": "python",
   "name": "python3"
  },
  "language_info": {
   "codemirror_mode": {
    "name": "ipython",
    "version": 3
   },
   "file_extension": ".py",
   "mimetype": "text/x-python",
   "name": "python",
   "nbconvert_exporter": "python",
   "pygments_lexer": "ipython3",
   "version": "3.8.5"
  }
 },
 "nbformat": 4,
 "nbformat_minor": 4
}
